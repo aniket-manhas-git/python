{
 "cells": [
  {
   "cell_type": "markdown",
   "id": "953e7903-7608-4cdb-9dff-50cde1f76d93",
   "metadata": {},
   "source": [
    "### program to demonstrate type checking of various data types"
   ]
  },
  {
   "cell_type": "code",
   "execution_count": 9,
   "id": "5af7a572-a703-4bd4-abb2-d3dca5d34762",
   "metadata": {},
   "outputs": [
    {
     "name": "stdout",
     "output_type": "stream",
     "text": [
      "x is bool\n"
     ]
    }
   ],
   "source": [
    "x=True\n",
    "if type(x)==float:\n",
    "    print(\"x is float\")\n",
    "\n",
    "elif type(x)==int:\n",
    "    print(\"x is int\")\n",
    "\n",
    "elif type(x)==str:\n",
    "    print(\"x is string\")\n",
    "    \n",
    "else:\n",
    "    print(\"x is bool\")"
   ]
  },
  {
   "cell_type": "markdown",
   "id": "76b9d28c-5570-4b93-9c77-57d6618f3d92",
   "metadata": {},
   "source": [
    "## demonstrate the use of following built in functions"
   ]
  },
  {
   "cell_type": "markdown",
   "id": "464e2ab2-c134-469d-86c4-a9e52518f0f9",
   "metadata": {},
   "source": [
    "### abs"
   ]
  },
  {
   "cell_type": "code",
   "execution_count": 10,
   "id": "7a09241c-5e69-4520-a2fa-f0f1f2e42ff8",
   "metadata": {},
   "outputs": [
    {
     "name": "stdin",
     "output_type": "stream",
     "text": [
      "Enter a number :  -34\n"
     ]
    },
    {
     "name": "stdout",
     "output_type": "stream",
     "text": [
      "abs value is 34.0\n"
     ]
    }
   ],
   "source": [
    "x=float(input(\"Enter a number : \"))\n",
    "print(\"abs value is\",abs(x))"
   ]
  },
  {
   "cell_type": "markdown",
   "id": "1d39fac8-c1b4-414f-a2b1-91bcf8cce470",
   "metadata": {},
   "source": [
    "### len"
   ]
  },
  {
   "cell_type": "code",
   "execution_count": 11,
   "id": "1566b272-3cf2-4071-817a-6c805637993a",
   "metadata": {},
   "outputs": [
    {
     "name": "stdin",
     "output_type": "stream",
     "text": [
      "Enter a string for len : hi i'm a coder\n"
     ]
    },
    {
     "name": "stdout",
     "output_type": "stream",
     "text": [
      "length is 14\n"
     ]
    }
   ],
   "source": [
    "x=input(\"Enter a string for len :\")\n",
    "print(\"length is\",len(x))"
   ]
  },
  {
   "cell_type": "markdown",
   "id": "1219d5b6-80e4-4c3e-b309-a77b3d635179",
   "metadata": {},
   "source": [
    "### min"
   ]
  },
  {
   "cell_type": "code",
   "execution_count": 12,
   "id": "89c01edb-18ad-4595-90d7-ed62db8209ce",
   "metadata": {},
   "outputs": [
    {
     "name": "stdin",
     "output_type": "stream",
     "text": [
      "Enter a number :  43\n",
      "Enter a number :  32\n"
     ]
    },
    {
     "name": "stdout",
     "output_type": "stream",
     "text": [
      "min is 32.0\n"
     ]
    }
   ],
   "source": [
    "x=float(input(\"Enter a number : \"))\n",
    "y=float(input(\"Enter a number : \"))\n",
    "print(\"min is\",min(x,y))"
   ]
  },
  {
   "cell_type": "markdown",
   "id": "7268eda6-6b91-4e7a-b449-fa40436c6241",
   "metadata": {},
   "source": [
    "### round"
   ]
  },
  {
   "cell_type": "code",
   "execution_count": 13,
   "id": "93784b16-c348-4f91-bd26-c1ec274bcdfa",
   "metadata": {},
   "outputs": [
    {
     "name": "stdin",
     "output_type": "stream",
     "text": [
      "Enter a number :  4.6\n"
     ]
    },
    {
     "name": "stdout",
     "output_type": "stream",
     "text": [
      "Rounded value is 5\n"
     ]
    }
   ],
   "source": [
    "x=float(input(\"Enter a number : \"))\n",
    "print(\"Rounded value is\",round(x))"
   ]
  },
  {
   "cell_type": "markdown",
   "id": "5dccf0fc-29e3-4bc8-b555-30bf5a66d89c",
   "metadata": {},
   "source": [
    "### isalnum"
   ]
  },
  {
   "cell_type": "code",
   "execution_count": 14,
   "id": "c5574dce-e357-486a-ad16-9112eff350b8",
   "metadata": {},
   "outputs": [
    {
     "name": "stdin",
     "output_type": "stream",
     "text": [
      "Enter a string for isalnum :  hi coder\n"
     ]
    },
    {
     "name": "stdout",
     "output_type": "stream",
     "text": [
      "<built-in method isalnum of str object at 0x0000014756564430>\n"
     ]
    }
   ],
   "source": [
    "x=input(\"Enter a string for isalnum : \")\n",
    "y=x.isalnum\n",
    "print(y)"
   ]
  },
  {
   "cell_type": "markdown",
   "id": "550955f2-3ff7-4c4f-9c37-b8c4124e8ade",
   "metadata": {},
   "source": [
    "### type"
   ]
  },
  {
   "cell_type": "code",
   "execution_count": 15,
   "id": "42ef6aaa-0ccb-45cf-aa91-cd197cccc697",
   "metadata": {},
   "outputs": [
    {
     "name": "stdin",
     "output_type": "stream",
     "text": [
      "Enter a value :  meow\n"
     ]
    },
    {
     "name": "stdout",
     "output_type": "stream",
     "text": [
      "Type of x is <class 'str'>\n"
     ]
    }
   ],
   "source": [
    "x=input(\"Enter a value : \")\n",
    "print(\"Type of x is\",type(x))"
   ]
  },
  {
   "cell_type": "markdown",
   "id": "63b2ee30-ffe3-4af5-b88b-91b4d5143f93",
   "metadata": {},
   "source": [
    "#### "
   ]
  }
 ],
 "metadata": {
  "kernelspec": {
   "display_name": "Python 3 (ipykernel)",
   "language": "python",
   "name": "python3"
  },
  "language_info": {
   "codemirror_mode": {
    "name": "ipython",
    "version": 3
   },
   "file_extension": ".py",
   "mimetype": "text/x-python",
   "name": "python",
   "nbconvert_exporter": "python",
   "pygments_lexer": "ipython3",
   "version": "3.12.4"
  }
 },
 "nbformat": 4,
 "nbformat_minor": 5
}
