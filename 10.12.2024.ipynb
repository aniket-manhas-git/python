{
 "cells": [
  {
   "cell_type": "markdown",
   "id": "cf3f35aa-3278-4383-9a25-b9d5f9e80099",
   "metadata": {},
   "source": [
    "### Exception Handling"
   ]
  },
  {
   "cell_type": "code",
   "execution_count": 5,
   "id": "6bc2f7ad-7cfb-4cc0-8851-5a2784da1df6",
   "metadata": {},
   "outputs": [
    {
     "name": "stdout",
     "output_type": "stream",
     "text": [
      "hello\n"
     ]
    }
   ],
   "source": [
    "try:\n",
    "    5/'a'\n",
    "except ZeroDivisionError:\n",
    "    print(\"hi\")\n",
    "except:\n",
    "    print('hello')"
   ]
  },
  {
   "cell_type": "code",
   "execution_count": 6,
   "id": "077957ad-7927-43cf-8d0c-f0b48034bd86",
   "metadata": {},
   "outputs": [
    {
     "name": "stdout",
     "output_type": "stream",
     "text": [
      "name 'b' is not defined\n"
     ]
    }
   ],
   "source": [
    "try:\n",
    "    a=5\n",
    "    b\n",
    "    print(a+b)\n",
    "\n",
    "except NameError as e:\n",
    "    print(e)"
   ]
  },
  {
   "cell_type": "code",
   "execution_count": 16,
   "id": "a60d8c70-61b0-4e60-98dc-d1c44853f3fe",
   "metadata": {},
   "outputs": [],
   "source": [
    "dic={\n",
    "    1:'hi'\n",
    "}"
   ]
  },
  {
   "cell_type": "code",
   "execution_count": 18,
   "id": "94352c80-1587-4626-83aa-98889e890e2c",
   "metadata": {},
   "outputs": [
    {
     "ename": "KeyError",
     "evalue": "0",
     "output_type": "error",
     "traceback": [
      "\u001b[1;31m---------------------------------------------------------------------------\u001b[0m",
      "\u001b[1;31mKeyError\u001b[0m                                  Traceback (most recent call last)",
      "Cell \u001b[1;32mIn[18], line 1\u001b[0m\n\u001b[1;32m----> 1\u001b[0m \u001b[38;5;28mprint\u001b[39m(\u001b[43mdic\u001b[49m\u001b[43m[\u001b[49m\u001b[38;5;241;43m0\u001b[39;49m\u001b[43m]\u001b[49m)\n",
      "\u001b[1;31mKeyError\u001b[0m: 0"
     ]
    }
   ],
   "source": [
    "print(dic[0])"
   ]
  },
  {
   "cell_type": "code",
   "execution_count": null,
   "id": "b33479af-9b5d-4b21-8c16-6c7787b0a725",
   "metadata": {},
   "outputs": [],
   "source": [
    "KeyError"
   ]
  },
  {
   "cell_type": "code",
   "execution_count": 25,
   "id": "72d6819c-da9e-4445-a588-700c3e6f35c2",
   "metadata": {},
   "outputs": [],
   "source": [
    "def function(l1,l2):\n",
    "    l1.extend(l2)\n",
    "    print(l1)"
   ]
  },
  {
   "cell_type": "code",
   "execution_count": 29,
   "id": "f7f57a10-946b-40f4-8f4b-2febde57973f",
   "metadata": {},
   "outputs": [
    {
     "name": "stdout",
     "output_type": "stream",
     "text": [
      "Need 2 list\n"
     ]
    }
   ],
   "source": [
    "try:\n",
    "    function([1,2,3])\n",
    "except TypeError:\n",
    "    print('Need 2 list')\n",
    "except:\n",
    "    print('Error')"
   ]
  },
  {
   "cell_type": "code",
   "execution_count": 43,
   "id": "015b7777-00b0-4d47-8ca7-e34213ec5a08",
   "metadata": {},
   "outputs": [],
   "source": [
    "def div():\n",
    "    num1=int(input('Enter first number : '))\n",
    "    num2=int(input('Enter second number : '))\n",
    "    print(num1/num2)"
   ]
  },
  {
   "cell_type": "code",
   "execution_count": 45,
   "id": "841cc09b-5b94-4e64-9db0-db06f62a4d37",
   "metadata": {},
   "outputs": [
    {
     "name": "stdin",
     "output_type": "stream",
     "text": [
      "Enter first number :  2\n",
      "Enter second number :  4\n"
     ]
    },
    {
     "name": "stdout",
     "output_type": "stream",
     "text": [
      "0.5\n"
     ]
    }
   ],
   "source": [
    "try:\n",
    "    div()\n",
    "except ValueError:\n",
    "    print(\"value error both value must be integer type\")\n",
    "except ZeroDivisionError:\n",
    "    print(\"second value cant be 0\")\n",
    "except Exception:\n",
    "    print('Exception')"
   ]
  },
  {
   "cell_type": "code",
   "execution_count": 89,
   "id": "53b57f37-2918-402b-b4ef-ed3c160c549f",
   "metadata": {},
   "outputs": [
    {
     "name": "stdout",
     "output_type": "stream",
     "text": [
      "w+ stand for write and read where we can write and read at the same time\n",
      "1st we need to write and then we use \"file.read()\" to print the file\n",
      "\n"
     ]
    }
   ],
   "source": [
    "with open('advance mode','w+') as file:\n",
    "    file.write('w+ stand for write and read where we can write and read at the same time\\n')\n",
    "    file.write('1st we need to write and then we use \"file.read()\" to print the file\\n')\n",
    "    file.seek(0)\n",
    "    print(file.read())\n",
    "    file.close()"
   ]
  },
  {
   "cell_type": "code",
   "execution_count": 90,
   "id": "feb05877-268e-49b9-ace8-3771257ae436",
   "metadata": {},
   "outputs": [
    {
     "name": "stdout",
     "output_type": "stream",
     "text": [
      "w+ stand for write and read where we can write and read at the same time\n",
      "1st we need to write and then we use \"file.read()\" to print the file\n",
      "a+ is use for append and read where we can append any line\n",
      "then we can print all the lines of the file using \"file.read()\n"
     ]
    }
   ],
   "source": [
    "with open('advance mode','a+') as file:\n",
    "    file.write('a+ is use for append and read where we can append any line\\n')\n",
    "    file.write('then we can print all the lines of the file using \"file.read()')\n",
    "    file.seek(0)\n",
    "    print(file.read())\n",
    "    file.close()"
   ]
  },
  {
   "cell_type": "code",
   "execution_count": 91,
   "id": "65d5b098-76c1-4901-a17d-39d18a4e9537",
   "metadata": {},
   "outputs": [
    {
     "name": "stdout",
     "output_type": "stream",
     "text": [
      "r+ is for read and write\n",
      "d where we can write and read at the same time\n",
      "1st we need to write and then we use \"file.read()\" to print the file\n",
      "a+ is use for append and read where we can append any line\n",
      "then we can print all the lines of the file using \"file.read()\n"
     ]
    }
   ],
   "source": [
    "with open ('advance mode','r+') as file:\n",
    "    file.seek(0)\n",
    "    file.write('r+ is for read and write\\n')\n",
    "    file.seek(0)\n",
    "    print(file.read())\n",
    "    file.close()"
   ]
  },
  {
   "cell_type": "code",
   "execution_count": null,
   "id": "67408afd-3f83-46b7-a575-2ce880a51ac7",
   "metadata": {},
   "outputs": [],
   "source": []
  }
 ],
 "metadata": {
  "kernelspec": {
   "display_name": "Python 3 (ipykernel)",
   "language": "python",
   "name": "python3"
  },
  "language_info": {
   "codemirror_mode": {
    "name": "ipython",
    "version": 3
   },
   "file_extension": ".py",
   "mimetype": "text/x-python",
   "name": "python",
   "nbconvert_exporter": "python",
   "pygments_lexer": "ipython3",
   "version": "3.12.4"
  }
 },
 "nbformat": 4,
 "nbformat_minor": 5
}
