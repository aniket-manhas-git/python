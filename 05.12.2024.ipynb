{
 "cells": [
  {
   "cell_type": "code",
   "execution_count": 1,
   "id": "ee382acf-a911-4429-a7bb-2466febe56d8",
   "metadata": {},
   "outputs": [],
   "source": [
    "import csv"
   ]
  },
  {
   "cell_type": "code",
   "execution_count": 21,
   "id": "d9df02f1-02b2-4cf5-ad30-03291b56e92a",
   "metadata": {},
   "outputs": [],
   "source": [
    "with open('new1.csv','w') as c:\n",
    "    file=csv.writer(c)\n",
    "    l=['Name','Subject']\n",
    "    file.writerow(l)"
   ]
  },
  {
   "cell_type": "code",
   "execution_count": 22,
   "id": "21791f7f-d1d2-4598-b9a2-9ab0b84febc9",
   "metadata": {},
   "outputs": [
    {
     "name": "stdout",
     "output_type": "stream",
     "text": [
      "['Name', 'Subject']\n",
      "[]\n"
     ]
    }
   ],
   "source": [
    "with open('new1.csv','r') as c:\n",
    "    file=csv.reader(c)\n",
    "    for i in file:\n",
    "        print(i)"
   ]
  },
  {
   "cell_type": "code",
   "execution_count": 23,
   "id": "1b8d1724-a50b-4ce9-b925-25b30ab1f6e1",
   "metadata": {},
   "outputs": [
    {
     "name": "stdout",
     "output_type": "stream",
     "text": [
      "['Name', 'Subject']\n",
      "[]\n"
     ]
    }
   ],
   "source": [
    "with open('new1.csv','r') as c:\n",
    "    file=csv.reader(c)\n",
    "    for i in file:\n",
    "        print(i)"
   ]
  },
  {
   "cell_type": "code",
   "execution_count": 24,
   "id": "4c808323-5250-4549-8095-a2f566785b3c",
   "metadata": {},
   "outputs": [
    {
     "name": "stdout",
     "output_type": "stream",
     "text": [
      "['Name', 'Subject']\n",
      "[]\n"
     ]
    },
    {
     "ename": "ValueError",
     "evalue": "I/O operation on closed file.",
     "output_type": "error",
     "traceback": [
      "\u001b[1;31m---------------------------------------------------------------------------\u001b[0m",
      "\u001b[1;31mValueError\u001b[0m                                Traceback (most recent call last)",
      "Cell \u001b[1;32mIn[24], line 7\u001b[0m\n\u001b[0;32m      5\u001b[0m \u001b[38;5;28;01mwith\u001b[39;00m \u001b[38;5;28mopen\u001b[39m(\u001b[38;5;124m'\u001b[39m\u001b[38;5;124mnew1.csv\u001b[39m\u001b[38;5;124m'\u001b[39m,\u001b[38;5;124m'\u001b[39m\u001b[38;5;124mw\u001b[39m\u001b[38;5;124m'\u001b[39m) \u001b[38;5;28;01mas\u001b[39;00m c:\n\u001b[0;32m      6\u001b[0m     file1\u001b[38;5;241m=\u001b[39mcsv\u001b[38;5;241m.\u001b[39mwriter(c)\n\u001b[1;32m----> 7\u001b[0m     \u001b[43mfile1\u001b[49m\u001b[38;5;241;43m.\u001b[39;49m\u001b[43mwriterow\u001b[49m\u001b[43m(\u001b[49m\u001b[43mfile\u001b[49m\u001b[43m)\u001b[49m\n",
      "\u001b[1;31mValueError\u001b[0m: I/O operation on closed file."
     ]
    }
   ],
   "source": [
    "with open('new1.csv','r') as c:\n",
    "    file=csv.reader(c)\n",
    "    for i in file:\n",
    "        print(i)\n",
    "with open('new1.csv','w') as c:\n",
    "    file1=csv.writer(c)\n",
    "    file1.writerow(file)"
   ]
  },
  {
   "cell_type": "code",
   "execution_count": null,
   "id": "692510e1-b8c7-4ce0-a37c-5f6166439c62",
   "metadata": {},
   "outputs": [],
   "source": []
  }
 ],
 "metadata": {
  "kernelspec": {
   "display_name": "Python 3 (ipykernel)",
   "language": "python",
   "name": "python3"
  },
  "language_info": {
   "codemirror_mode": {
    "name": "ipython",
    "version": 3
   },
   "file_extension": ".py",
   "mimetype": "text/x-python",
   "name": "python",
   "nbconvert_exporter": "python",
   "pygments_lexer": "ipython3",
   "version": "3.12.4"
  }
 },
 "nbformat": 4,
 "nbformat_minor": 5
}
