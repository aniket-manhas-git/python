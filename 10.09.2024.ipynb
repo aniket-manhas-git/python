{
 "cells": [
  {
   "cell_type": "code",
   "execution_count": 1,
   "id": "dffb38eb-c3ea-4fa7-bd5f-91fd3873276d",
   "metadata": {},
   "outputs": [],
   "source": [
    "#if x is more than 100 and odd calculate square\n",
    "#if x is more than 100 and even calculate square root\n",
    "#if x is less than 100 and odd calculate cube\n",
    "#if x is less than 100 and even calculate cube root\n",
    "## else : print x is equal to 100"
   ]
  },
  {
   "cell_type": "code",
   "execution_count": 5,
   "id": "f1a5cc52-b6c0-4df9-80c5-91fc38c14af6",
   "metadata": {},
   "outputs": [
    {
     "name": "stdin",
     "output_type": "stream",
     "text": [
      "enter the value: 91\n"
     ]
    },
    {
     "name": "stdout",
     "output_type": "stream",
     "text": [
      "753571.0 cube of x cuz it is odd and <100\n"
     ]
    }
   ],
   "source": [
    "x=float(input(\"enter the value:\"))\n",
    "if x>100 and x%2!=0:\n",
    "    print(x**2,\"square of x cuz it is odd and >100\")\n",
    "\n",
    "elif x>100 and x%2==0:\n",
    "    print(x**(1/2),\"sqrt of x cuz it is even and <100\")\n",
    "\n",
    "elif x<100 and x%2==0:\n",
    "    print(x**(1/3),\"cube of x cuz it is <100 and even\")\n",
    "\n",
    "elif x<100 and x%2!=0:\n",
    "    print(x**3,\"cube of x cuz it is odd and <100\")\n",
    "\n",
    "else:\n",
    "    print(x,\"equal to 100\")"
   ]
  },
  {
   "cell_type": "code",
   "execution_count": 6,
   "id": "55a70ba6-19ff-448e-a57d-7bda69fa28e9",
   "metadata": {},
   "outputs": [
    {
     "name": "stdout",
     "output_type": "stream",
     "text": [
      "x is bool\n"
     ]
    }
   ],
   "source": [
    "x=True\n",
    "if type(x)==float:\n",
    "    print(\"x is float\")\n",
    "\n",
    "elif type(x)==int:\n",
    "    print(\"x is int\")\n",
    "\n",
    "elif type(x)==str:\n",
    "    print(\"x is string\")\n",
    "\n",
    "else:\n",
    "    print(\"x is bool\")"
   ]
  },
  {
   "cell_type": "code",
   "execution_count": 7,
   "id": "d2e4a30d-d65c-4b6b-af1d-2e31b6851f14",
   "metadata": {},
   "outputs": [
    {
     "name": "stdin",
     "output_type": "stream",
     "text": [
      "enter the string hidegfbrgbfgbd\n"
     ]
    },
    {
     "name": "stdout",
     "output_type": "stream",
     "text": [
      "does not start with a\n"
     ]
    }
   ],
   "source": [
    "s=input(\"enter the string\")\n",
    "if s[0]==\"a\":\n",
    "    print(\"string starts with a\")\n",
    "\n",
    "else:\n",
    "    print(\"does not start with a\")"
   ]
  },
  {
   "cell_type": "code",
   "execution_count": 12,
   "id": "ea2e1cd4-16be-4509-9f8a-7f43d4ea2566",
   "metadata": {},
   "outputs": [
    {
     "name": "stdin",
     "output_type": "stream",
     "text": [
      "enter the string nujfewB\n"
     ]
    },
    {
     "name": "stdout",
     "output_type": "stream",
     "text": [
      "does not start with t\n"
     ]
    }
   ],
   "source": [
    "s=input(\"enter the string\")\n",
    "if s[-1]==\"t\":\n",
    "    print(\"string ends with t\")\n",
    "\n",
    "else:\n",
    "    print(\"does not start with t\")"
   ]
  },
  {
   "cell_type": "code",
   "execution_count": 13,
   "id": "a4c7f695-cfd7-4383-9e3a-1022be1cfb6f",
   "metadata": {},
   "outputs": [],
   "source": [
    "#check if string starts with a and ends with a\n",
    "#check is string starts with a and ends with r\n",
    "#check if string does not start with a and ends with a"
   ]
  },
  {
   "cell_type": "code",
   "execution_count": 14,
   "id": "927cf26d-d7a1-4bf5-8e77-2014b4784878",
   "metadata": {},
   "outputs": [
    {
     "name": "stdin",
     "output_type": "stream",
     "text": [
      "enter the string nbuvriqhlueoh3r\n"
     ]
    },
    {
     "name": "stdout",
     "output_type": "stream",
     "text": [
      "does not start and end with a\n"
     ]
    }
   ],
   "source": [
    "s=input(\"enter the string\")\n",
    "if s[0]==\"a\" and s[-1]==\"a\":\n",
    "    print(\"string starts with a and ends with a\")\n",
    "\n",
    "elif s[0]==\"a\" and s[-1]==\"r\":\n",
    "    print(\"start with a and ends with r\")\n",
    "\n",
    "elif s[0]!=\"a\" and s[-1]!=\"a\":\n",
    "    print(\"does not start and end with a\")\n",
    "\n",
    "else:\n",
    "    print(\"there is no condition\")"
   ]
  },
  {
   "cell_type": "code",
   "execution_count": 15,
   "id": "a21a1917-8507-40d8-b533-46f0c59ff922",
   "metadata": {},
   "outputs": [],
   "source": [
    "#check if the first letter is uppercase or lowercase"
   ]
  },
  {
   "cell_type": "code",
   "execution_count": 16,
   "id": "7878f6f9-0989-4b59-94ab-089a81fa443e",
   "metadata": {},
   "outputs": [
    {
     "data": {
      "text/plain": [
       "'n'"
      ]
     },
     "execution_count": 16,
     "metadata": {},
     "output_type": "execute_result"
    }
   ],
   "source": [
    "s[0]"
   ]
  },
  {
   "cell_type": "code",
   "execution_count": 17,
   "id": "0dd99842-2caa-4974-8a36-cb6cf9f551fa",
   "metadata": {},
   "outputs": [
    {
     "data": {
      "text/plain": [
       "False"
      ]
     },
     "execution_count": 17,
     "metadata": {},
     "output_type": "execute_result"
    }
   ],
   "source": [
    "s[0].isupper()"
   ]
  },
  {
   "cell_type": "code",
   "execution_count": 18,
   "id": "846f4019-9974-4cd6-9b02-b24a9869b384",
   "metadata": {},
   "outputs": [
    {
     "data": {
      "text/plain": [
       "'N'"
      ]
     },
     "execution_count": 18,
     "metadata": {},
     "output_type": "execute_result"
    }
   ],
   "source": [
    "s[0].upper()"
   ]
  },
  {
   "cell_type": "code",
   "execution_count": 20,
   "id": "5e3c482d-c198-4ea7-a297-aa9a5dea58ac",
   "metadata": {},
   "outputs": [
    {
     "name": "stdin",
     "output_type": "stream",
     "text": [
      "enter the string Ancuerhnfu45\n"
     ]
    },
    {
     "name": "stdout",
     "output_type": "stream",
     "text": [
      "uppercase\n"
     ]
    }
   ],
   "source": [
    "s=input(\"enter the string\")\n",
    "if s[0].isupper():\n",
    "    print(\"uppercase\")\n",
    "\n",
    "else:\n",
    "    print(\"lowercase\")"
   ]
  },
  {
   "cell_type": "code",
   "execution_count": 21,
   "id": "885f9ef5-667c-4efe-8c14-6aa9b3f91599",
   "metadata": {},
   "outputs": [],
   "source": [
    "#check if the length of string is more than 6 or not"
   ]
  },
  {
   "cell_type": "code",
   "execution_count": 24,
   "id": "b2c5078a-4a00-440e-903f-dd30f1e79c1d",
   "metadata": {},
   "outputs": [
    {
     "name": "stdin",
     "output_type": "stream",
     "text": [
      "string uytres\n"
     ]
    },
    {
     "name": "stdout",
     "output_type": "stream",
     "text": [
      "length of string is equal to 6\n"
     ]
    }
   ],
   "source": [
    "f=input(\"string\")\n",
    "if len(f)>6:\n",
    "    print(\"length of string is more than 6\")\n",
    "elif len(f)==6:\n",
    "    print(\"length of string is equal to 6\")\n",
    "else:\n",
    "    print(\"length of string is not more than 6\")"
   ]
  },
  {
   "cell_type": "code",
   "execution_count": 23,
   "id": "f18d34e5-f64d-4fe3-b26c-a472654350bf",
   "metadata": {},
   "outputs": [],
   "source": [
    "#check if the count of spaces is more than 5 or not"
   ]
  },
  {
   "cell_type": "code",
   "execution_count": 25,
   "id": "307b916d-dca6-43f9-be15-d1f1864f7b0d",
   "metadata": {},
   "outputs": [
    {
     "name": "stdin",
     "output_type": "stream",
     "text": [
      "string xeb jnciu3hf jnciuh34f\n"
     ]
    },
    {
     "name": "stdout",
     "output_type": "stream",
     "text": [
      "number of spaces is not more than 5\n"
     ]
    }
   ],
   "source": [
    "a=input(\"string\")\n",
    "if a.count(\" \")>5:\n",
    "    print(\"number of spaces is more than 5\")\n",
    "\n",
    "else:\n",
    "    print(\"number of spaces is not more than 5\")"
   ]
  },
  {
   "cell_type": "code",
   "execution_count": 26,
   "id": "581284c2-3089-4051-8fed-e5c7a0eeb070",
   "metadata": {},
   "outputs": [],
   "source": [
    "#write a program to demonstrate type checking of various data types and demonstrate the use of following built in functions in python ex: abs(), len(),\n",
    "#min(), round(), isalnum(), type()"
   ]
  },
  {
   "cell_type": "code",
   "execution_count": null,
   "id": "d4c2e8eb-7c54-492d-8477-58ee67757946",
   "metadata": {},
   "outputs": [],
   "source": []
  }
 ],
 "metadata": {
  "kernelspec": {
   "display_name": "Python 3 (ipykernel)",
   "language": "python",
   "name": "python3"
  },
  "language_info": {
   "codemirror_mode": {
    "name": "ipython",
    "version": 3
   },
   "file_extension": ".py",
   "mimetype": "text/x-python",
   "name": "python",
   "nbconvert_exporter": "python",
   "pygments_lexer": "ipython3",
   "version": "3.12.4"
  }
 },
 "nbformat": 4,
 "nbformat_minor": 5
}
