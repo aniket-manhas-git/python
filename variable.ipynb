{
 "cells": [
  {
   "cell_type": "code",
   "execution_count": 1,
   "id": "8ef4a70d-6a9b-4e55-80c7-676d05638db7",
   "metadata": {},
   "outputs": [],
   "source": [
    "# there is a logical length for variable name\n",
    "# not allowed to use reserverd keywords\n"
   ]
  },
  {
   "cell_type": "code",
   "execution_count": 2,
   "id": "18944d8f-b955-4f25-a072-171be051991b",
   "metadata": {},
   "outputs": [],
   "source": [
    "# >   greater than\n",
    "# <   less than\n",
    "# >=  greater than equals to\n",
    "# <=  less than equals to \n",
    "# ==  equals\n",
    "# !=  not equals"
   ]
  },
  {
   "cell_type": "code",
   "execution_count": 2,
   "id": "00ffb46d-e3f6-4310-a54d-4dd4a28a0f3a",
   "metadata": {},
   "outputs": [],
   "source": [
    "q=5\n",
    "w=5.5\n",
    "e='hello'\n",
    "t=True\n"
   ]
  },
  {
   "cell_type": "code",
   "execution_count": 3,
   "id": "60dbb29c-56ed-422e-850a-b88bac8a1e3c",
   "metadata": {},
   "outputs": [
    {
     "data": {
      "text/plain": [
       "False"
      ]
     },
     "execution_count": 3,
     "metadata": {},
     "output_type": "execute_result"
    }
   ],
   "source": [
    "a=0\n",
    "a=bool(a)\n",
    "type(a)\n",
    "a"
   ]
  },
  {
   "cell_type": "code",
   "execution_count": 4,
   "id": "82155346-ad24-41a8-b00b-cf614e7d7f05",
   "metadata": {},
   "outputs": [
    {
     "name": "stdout",
     "output_type": "stream",
     "text": [
      "Variable   Type     Data/Info\n",
      "-----------------------------\n",
      "a          bool     False\n",
      "e          str      hello\n",
      "q          int      5\n",
      "t          bool     True\n",
      "w          float    5.5\n"
     ]
    }
   ],
   "source": [
    "%whos"
   ]
  },
  {
   "cell_type": "code",
   "execution_count": 5,
   "id": "23ce4b5c-3420-4936-965d-8db1464696cf",
   "metadata": {},
   "outputs": [],
   "source": [
    "del(a)      #delete variable"
   ]
  },
  {
   "cell_type": "code",
   "execution_count": 6,
   "id": "f1b96f2a-e02b-47de-89b5-be7c3b00ad95",
   "metadata": {},
   "outputs": [],
   "source": [
    "h=45"
   ]
  },
  {
   "cell_type": "code",
   "execution_count": 7,
   "id": "31d0bd87-8a65-4fc9-b33c-b61aab5b07ed",
   "metadata": {},
   "outputs": [
    {
     "data": {
      "text/plain": [
       "'45'"
      ]
     },
     "execution_count": 7,
     "metadata": {},
     "output_type": "execute_result"
    }
   ],
   "source": [
    "str(h)"
   ]
  },
  {
   "cell_type": "code",
   "execution_count": 1,
   "id": "2782b2b3-8e8c-4c16-a062-7687248cbcd9",
   "metadata": {},
   "outputs": [],
   "source": [
    "st=\"hello potter meet me at the dhop or mail me on python@gmail.com at 9:30 PM\""
   ]
  },
  {
   "cell_type": "code",
   "execution_count": 2,
   "id": "6f282b18-2c5d-4248-8686-280d7f7eb562",
   "metadata": {},
   "outputs": [
    {
     "name": "stdin",
     "output_type": "stream",
     "text": [
      "Enter a number : 4\n"
     ]
    },
    {
     "data": {
      "text/plain": [
       "4"
      ]
     },
     "execution_count": 2,
     "metadata": {},
     "output_type": "execute_result"
    }
   ],
   "source": [
    "\n",
    "a=int(input(\"Enter a number :\"))\n",
    "a"
   ]
  },
  {
   "cell_type": "code",
   "execution_count": null,
   "id": "b01fc330-ce6d-4ff8-be7a-14523cc0106f",
   "metadata": {},
   "outputs": [],
   "source": []
  },
  {
   "cell_type": "code",
   "execution_count": 5,
   "id": "f43e063a-4e0b-4617-9dbf-b3780458aa57",
   "metadata": {},
   "outputs": [
    {
     "data": {
      "text/plain": [
       "'hello potter meet me at the dhop or mail me on python@gmail.com at 9:30 PM'"
      ]
     },
     "execution_count": 5,
     "metadata": {},
     "output_type": "execute_result"
    }
   ],
   "source": [
    "# len(st)\n",
    "# st.upper()\n",
    "# st.lower()\n",
    "# st.capitalize()\n",
    "st.removeprefix('potter')\n",
    "# st.removesuffix()\n",
    "# st.split()\n",
    "# st.title()"
   ]
  },
  {
   "cell_type": "code",
   "execution_count": null,
   "id": "bb1b292c-004b-4d9a-aa35-3e64317ba5ac",
   "metadata": {},
   "outputs": [],
   "source": []
  },
  {
   "cell_type": "code",
   "execution_count": 15,
   "id": "b3c8b3d3-e2d5-4385-b915-ae0cf6c1aae7",
   "metadata": {},
   "outputs": [],
   "source": [
    "t=\"there are many people in the world but i don't know any of them\""
   ]
  },
  {
   "cell_type": "code",
   "execution_count": 16,
   "id": "8078285f-38da-4a53-b3b5-394d76832884",
   "metadata": {},
   "outputs": [
    {
     "data": {
      "text/plain": [
       "15"
      ]
     },
     "execution_count": 16,
     "metadata": {},
     "output_type": "execute_result"
    }
   ],
   "source": [
    "t.find(\"people\")"
   ]
  },
  {
   "cell_type": "code",
   "execution_count": 18,
   "id": "430d521b-dd09-4b26-9a79-78c93c1336d1",
   "metadata": {},
   "outputs": [
    {
     "data": {
      "text/plain": [
       "47"
      ]
     },
     "execution_count": 18,
     "metadata": {},
     "output_type": "execute_result"
    }
   ],
   "source": [
    "t.find(\"know any of\")"
   ]
  },
  {
   "cell_type": "code",
   "execution_count": 19,
   "id": "fbff8d63-f8f2-4f1b-bfe3-1c1ec58e085c",
   "metadata": {},
   "outputs": [
    {
     "data": {
      "text/plain": [
       "29"
      ]
     },
     "execution_count": 19,
     "metadata": {},
     "output_type": "execute_result"
    }
   ],
   "source": [
    "t.find(\"world\")"
   ]
  },
  {
   "cell_type": "code",
   "execution_count": 20,
   "id": "549b6497-0738-4c73-9c6f-1511346723b3",
   "metadata": {},
   "outputs": [
    {
     "data": {
      "text/plain": [
       "6"
      ]
     },
     "execution_count": 20,
     "metadata": {},
     "output_type": "execute_result"
    }
   ],
   "source": [
    "t.find(\"are many people in the\")"
   ]
  },
  {
   "cell_type": "code",
   "execution_count": 28,
   "id": "0085965b-8ce2-4698-8132-52ce54bc5596",
   "metadata": {},
   "outputs": [
    {
     "data": {
      "text/plain": [
       "25"
      ]
     },
     "execution_count": 28,
     "metadata": {},
     "output_type": "execute_result"
    }
   ],
   "source": [
    "t.find(\"the\",2)"
   ]
  },
  {
   "cell_type": "code",
   "execution_count": 31,
   "id": "50052cea-c92b-48ae-aeac-866160741820",
   "metadata": {},
   "outputs": [
    {
     "data": {
      "text/plain": [
       "3"
      ]
     },
     "execution_count": 31,
     "metadata": {},
     "output_type": "execute_result"
    }
   ],
   "source": [
    "t.count('the')"
   ]
  },
  {
   "cell_type": "code",
   "execution_count": 23,
   "id": "4763f3fe-5dec-4afe-8397-184e4ce8a04e",
   "metadata": {},
   "outputs": [],
   "source": [
    "s='helo harry, please meet me @ coffee shop or email me @ Python@gmail.com @11:00 am'"
   ]
  },
  {
   "cell_type": "code",
   "execution_count": 27,
   "id": "864200ed-290f-45f2-be61-c52275ab6af2",
   "metadata": {},
   "outputs": [
    {
     "data": {
      "text/plain": [
       "'PYTHON@GMAIL.COM'"
      ]
     },
     "execution_count": 27,
     "metadata": {},
     "output_type": "execute_result"
    }
   ],
   "source": [
    "s[55:71].upper()"
   ]
  },
  {
   "cell_type": "code",
   "execution_count": 31,
   "id": "165afaf2-b482-4c9f-bc42-2b0dcbf4256f",
   "metadata": {},
   "outputs": [
    {
     "data": {
      "text/plain": [
       "['robin',\n",
       " 'said',\n",
       " 'to',\n",
       " 'harry',\n",
       " 'that',\n",
       " 'helo',\n",
       " 'harry,',\n",
       " 'please',\n",
       " 'meet',\n",
       " 'me',\n",
       " '@',\n",
       " 'coffee',\n",
       " 'shop',\n",
       " 'or',\n",
       " 'email',\n",
       " 'me',\n",
       " '@',\n",
       " 'Python@gmail.com',\n",
       " '@11:00',\n",
       " 'am',\n",
       " 'harry',\n",
       " 'replied',\n",
       " 'ok',\n",
       " \"i'll\",\n",
       " 'be',\n",
       " 'there']"
      ]
     },
     "execution_count": 31,
     "metadata": {},
     "output_type": "execute_result"
    }
   ],
   "source": [
    "s.split()"
   ]
  },
  {
   "cell_type": "code",
   "execution_count": 29,
   "id": "3fe44be4-7fb5-4480-ae76-f68919fff90d",
   "metadata": {},
   "outputs": [
    {
     "data": {
      "text/plain": [
       "'robin said to harry that helo harry, please meet me @ coffee shop or email me @ Python@gmail.com @11:00 am'"
      ]
     },
     "execution_count": 29,
     "metadata": {},
     "output_type": "execute_result"
    }
   ],
   "source": [
    "t=s\n",
    "s=\"robin said to harry that \"\n",
    "s=s+t\n",
    "s"
   ]
  },
  {
   "cell_type": "code",
   "execution_count": 30,
   "id": "ce22505a-3784-4a79-96ea-33e2261b0083",
   "metadata": {},
   "outputs": [
    {
     "data": {
      "text/plain": [
       "\"robin said to harry that helo harry, please meet me @ coffee shop or email me @ Python@gmail.com @11:00 am harry replied ok i'll be there\""
      ]
     },
     "execution_count": 30,
     "metadata": {},
     "output_type": "execute_result"
    }
   ],
   "source": [
    "s=s+\" harry replied ok i'll be there\"\n",
    "s"
   ]
  },
  {
   "cell_type": "code",
   "execution_count": 33,
   "id": "91337983-c5c7-4966-85e0-4f9a7a61bd18",
   "metadata": {},
   "outputs": [],
   "source": [
    "e='Example'"
   ]
  },
  {
   "cell_type": "code",
   "execution_count": 41,
   "id": "862a9ab2-d0fa-42c6-8fa8-c209578ceac4",
   "metadata": {},
   "outputs": [
    {
     "data": {
      "text/plain": [
       "'elpmaxe'"
      ]
     },
     "execution_count": 41,
     "metadata": {},
     "output_type": "execute_result"
    }
   ],
   "source": [
    "e=e.lower()\n",
    "e[::-1]"
   ]
  },
  {
   "cell_type": "code",
   "execution_count": 37,
   "id": "af16acf8-f9ce-40c3-b22a-b38f59e19eb3",
   "metadata": {},
   "outputs": [],
   "source": [
    "g='0123456789'"
   ]
  },
  {
   "cell_type": "code",
   "execution_count": 38,
   "id": "3b32ffa1-7691-426a-8d8e-bbc29cc99aa7",
   "metadata": {},
   "outputs": [
    {
     "data": {
      "text/plain": [
       "'02468'"
      ]
     },
     "execution_count": 38,
     "metadata": {},
     "output_type": "execute_result"
    }
   ],
   "source": [
    "g[0::2]"
   ]
  },
  {
   "cell_type": "code",
   "execution_count": null,
   "id": "d8689311-cb51-45f2-8f94-7a3e62c59da6",
   "metadata": {},
   "outputs": [],
   "source": []
  }
 ],
 "metadata": {
  "kernelspec": {
   "display_name": "Python 3 (ipykernel)",
   "language": "python",
   "name": "python3"
  },
  "language_info": {
   "codemirror_mode": {
    "name": "ipython",
    "version": 3
   },
   "file_extension": ".py",
   "mimetype": "text/x-python",
   "name": "python",
   "nbconvert_exporter": "python",
   "pygments_lexer": "ipython3",
   "version": "3.12.4"
  }
 },
 "nbformat": 4,
 "nbformat_minor": 5
}
