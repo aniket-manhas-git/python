{
 "cells": [
  {
   "cell_type": "code",
   "execution_count": 47,
   "id": "a71c22f5-b7c0-4ed8-a49a-02034e0b7eb4",
   "metadata": {},
   "outputs": [
    {
     "name": "stdout",
     "output_type": "stream",
     "text": [
      "1 we are learning file handling\n",
      "2 the file handling is used to handle the file in each and every way possible\n",
      "3 in the file handling we can create a text file and can also insert lines in the file\n",
      "4 the basic syntax of the file handling is variable_name = open('file_name','w')\n",
      "5 mode 'w' is used to write or insert any line in the file\n",
      "6 the syantax for append a line variable_name = open('file_name','a')\n",
      "\n"
     ]
    }
   ],
   "source": [
    "file=open('test','r')\n",
    "print(file.read())\n",
    "file.close()"
   ]
  },
  {
   "cell_type": "markdown",
   "id": "0d89d522-5c66-4ece-bbf7-857ed2755610",
   "metadata": {},
   "source": [
    "### Printing all unique words in alphabetical order"
   ]
  },
  {
   "cell_type": "code",
   "execution_count": 48,
   "id": "fc6fe7e0-218a-45d1-8900-345e74f13086",
   "metadata": {},
   "outputs": [
    {
     "name": "stdout",
     "output_type": "stream",
     "text": [
      "[\"'w'\", '1', '2', '3', '4', '5', '6', '=', 'a', 'also', 'and', 'any', 'append', 'are', 'basic', 'can', 'create', 'each', 'every', 'file', 'for', 'handle', 'handling', 'in', 'insert', 'is', 'learning', 'line', 'lines', 'mode', 'of', \"open('file_name','a')\", \"open('file_name','w')\", 'or', 'possible', 'syantax', 'syntax', 'text', 'the', 'to', 'used', 'variable_name', 'way', 'we', 'write']\n"
     ]
    }
   ],
   "source": [
    "file=open('test','r')\n",
    "q=[]\n",
    "t=((file.readlines()))\n",
    "for i in t:\n",
    "    for j in i.split():\n",
    "        q.append(j)\n",
    "q=set(q)\n",
    "q=list(q)\n",
    "q.sort()\n",
    "print(q)\n",
    "file.close()"
   ]
  },
  {
   "cell_type": "code",
   "execution_count": 49,
   "id": "7ee4b289-9471-427b-844a-6a96a7960a59",
   "metadata": {},
   "outputs": [],
   "source": [
    "file=open('test','r')\n",
    "f=file.readlines()\n",
    "f[0]=f[0].replace(\"handling\",\"handling in the python\")\n",
    "file.close()\n",
    "file=open('test','w')\n",
    "for i in f:\n",
    "    file.write(i)\n",
    "file.close()"
   ]
  },
  {
   "cell_type": "code",
   "execution_count": 50,
   "id": "9b1f62e0-44c7-433c-abed-cbb50202280c",
   "metadata": {},
   "outputs": [
    {
     "name": "stdout",
     "output_type": "stream",
     "text": [
      "1 we are learning file handling in the python\n",
      "2 the file handling is used to handle the file in each and every way possible\n",
      "3 in the file handling we can create a text file and can also insert lines in the file\n",
      "4 the basic syntax of the file handling is variable_name = open('file_name','w')\n",
      "5 mode 'w' is used to write or insert any line in the file\n",
      "6 the syantax for append a line variable_name = open('file_name','a')\n",
      "\n"
     ]
    }
   ],
   "source": [
    "file=open('test','r')\n",
    "print(file.read())\n",
    "file.close()"
   ]
  },
  {
   "cell_type": "markdown",
   "id": "b85dc5c7-f0e1-45c5-9514-44ebcbef8027",
   "metadata": {},
   "source": [
    "### Convert 1st line on uppercase"
   ]
  },
  {
   "cell_type": "code",
   "execution_count": 51,
   "id": "6e099a9f-4f1b-449d-8976-78f86f73cc46",
   "metadata": {},
   "outputs": [],
   "source": [
    "file=open('test','r')\n",
    "l=file.readlines()\n",
    "l[0]=l[0].upper()\n",
    "file.close()\n",
    "file=open('test','w')\n",
    "for i in l:\n",
    "    file.write(i)\n",
    "file.close()"
   ]
  },
  {
   "cell_type": "code",
   "execution_count": 52,
   "id": "8b006082-081f-48d4-b181-2de55c669235",
   "metadata": {},
   "outputs": [
    {
     "name": "stdout",
     "output_type": "stream",
     "text": [
      "1 WE ARE LEARNING FILE HANDLING IN THE PYTHON\n",
      "2 the file handling is used to handle the file in each and every way possible\n",
      "3 in the file handling we can create a text file and can also insert lines in the file\n",
      "4 the basic syntax of the file handling is variable_name = open('file_name','w')\n",
      "5 mode 'w' is used to write or insert any line in the file\n",
      "6 the syantax for append a line variable_name = open('file_name','a')\n",
      "\n"
     ]
    }
   ],
   "source": [
    "file=open('test','r')\n",
    "print(file.read())\n",
    "file.close()"
   ]
  },
  {
   "cell_type": "code",
   "execution_count": 53,
   "id": "437ce9ef-f82e-4bcd-94f0-d41a3cd7df30",
   "metadata": {},
   "outputs": [],
   "source": [
    "file=open('test','a')\n",
    "file.write('7 no use of this file')\n",
    "file.close()"
   ]
  },
  {
   "cell_type": "code",
   "execution_count": 54,
   "id": "9be8f587-8020-4684-bd8b-eb253fb09ae2",
   "metadata": {},
   "outputs": [
    {
     "name": "stdout",
     "output_type": "stream",
     "text": [
      "1 WE ARE LEARNING FILE HANDLING IN THE PYTHON\n",
      "2 the file handling is used to handle the file in each and every way possible\n",
      "3 in the file handling we can create a text file and can also insert lines in the file\n",
      "4 the basic syntax of the file handling is variable_name = open('file_name','w')\n",
      "5 mode 'w' is used to write or insert any line in the file\n",
      "6 the syantax for append a line variable_name = open('file_name','a')\n",
      "7 no use of this file\n"
     ]
    }
   ],
   "source": [
    "file=open('test','r')\n",
    "print(file.read())\n",
    "file.close()"
   ]
  },
  {
   "cell_type": "code",
   "execution_count": 55,
   "id": "81b19b64-1d79-4477-9419-f1c14da70a92",
   "metadata": {},
   "outputs": [],
   "source": [
    "file=open('test','r')\n",
    "l=file.readlines()\n",
    "file.close()\n",
    "l.pop(-1)\n",
    "file=open('test','w')\n",
    "for i in l:\n",
    "    file.write(i)\n",
    "file.close()"
   ]
  },
  {
   "cell_type": "code",
   "execution_count": 56,
   "id": "35707c37-177e-4bb1-8965-c9dfd2af8ba5",
   "metadata": {},
   "outputs": [
    {
     "name": "stdout",
     "output_type": "stream",
     "text": [
      "1 WE ARE LEARNING FILE HANDLING IN THE PYTHON\n",
      "2 the file handling is used to handle the file in each and every way possible\n",
      "3 in the file handling we can create a text file and can also insert lines in the file\n",
      "4 the basic syntax of the file handling is variable_name = open('file_name','w')\n",
      "5 mode 'w' is used to write or insert any line in the file\n",
      "6 the syantax for append a line variable_name = open('file_name','a')\n",
      "\n"
     ]
    }
   ],
   "source": [
    "file=open('test','r')\n",
    "print(file.read())\n",
    "file.close()"
   ]
  },
  {
   "cell_type": "markdown",
   "id": "26a8325f-aacd-4d49-bdc5-6af5b7e15706",
   "metadata": {},
   "source": [
    "### capitalizing first letter of every line of test file"
   ]
  },
  {
   "cell_type": "code",
   "execution_count": 65,
   "id": "4d882cd7-732c-4d9f-9ef0-b2810de34780",
   "metadata": {},
   "outputs": [],
   "source": [
    "file=open('test','r')\n",
    "l=file.readlines()\n",
    "file.close()\n",
    "file=open('test','w')\n",
    "for i in l:\n",
    "    i=i[0:2]+i[2].upper()+i[3:]\n",
    "    file.write(i)\n",
    "file.close()"
   ]
  },
  {
   "cell_type": "code",
   "execution_count": 66,
   "id": "57d263ef-29be-4a10-be75-6c89bbf946d8",
   "metadata": {},
   "outputs": [
    {
     "name": "stdout",
     "output_type": "stream",
     "text": [
      "1 WE ARE LEARNING FILE HANDLING IN THE PYTHON\n",
      "2 The file handling is used to handle the file in each and every way possible\n",
      "3 In the file handling we can create a text file and can also insert lines in the file\n",
      "4 The basic syntax of the file handling is variable_name = open('file_name','w')\n",
      "5 Mode 'w' is used to write or insert any line in the file\n",
      "6 The syantax for append a line variable_name = open('file_name','a')\n",
      "\n"
     ]
    }
   ],
   "source": [
    "file=open('test','r')\n",
    "print(file.read())\n",
    "file.close()"
   ]
  },
  {
   "cell_type": "markdown",
   "id": "00b9d047-df1a-4cab-8fd8-3d75409a9c49",
   "metadata": {},
   "source": [
    "### Write a program that inputs a text file. The program should print all of the unique words in the file in alphabetical order."
   ]
  },
  {
   "cell_type": "code",
   "execution_count": 67,
   "id": "01321d8f-baab-4bbb-8136-5380fd776ed0",
   "metadata": {},
   "outputs": [
    {
     "name": "stdout",
     "output_type": "stream",
     "text": [
      "[\"'w'\", '1', '2', '3', '4', '5', '6', '=', 'ARE', 'FILE', 'HANDLING', 'IN', 'In', 'LEARNING', 'Mode', 'PYTHON', 'THE', 'The', 'WE', 'a', 'also', 'and', 'any', 'append', 'basic', 'can', 'create', 'each', 'every', 'file', 'for', 'handle', 'handling', 'in', 'insert', 'is', 'line', 'lines', 'of', \"open('file_name','a')\", \"open('file_name','w')\", 'or', 'possible', 'syantax', 'syntax', 'text', 'the', 'to', 'used', 'variable_name', 'way', 'we', 'write']\n"
     ]
    }
   ],
   "source": [
    "file=open('test','r')\n",
    "q=[]\n",
    "t=((file.readlines()))\n",
    "for i in t:\n",
    "    for j in i.split():\n",
    "        q.append(j)\n",
    "q=set(q)\n",
    "q=list(q)\n",
    "q.sort()\n",
    "print(q)\n",
    "file.close()"
   ]
  },
  {
   "cell_type": "markdown",
   "id": "d9e74a2d-b940-4676-b78f-15f68aa05cf3",
   "metadata": {},
   "source": [
    "### write a program to implement an employee management system using class,instance and inheritance"
   ]
  },
  {
   "cell_type": "code",
   "execution_count": 68,
   "id": "ecf0816f-76f7-4840-8b95-b71bf1be6778",
   "metadata": {},
   "outputs": [],
   "source": [
    "class Database:\n",
    "    def row1(self,id,name,age,salary):\n",
    "        self.data=[]\n",
    "        self.data.append((id,name,age,salary))\n",
    "    def display_data(self):\n",
    "        print(\"ID  | NAME   | AGE   | SALARY   \")\n",
    "        print(\"--------------------------------\")\n",
    "        for i in data:\n",
    "            print(f\"{i[0]:<3} | {i[1]:<15} | {i[2]:<3} | {i[3]}\")\n",
    "    def add_row(self,id,name,age,salary):\n",
    "        self.data.append((id,name,age,salary))\n",
    "    def delete_row(self,row):\n",
    "        self.data.pop(row-1)"
   ]
  },
  {
   "cell_type": "code",
   "execution_count": 69,
   "id": "91ceeba6-a7bf-41be-bdf9-1fd82259f4fa",
   "metadata": {},
   "outputs": [],
   "source": [
    "d=Database()"
   ]
  },
  {
   "cell_type": "code",
   "execution_count": 70,
   "id": "47b29ce6-0ac6-4e15-a70c-81ffa91eb17e",
   "metadata": {},
   "outputs": [],
   "source": [
    "d.row1(1,'sarthak',25,4500)"
   ]
  },
  {
   "cell_type": "code",
   "execution_count": null,
   "id": "16fb2b7b-fa89-4389-af75-1653ccbefcea",
   "metadata": {},
   "outputs": [],
   "source": []
  }
 ],
 "metadata": {
  "kernelspec": {
   "display_name": "Python 3 (ipykernel)",
   "language": "python",
   "name": "python3"
  },
  "language_info": {
   "codemirror_mode": {
    "name": "ipython",
    "version": 3
   },
   "file_extension": ".py",
   "mimetype": "text/x-python",
   "name": "python",
   "nbconvert_exporter": "python",
   "pygments_lexer": "ipython3",
   "version": "3.12.4"
  }
 },
 "nbformat": 4,
 "nbformat_minor": 5
}
