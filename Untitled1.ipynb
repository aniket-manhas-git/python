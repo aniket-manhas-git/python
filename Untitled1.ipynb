{
 "cells": [
  {
   "cell_type": "code",
   "execution_count": 3,
   "id": "86ae7e2f-c245-4ec2-9979-fe2a22c3df40",
   "metadata": {},
   "outputs": [
    {
     "name": "stdout",
     "output_type": "stream",
     "text": [
      "1 we are learning file handling\n",
      "2 the file handling is used to handle the file in each and every way possible\n",
      "3 in the file handling we can create a text file and can also insert lines in the file\n",
      "4 the basic syntax of the file handling is variable_name = open('file_name','w')\n",
      "5 mode 'w' is used to write or insert any line in the file\n",
      "6 the syantax for append a line variable_name = open('file_name','a')\n",
      "\n"
     ]
    }
   ],
   "source": [
    "file=open(\"test\",\"r\")\n",
    "f=file.read()\n",
    "print(f)\n",
    "f=file.close()"
   ]
  },
  {
   "cell_type": "code",
   "execution_count": 22,
   "id": "56db106d-c1a6-4b7d-abdd-70a7655be866",
   "metadata": {},
   "outputs": [
    {
     "name": "stdout",
     "output_type": "stream",
     "text": [
      "we\n",
      "are\n",
      "learning\n",
      "file\n",
      "handling\n",
      "the\n",
      "file\n",
      "handling\n",
      "is\n",
      "used\n",
      "to\n",
      "handle\n",
      "the\n",
      "file\n",
      "in\n",
      "each\n",
      "and\n",
      "every\n",
      "way\n",
      "possible\n",
      "in\n",
      "the\n",
      "file\n",
      "handling\n",
      "we\n",
      "can\n",
      "create\n",
      "a\n",
      "text\n",
      "file\n",
      "and\n",
      "can\n",
      "also\n",
      "insert\n",
      "lines\n",
      "in\n",
      "the\n",
      "file\n",
      "the\n",
      "basic\n",
      "syntax\n",
      "of\n",
      "the\n",
      "file\n",
      "handling\n",
      "is\n",
      "mode\n",
      "is\n",
      "used\n",
      "to\n",
      "write\n",
      "or\n",
      "insert\n",
      "any\n",
      "line\n",
      "in\n",
      "the\n",
      "file\n",
      "the\n",
      "syantax\n",
      "for\n",
      "append\n",
      "a\n",
      "line\n"
     ]
    }
   ],
   "source": [
    "file=open(\"test\",\"r\")\n",
    "f=file.readlines()\n",
    "for i in f:\n",
    "    for j in i.split():\n",
    "        if (j.isalpha()):\n",
    "            print(j)\n",
    "file.close()"
   ]
  },
  {
   "cell_type": "code",
   "execution_count": null,
   "id": "9b7ea1fd-cdca-4a14-b952-270d5144cb04",
   "metadata": {},
   "outputs": [],
   "source": []
  }
 ],
 "metadata": {
  "kernelspec": {
   "display_name": "Python 3 (ipykernel)",
   "language": "python",
   "name": "python3"
  },
  "language_info": {
   "codemirror_mode": {
    "name": "ipython",
    "version": 3
   },
   "file_extension": ".py",
   "mimetype": "text/x-python",
   "name": "python",
   "nbconvert_exporter": "python",
   "pygments_lexer": "ipython3",
   "version": "3.12.4"
  }
 },
 "nbformat": 4,
 "nbformat_minor": 5
}
