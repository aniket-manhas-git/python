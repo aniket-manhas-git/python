{
 "cells": [
  {
   "cell_type": "code",
   "execution_count": null,
   "metadata": {},
   "outputs": [],
   "source": [
    "import socket\n",
    "import os"
   ]
  },
  {
   "cell_type": "code",
   "execution_count": null,
   "metadata": {},
   "outputs": [
    {
     "name": "stdout",
     "output_type": "stream",
     "text": [
      "Server listening on 127.0.0.1:65432\n"
     ]
    }
   ],
   "source": [
    "import socket\n",
    "import os\n",
    "\n",
    "def start_server(host='127.0.0.1', port=65432):\n",
    "    with socket.socket(socket.AF_INET, socket.SOCK_STREAM) as server_socket:\n",
    "        server_socket.bind((host, port))\n",
    "        server_socket.listen()\n",
    "        print(f\"Server listening on {host}:{port}\")\n",
    "        print(\"hi\",end='')\n",
    "        conn, addr = server_socket.accept()\n",
    "        with conn:\n",
    "            print(\"hi\",end='')\n",
    "            print(f\"Connected by {addr}\")\n",
    "            filename = conn.recv(1024).decode()\n",
    "            print(f\"Requested file: {filename}\")\n",
    "            print(\"hi\",end='')\n",
    "            if os.path.exists(filename):\n",
    "                print(\"hi\",end='')\n",
    "                with open(filename, 'r') as file:\n",
    "                    contents = file.read()\n",
    "                conn.sendall(contents.encode())\n",
    "            else:\n",
    "                print(\"hi\",end='')\n",
    "                conn.sendall(b\"ERROR: File not found.\")\n",
    "\n",
    "if __name__ == \"__main__\":\n",
    "    print(\"hi\",end='')\n",
    "    start_server()\n"
   ]
  },
  {
   "cell_type": "code",
   "execution_count": null,
   "metadata": {},
   "outputs": [],
   "source": [
    "def request_file(host='127.0.0.1', port=65432, filename=''):\n",
    "    with socket.socket(socket.AF_INET, socket.SOCK_STREAM) as client_socket:\n",
    "        client_socket.connect((host, port))\n",
    "        client_socket.sendall(filename.encode())\n",
    "        \n",
    "        data = client_socket.recv(4096)  # Adjust buffer size if needed\n",
    "        print(\"Server response:\")\n",
    "        print(data.decode())\n",
    "\n",
    "if __name__ == \"__main__\":\n",
    "    host = input(\"Enter server IP (default 127.0.0.1): \") or '127.0.0.1'\n",
    "    port = int(input(\"Enter server port (default 65432): \") or 65432)\n",
    "    filename = input(\"Enter the name of the file to request: \")\n",
    "    \n",
    "    request_file(host, port, filename)\n"
   ]
  },
  {
   "cell_type": "code",
   "execution_count": null,
   "metadata": {},
   "outputs": [],
   "source": []
  }
 ],
 "metadata": {
  "kernelspec": {
   "display_name": "venv",
   "language": "python",
   "name": "python3"
  },
  "language_info": {
   "codemirror_mode": {
    "name": "ipython",
    "version": 3
   },
   "file_extension": ".py",
   "mimetype": "text/x-python",
   "name": "python",
   "nbconvert_exporter": "python",
   "pygments_lexer": "ipython3",
   "version": "3.12.4"
  }
 },
 "nbformat": 4,
 "nbformat_minor": 2
}
