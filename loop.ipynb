{
 "cells": [
  {
   "cell_type": "code",
   "execution_count": 1,
   "id": "9d12926f-948a-4f41-b2f9-8bc3efbcdb96",
   "metadata": {},
   "outputs": [],
   "source": [
    "k=[1,2,3,4,5,6,7,8,9,10]"
   ]
  },
  {
   "cell_type": "code",
   "execution_count": 2,
   "id": "ad78c9cf-0c00-445e-8c03-b582496dd1ec",
   "metadata": {},
   "outputs": [
    {
     "name": "stdout",
     "output_type": "stream",
     "text": [
      "1\n",
      "2\n",
      "3\n",
      "4\n",
      "5\n",
      "6\n",
      "7\n",
      "8\n",
      "9\n",
      "10\n"
     ]
    }
   ],
   "source": [
    "for i in k:\n",
    "    print(i)"
   ]
  },
  {
   "cell_type": "code",
   "execution_count": 3,
   "id": "a165e117-e543-47ad-b215-61899c5016d5",
   "metadata": {},
   "outputs": [
    {
     "name": "stdout",
     "output_type": "stream",
     "text": [
      "1\n",
      "4\n",
      "5\n",
      "6\n"
     ]
    }
   ],
   "source": [
    "f=(1,4,5,6)\n",
    "for i in f:\n",
    "    print(i)"
   ]
  },
  {
   "cell_type": "code",
   "execution_count": 4,
   "id": "bb1859f8-da2c-46ca-b61a-7622dc4d28bf",
   "metadata": {},
   "outputs": [
    {
     "name": "stdout",
     "output_type": "stream",
     "text": [
      "4\n",
      "5\n",
      "6\n",
      "7\n",
      "8\n",
      "9\n",
      "10\n"
     ]
    }
   ],
   "source": [
    "k=[1,2,3,4,5,6,7,8,9,10]\n",
    "for i in k:\n",
    "    if i>3:\n",
    "        print(i)"
   ]
  },
  {
   "cell_type": "code",
   "execution_count": 5,
   "id": "a165f558-a708-4ee7-8a6b-e8f66fda15d3",
   "metadata": {},
   "outputs": [
    {
     "name": "stdout",
     "output_type": "stream",
     "text": [
      "2\n",
      "4\n",
      "6\n",
      "8\n",
      "10\n"
     ]
    }
   ],
   "source": [
    "k=[1,2,3,4,5,6,7,8,9,10]\n",
    "for i in k:\n",
    "    if i%2==0:\n",
    "        print(i)"
   ]
  },
  {
   "cell_type": "code",
   "execution_count": 8,
   "id": "c497bbfb-36da-400d-ba3b-d860d7ba77b8",
   "metadata": {},
   "outputs": [
    {
     "name": "stdout",
     "output_type": "stream",
     "text": [
      "4 is the square of 2\n",
      "16 is the square of 4\n",
      "36 is the square of 6\n",
      "64 is the square of 8\n",
      "100 is the square of 10\n"
     ]
    }
   ],
   "source": [
    "k=[1,2,3,4,5,6,7,8,9,10]\n",
    "for i in k:\n",
    "    if i%2==0:\n",
    "        print(i**2,'is the square of',i)"
   ]
  },
  {
   "cell_type": "code",
   "execution_count": 12,
   "id": "88afbd18-9777-432f-bb2d-ecd297e9b407",
   "metadata": {},
   "outputs": [
    {
     "name": "stdout",
     "output_type": "stream",
     "text": [
      "11\n",
      "12\n",
      "15\n",
      "14\n",
      "13\n",
      "12\n",
      "12\n",
      "20\n",
      "21\n"
     ]
    }
   ],
   "source": [
    "k=[1,10,11,12,15,14,13,10,12,12,20,21]\n",
    "for i in k:\n",
    "    if i>10:\n",
    "        print(i)"
   ]
  },
  {
   "cell_type": "code",
   "execution_count": 14,
   "id": "dd115ff0-6865-49e7-86be-215ede8b746f",
   "metadata": {},
   "outputs": [
    {
     "name": "stdout",
     "output_type": "stream",
     "text": [
      "average is: 12.583333333333334\n",
      "15\n",
      "14\n",
      "13\n",
      "20\n",
      "21\n"
     ]
    }
   ],
   "source": [
    "k=[1,10,11,12,15,14,13,10,12,12,20,21]\n",
    "avg=sum(k)/len(k)\n",
    "print(\"average is:\",avg)\n",
    "for i in k:\n",
    "    if i>avg:\n",
    "        print(i)"
   ]
  },
  {
   "cell_type": "code",
   "execution_count": 3,
   "id": "65b89a83-26bf-440d-ae18-0dbfe63bed6c",
   "metadata": {},
   "outputs": [
    {
     "name": "stdout",
     "output_type": "stream",
     "text": [
      "a\n",
      "b\n",
      "c\n",
      "d\n",
      "e\n",
      "True\n"
     ]
    }
   ],
   "source": [
    "g=['a','b','c','d','e',True]\n",
    "for i in g:\n",
    "    print(i)"
   ]
  },
  {
   "cell_type": "code",
   "execution_count": 6,
   "id": "552b0e1c-0265-4596-864c-64d4767c38be",
   "metadata": {},
   "outputs": [
    {
     "name": "stdout",
     "output_type": "stream",
     "text": [
      "7\n",
      "8\n",
      "9\n",
      "6\n"
     ]
    }
   ],
   "source": [
    "# extracting value greater than 5\n",
    "w=[1,4,7,8,9,3,2,5,4,6,3,2,5]\n",
    "for i in w:\n",
    "    if i>5:\n",
    "        print(i)"
   ]
  },
  {
   "cell_type": "code",
   "execution_count": 8,
   "id": "6a0ef293-a950-4631-a123-e9a12e56c482",
   "metadata": {},
   "outputs": [
    {
     "name": "stdout",
     "output_type": "stream",
     "text": [
      "4\n",
      "8\n",
      "2\n",
      "4\n",
      "6\n",
      "2\n"
     ]
    }
   ],
   "source": [
    "# extract even elements from the list\n",
    "w=[1,4,7,8,9,3,2,5,4,6,3,2,5]\n",
    "for i in w:\n",
    "    if i%2==0:\n",
    "        print(i)"
   ]
  },
  {
   "cell_type": "code",
   "execution_count": 9,
   "id": "88c0586e-4a49-4578-b44d-a1162d869f1f",
   "metadata": {},
   "outputs": [
    {
     "name": "stdout",
     "output_type": "stream",
     "text": [
      "4\n",
      "5\n",
      "4\n",
      "6\n",
      "5\n"
     ]
    }
   ],
   "source": [
    "w=[1,4,7,8,9,3,2,5,4,6,3,2,5]\n",
    "for i in w:\n",
    "    if i>3 and i<7:\n",
    "        print (i)"
   ]
  },
  {
   "cell_type": "code",
   "execution_count": 12,
   "id": "95b199dd-4135-4448-a201-92b42565ed96",
   "metadata": {},
   "outputs": [
    {
     "name": "stdout",
     "output_type": "stream",
     "text": [
      "16\n",
      "64\n",
      "4\n",
      "16\n",
      "36\n",
      "4\n"
     ]
    }
   ],
   "source": [
    "w=[1,4,7,8,9,3,2,5,4,6,3,2,5]\n",
    "for i in w:\n",
    "    if i %2==0:\n",
    "        print(i**2)"
   ]
  },
  {
   "cell_type": "code",
   "execution_count": 14,
   "id": "c21ef053-8528-4a6a-895f-16990fe79a4c",
   "metadata": {},
   "outputs": [
    {
     "name": "stdout",
     "output_type": "stream",
     "text": [
      "abhiniza\n",
      "aman\n",
      "aastha\n"
     ]
    }
   ],
   "source": [
    "# Print name which starts with \"a\"\n",
    "name=['rohan','abhiniza','robin','karan','aman','pankaj','aastha']\n",
    "for i in name:\n",
    "    if i[0]=='a':\n",
    "        print (i)"
   ]
  },
  {
   "cell_type": "code",
   "execution_count": 22,
   "id": "8c07f792-9f28-4244-b787-e5d7812253d2",
   "metadata": {},
   "outputs": [
    {
     "name": "stdout",
     "output_type": "stream",
     "text": [
      "abhiniza\n",
      "aastha\n"
     ]
    }
   ],
   "source": [
    "# Print name which starts with \"a\" and end with \"a\"\n",
    "name=['rohan','abhiniza','robin','karan','aman','pankaj','aastha']\n",
    "for i in name:\n",
    "    if i.startswith('a') and i.endswith('a'):\n",
    "        print (i)"
   ]
  },
  {
   "cell_type": "code",
   "execution_count": 23,
   "id": "adff58ba-37d0-43f2-a82a-35aeeb6abe85",
   "metadata": {},
   "outputs": [
    {
     "name": "stdout",
     "output_type": "stream",
     "text": [
      "roh\n",
      "abh\n",
      "rob\n",
      "kar\n",
      "ama\n",
      "pan\n",
      "ass\n"
     ]
    }
   ],
   "source": [
    "# Print first four letters of all names\n",
    "name=['rohan','abhiniza','robin','karan','aman','pankaj','asstha']\n",
    "for i in name:\n",
    "    print(i[0:3])"
   ]
  },
  {
   "cell_type": "code",
   "execution_count": 28,
   "id": "f15a3e81-e3b5-4203-af6f-1460d76c4542",
   "metadata": {},
   "outputs": [
    {
     "name": "stdout",
     "output_type": "stream",
     "text": [
      "2000\n",
      "2004\n",
      "2008\n"
     ]
    }
   ],
   "source": [
    "# Print all leap years\n",
    "year=[2000,2001,2002,2003,2004,2005,2006,2007,2008,2009,2010]\n",
    "for i in year:\n",
    "    if i%4==0 and i%100!=0 or i%400==0:\n",
    "        print(i)"
   ]
  },
  {
   "cell_type": "code",
   "execution_count": 48,
   "id": "ce3fd923-e670-44ef-a6ef-bae87a106da9",
   "metadata": {},
   "outputs": [
    {
     "name": "stdout",
     "output_type": "stream",
     "text": [
      "8\n"
     ]
    }
   ],
   "source": [
    "# Print the 2nd highest element\n",
    "s=[4,7,8,5,2,3,6,9,6,5,6,3,2]\n",
    "a=0\n",
    "for i in s:\n",
    "   if a<i:\n",
    "       a=i\n",
    "s.remove(a)\n",
    "a=0\n",
    "for i in s:\n",
    "   if a<i:\n",
    "       a=i\n",
    "print(a)"
   ]
  },
  {
   "cell_type": "code",
   "execution_count": 58,
   "id": "1ca8775e-9d87-49e5-897f-f6a49e3b178b",
   "metadata": {},
   "outputs": [
    {
     "name": "stdout",
     "output_type": "stream",
     "text": [
      "8\n"
     ]
    }
   ],
   "source": [
    "s=[4,7,8,5,2,3,6,9,6,5,9,6,3,2]\n",
    "s.sort(reverse=True)\n",
    "a=s[0]\n",
    "for i in s:\n",
    "    if i==a:\n",
    "        continue\n",
    "    else:\n",
    "        print(i)\n",
    "        break"
   ]
  },
  {
   "cell_type": "code",
   "execution_count": 1,
   "id": "043e0c84-f406-4c90-8a61-953e934ce205",
   "metadata": {},
   "outputs": [
    {
     "name": "stdout",
     "output_type": "stream",
     "text": [
      "8\n"
     ]
    }
   ],
   "source": [
    "s=[4,7,8,5,2,3,6,9,6,5,6,3,2,9,9,9,9,9]\n",
    "s.sort()\n",
    "second_element=0\n",
    "for i in s:\n",
    "    if i>min(s) and i<max(s):\n",
    "        second_element=i\n",
    "print(second_element)"
   ]
  },
  {
   "cell_type": "code",
   "execution_count": 2,
   "id": "a4d1a41d-b67a-4a3d-a2ea-f020def053aa",
   "metadata": {},
   "outputs": [
    {
     "name": "stdout",
     "output_type": "stream",
     "text": [
      "hello\n",
      "how\n",
      "are\n",
      "you\n",
      "i\n",
      "am\n",
      "fine\n",
      "what\n",
      "about\n",
      "you\n"
     ]
    }
   ],
   "source": [
    "s=\"hello how are you i am fine what about you\"\n",
    "for i in s.split():\n",
    "    print(i)"
   ]
  },
  {
   "cell_type": "code",
   "execution_count": 14,
   "id": "748d85d8-cfd9-4cb3-878e-1b687ac853cd",
   "metadata": {},
   "outputs": [
    {
     "name": "stdout",
     "output_type": "stream",
     "text": [
      "2\n"
     ]
    }
   ],
   "source": [
    "# count those words that starts with h\n",
    "s=\"hello how are you i am fine what about you\"\n",
    "ls=[]\n",
    "for i in s.split():\n",
    "    if i[0]=='h':\n",
    "        ls.append(i)\n",
    "print(len(ls))"
   ]
  },
  {
   "cell_type": "markdown",
   "id": "e4ba6742-630a-4309-a694-0718690ee8db",
   "metadata": {},
   "source": [
    "# Range"
   ]
  },
  {
   "cell_type": "code",
   "execution_count": 18,
   "id": "4508fdaf-1be2-4b3b-92b3-145922f4a230",
   "metadata": {},
   "outputs": [],
   "source": [
    "# range(start,stop,step)\n"
   ]
  },
  {
   "cell_type": "code",
   "execution_count": 17,
   "id": "30ab7374-e77e-4f7a-8041-4a92ab560ddb",
   "metadata": {},
   "outputs": [
    {
     "name": "stdout",
     "output_type": "stream",
     "text": [
      "0\n",
      "1\n",
      "2\n",
      "3\n",
      "4\n",
      "5\n",
      "6\n",
      "7\n",
      "8\n",
      "9\n"
     ]
    }
   ],
   "source": [
    "for i in range(0,10):\n",
    "    print(i)"
   ]
  },
  {
   "cell_type": "code",
   "execution_count": null,
   "id": "3ef007ed-a2de-48b3-bb6a-3753a8de78e6",
   "metadata": {},
   "outputs": [],
   "source": [
    "# print all even values between 10 and 50\n",
    "for i in range(10,50,2):\n",
    "    print(i)"
   ]
  },
  {
   "cell_type": "code",
   "execution_count": 21,
   "id": "ea79ad71-7e9e-48ba-89fe-691806355f1d",
   "metadata": {},
   "outputs": [
    {
     "name": "stdout",
     "output_type": "stream",
     "text": [
      "15\n",
      "25\n",
      "35\n",
      "45\n",
      "55\n",
      "65\n",
      "75\n",
      "85\n",
      "95\n"
     ]
    }
   ],
   "source": [
    "# print those values where 1st one is 5 between 10 to 100\n",
    "for i in range(10,100):\n",
    "    if(i%10==5):\n",
    "        print(i)"
   ]
  },
  {
   "cell_type": "code",
   "execution_count": 26,
   "id": "ffdc9340-cde2-4d59-bbca-e7d158a0f1e7",
   "metadata": {},
   "outputs": [
    {
     "name": "stdout",
     "output_type": "stream",
     "text": [
      "2 x 1 =  2\n",
      "2 x 2 =  4\n",
      "2 x 3 =  6\n",
      "2 x 4 =  8\n",
      "2 x 5 =  10\n",
      "2 x 6 =  12\n",
      "2 x 7 =  14\n",
      "2 x 8 =  16\n",
      "2 x 9 =  18\n",
      "2 x 10 =  20\n"
     ]
    }
   ],
   "source": [
    "# print the table of 2\n",
    "for i in range(1,11):\n",
    "    print('2 x',i,'= ',2*i)"
   ]
  },
  {
   "cell_type": "code",
   "execution_count": 28,
   "id": "d1b49f6d-9c35-43b9-9835-b36b2f4367ed",
   "metadata": {},
   "outputs": [
    {
     "name": "stdout",
     "output_type": "stream",
     "text": [
      "[10, 12, 14, 16, 18, 20, 22, 24, 26, 28, 30, 32, 34, 36, 38, 40, 42, 44, 46, 48]\n",
      "[11, 13, 15, 17, 19, 21, 23, 25, 27, 29, 31, 33, 35, 37, 39, 41, 43, 45, 47, 49]\n"
     ]
    }
   ],
   "source": [
    "# interview question\n",
    "# create 2 list and add even and odd digit in both list between 10 and 50\n",
    "even=[]\n",
    "odd=[]\n",
    "for i in range(10,50):\n",
    "    if i%2==0:\n",
    "        even.append(i)\n",
    "    else:\n",
    "        odd.append(i)\n",
    "print(even)\n",
    "print(odd)"
   ]
  },
  {
   "cell_type": "code",
   "execution_count": 33,
   "id": "3b093c57-71b9-4c4a-8496-248e9fc846c6",
   "metadata": {},
   "outputs": [
    {
     "name": "stdout",
     "output_type": "stream",
     "text": [
      "\n",
      "* \n",
      "* * \n",
      "* * * \n",
      "* * * * \n"
     ]
    }
   ],
   "source": [
    "for i in range(5):\n",
    "    print('* '*i)"
   ]
  },
  {
   "cell_type": "code",
   "execution_count": 35,
   "id": "52fe9d76-6c68-46dd-9363-ba2a30d70d55",
   "metadata": {},
   "outputs": [
    {
     "name": "stdout",
     "output_type": "stream",
     "text": [
      "****\n",
      "****\n",
      "****\n",
      "****\n"
     ]
    }
   ],
   "source": [
    "for i in range(4):\n",
    "    print('*'*4)"
   ]
  },
  {
   "cell_type": "code",
   "execution_count": 3,
   "id": "ac13524a-0f44-46ff-ba4a-74878e0022ea",
   "metadata": {},
   "outputs": [
    {
     "name": "stdout",
     "output_type": "stream",
     "text": [
      "* * * * * * \n",
      "* * * * * \n",
      "* * * * \n",
      "* * * \n",
      "* * \n",
      "* \n"
     ]
    }
   ],
   "source": [
    "for i in range(6,0,-1):\n",
    "    print('* '*i)"
   ]
  },
  {
   "cell_type": "code",
   "execution_count": 4,
   "id": "a30377e9-8191-4440-95b5-b1c787107b7e",
   "metadata": {},
   "outputs": [
    {
     "name": "stdout",
     "output_type": "stream",
     "text": [
      "0 1 2 3 4 "
     ]
    }
   ],
   "source": [
    "for i in range(5):\n",
    "    print(i,end=\" \")"
   ]
  },
  {
   "cell_type": "code",
   "execution_count": 5,
   "id": "12c0ce29-7287-4e42-8711-971ab2818afb",
   "metadata": {},
   "outputs": [
    {
     "name": "stdout",
     "output_type": "stream",
     "text": [
      "9\n",
      "10\n",
      "11\n",
      "12\n",
      "13\n",
      "18\n",
      "20\n",
      "22\n",
      "24\n",
      "26\n"
     ]
    }
   ],
   "source": [
    "f=[1,2]\n",
    "h=[9,10,11,12,13]\n",
    "for i in f:\n",
    "    for j in h:\n",
    "        print(i*j)"
   ]
  },
  {
   "cell_type": "code",
   "execution_count": 10,
   "id": "539a2ea3-5c69-4463-9bb8-136c2c8c6b91",
   "metadata": {},
   "outputs": [
    {
     "name": "stdout",
     "output_type": "stream",
     "text": [
      "1 2 3 4 5 6 \n",
      "1 2 3 4 5 6 \n",
      "1 2 3 4 5 6 \n",
      "1 2 3 4 5 6 \n",
      "1 2 3 4 5 6 \n",
      "1 2 3 4 5 6 \n"
     ]
    }
   ],
   "source": [
    "g=[1,2,3,4,5,6]\n",
    "for i in g:\n",
    "    for j in g:\n",
    "        print(j,end=\" \")\n",
    "    print()"
   ]
  },
  {
   "cell_type": "code",
   "execution_count": 13,
   "id": "15059bf4-6b84-4965-a108-98d806cb585b",
   "metadata": {},
   "outputs": [
    {
     "name": "stdout",
     "output_type": "stream",
     "text": [
      "        * \n",
      "      * * \n",
      "    * * * \n",
      "  * * * * \n",
      "* * * * * \n"
     ]
    }
   ],
   "source": [
    "for i in range(1,6):\n",
    "    for j in range(1,6):\n",
    "        if j>=6-i:\n",
    "            print('*',end=\" \")\n",
    "        else:\n",
    "            print(' ',end=\" \")\n",
    "    print()"
   ]
  },
  {
   "cell_type": "code",
   "execution_count": 23,
   "id": "de43f963-d7f4-446c-b538-f0720caca0e6",
   "metadata": {},
   "outputs": [
    {
     "name": "stdout",
     "output_type": "stream",
     "text": [
      "* * * * * \n",
      "  * * * * \n",
      "    * * * \n",
      "      * * \n",
      "        * \n"
     ]
    }
   ],
   "source": [
    "for i in range(1,6):\n",
    "    for j in range(1,6):\n",
    "        if j>=i:\n",
    "            print('*',end=' ')\n",
    "        else:\n",
    "            print(' ',end=' ')\n",
    "    print()"
   ]
  },
  {
   "cell_type": "code",
   "execution_count": 34,
   "id": "240bb623-c137-410f-b166-852040fd0e43",
   "metadata": {},
   "outputs": [
    {
     "name": "stdout",
     "output_type": "stream",
     "text": [
      "      *       \n",
      "    * * *     \n",
      "  * * * * *   \n",
      "* * * * * * * \n"
     ]
    }
   ],
   "source": [
    "for i in range(1,5):\n",
    "    for j in range(1,8):\n",
    "        if j>=5-i and j<=3+i:\n",
    "            print('*',end=' ')\n",
    "        else:\n",
    "            print(' ',end=' ')\n",
    "    print()"
   ]
  },
  {
   "cell_type": "code",
   "execution_count": 42,
   "id": "82ff6e5b-80a1-49b2-b436-71f6c201345d",
   "metadata": {},
   "outputs": [
    {
     "name": "stdout",
     "output_type": "stream",
     "text": [
      "      1       \n",
      "    1 2 3     \n",
      "  1 2 3 4 5   \n",
      "1 2 3 4 5 6 7 \n"
     ]
    }
   ],
   "source": [
    "for i in range(1,5):\n",
    "    a=1\n",
    "    for j in range(1,8):\n",
    "        if j>=5-i and j<=3+i:\n",
    "            print(a,end=' ')\n",
    "            a=a+1\n",
    "        else:\n",
    "            print(' ',end=' ')\n",
    "    print()"
   ]
  },
  {
   "cell_type": "code",
   "execution_count": null,
   "id": "904cea97-a826-42a4-b6c4-5d3aff2c86ac",
   "metadata": {},
   "outputs": [],
   "source": []
  }
 ],
 "metadata": {
  "kernelspec": {
   "display_name": "Python 3 (ipykernel)",
   "language": "python",
   "name": "python3"
  },
  "language_info": {
   "codemirror_mode": {
    "name": "ipython",
    "version": 3
   },
   "file_extension": ".py",
   "mimetype": "text/x-python",
   "name": "python",
   "nbconvert_exporter": "python",
   "pygments_lexer": "ipython3",
   "version": "3.12.4"
  }
 },
 "nbformat": 4,
 "nbformat_minor": 5
}
