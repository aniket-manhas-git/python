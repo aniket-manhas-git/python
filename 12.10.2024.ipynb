{
 "cells": [
  {
   "cell_type": "code",
   "execution_count": 13,
   "id": "3c4dbab7-0f02-46fb-8060-99c70b43ac7f",
   "metadata": {},
   "outputs": [
    {
     "name": "stdin",
     "output_type": "stream",
     "text": [
      "Enter a string :  hih\n"
     ]
    },
    {
     "name": "stdout",
     "output_type": "stream",
     "text": [
      "yes\n"
     ]
    }
   ],
   "source": [
    "#1 Create a Python function to check if a given string is a palindrome\n",
    "def pal(s):\n",
    "    c=s\n",
    "    for i in range(0,len(s),1):\n",
    "        if s[i] == c[len(s)-1-i]:\n",
    "            continue\n",
    "        else:\n",
    "            print('not')\n",
    "            return\n",
    "    print('yes')\n",
    "    return\n",
    "\n",
    "s=input('Enter a string : ')\n",
    "pal(s)"
   ]
  },
  {
   "cell_type": "code",
   "execution_count": null,
   "id": "ecfeed19-7f4d-4966-a724-f9fb2a91e99a",
   "metadata": {},
   "outputs": [],
   "source": [
    "#2 calculate the compund interest for a given principal amount , interest rate, and time period\n"
   ]
  },
  {
   "cell_type": "code",
   "execution_count": 8,
   "id": "524bb315-e71c-4ac2-8d93-c9812ee3c130",
   "metadata": {},
   "outputs": [
    {
     "name": "stdout",
     "output_type": "stream",
     "text": [
      "Enter the number of days:  1000\n"
     ]
    },
    {
     "name": "stdout",
     "output_type": "stream",
     "text": [
      "1000 days is approximately 2 year(s), 38 week(s), and 4 day(s).\n"
     ]
    }
   ],
   "source": [
    "#3 write a program that converts a given number of days into years , weeks , and days\n",
    "\n"
   ]
  },
  {
   "cell_type": "code",
   "execution_count": 21,
   "id": "6340d275-ff9f-4bcb-b6d1-504a0bd367d8",
   "metadata": {},
   "outputs": [
    {
     "name": "stdin",
     "output_type": "stream",
     "text": [
      "Enter a sentence :  hello everyone my self aniket  \n"
     ]
    },
    {
     "data": {
      "text/plain": [
       "5"
      ]
     },
     "execution_count": 21,
     "metadata": {},
     "output_type": "execute_result"
    }
   ],
   "source": [
    "#4 create a program that takes a sentence as input and counts the number of words in it\n",
    "\n",
    "def count(sen):\n",
    "    l=sen.split()\n",
    "    return len(l)\n",
    "\n",
    "sen=input(\"Enter a sentence : \")\n",
    "count(sen)"
   ]
  },
  {
   "cell_type": "code",
   "execution_count": 23,
   "id": "b4002d88-150f-473e-a195-9a046a048b6d",
   "metadata": {},
   "outputs": [
    {
     "name": "stdin",
     "output_type": "stream",
     "text": [
      "Enter a string :  hello everyone\n"
     ]
    },
    {
     "data": {
      "text/plain": [
       "'enoyreve olleh'"
      ]
     },
     "execution_count": 23,
     "metadata": {},
     "output_type": "execute_result"
    }
   ],
   "source": [
    "#5 create a function to reverse a given string\n",
    "def rev(s):\n",
    "    return s[::-1]\n",
    "\n",
    "s=input(\"Enter a string : \")\n",
    "rev(s)"
   ]
  },
  {
   "cell_type": "code",
   "execution_count": null,
   "id": "8f0482a8-fc89-486e-9d77-143639bd8e41",
   "metadata": {},
   "outputs": [],
   "source": [
    "#6 implement a program that converts a given number of minutes into hours and minutes\n"
   ]
  },
  {
   "cell_type": "code",
   "execution_count": 11,
   "id": "73f18280-be3f-4142-b83d-7177005ce04f",
   "metadata": {},
   "outputs": [
    {
     "name": "stdout",
     "output_type": "stream",
     "text": [
      "Enter the number of minutes:  789\n"
     ]
    },
    {
     "name": "stdout",
     "output_type": "stream",
     "text": [
      "789 minutes is equal to 13 hours and 9 minutes.\n"
     ]
    }
   ],
   "source": [
    "#6\n",
    "\n",
    "def convert_minutes(total_minutes):\n",
    "    \n",
    "    hours = total_minutes // 60\n",
    "   \n",
    "    minutes = total_minutes % 60\n",
    "    return hours, minutes\n",
    "\n",
    "\n",
    "total_minutes = int(input(\"Enter the number of minutes: \"))\n",
    "\n",
    "\n",
    "hours, minutes = convert_minutes(total_minutes)\n",
    "\n",
    "\n",
    "print(f\"{total_minutes} minutes is equal to {hours} hours and {minutes} minutes.\")\n"
   ]
  },
  {
   "cell_type": "code",
   "execution_count": 26,
   "id": "0cbc4eda-8452-4b1b-99d2-d7019d241d6e",
   "metadata": {},
   "outputs": [
    {
     "data": {
      "text/plain": [
       "4"
      ]
     },
     "execution_count": 26,
     "metadata": {},
     "output_type": "execute_result"
    }
   ],
   "source": [
    "#7 create a python function to find the sum of all even numbers in the list\n",
    "def sum(l):\n",
    "    res=0\n",
    "    for i in l:\n",
    "        if i%2==0:\n",
    "            res+=i\n",
    "    return res\n",
    "\n",
    "l=[3,2,5,3,2]\n",
    "sum(l)"
   ]
  },
  {
   "cell_type": "code",
   "execution_count": 28,
   "id": "274b994b-0dea-4651-a2e2-e4b09fff0fff",
   "metadata": {},
   "outputs": [
    {
     "data": {
      "text/plain": [
       "11"
      ]
     },
     "execution_count": 28,
     "metadata": {},
     "output_type": "execute_result"
    }
   ],
   "source": [
    "#8 create a python function to find the sum of all odd numbers in the list\n",
    "def sum(l):\n",
    "    res=0\n",
    "    for i in l:\n",
    "        if i%2 !=0:\n",
    "            res+=i\n",
    "    return res\n",
    "\n",
    "l=[3,2,5,3,2]\n",
    "sum(l)"
   ]
  },
  {
   "cell_type": "code",
   "execution_count": 29,
   "id": "4d84df77-4a04-41ac-9793-371aaea77573",
   "metadata": {},
   "outputs": [
    {
     "data": {
      "text/plain": [
       "15"
      ]
     },
     "execution_count": 29,
     "metadata": {},
     "output_type": "execute_result"
    }
   ],
   "source": [
    "#9 given a list of numbers, create a function to find the sum of all postitive numbers\n",
    "def sum(l):\n",
    "    res=0\n",
    "    for i in l:\n",
    "        if i>=0:\n",
    "            res+=i\n",
    "    return res\n",
    "\n",
    "l=[3,2,5,3,2]\n",
    "sum(l)"
   ]
  },
  {
   "cell_type": "markdown",
   "id": "01a48248-9a93-4d4a-87cc-79d976f6c0cd",
   "metadata": {},
   "source": [
    "# lambda"
   ]
  },
  {
   "cell_type": "code",
   "execution_count": null,
   "id": "82c804dc-4002-4e54-89cc-eb5909760052",
   "metadata": {},
   "outputs": [],
   "source": [
    "lmbda agr1,agr2......:calculation"
   ]
  },
  {
   "cell_type": "code",
   "execution_count": 15,
   "id": "2603436a-711f-4c90-aea2-ac3f3e26974f",
   "metadata": {},
   "outputs": [],
   "source": [
    "# add function\n",
    "f=lambda x,y:x+y"
   ]
  },
  {
   "cell_type": "code",
   "execution_count": 16,
   "id": "745251f7-6e8b-416c-93a2-88d91bb61a69",
   "metadata": {},
   "outputs": [
    {
     "data": {
      "text/plain": [
       "17"
      ]
     },
     "execution_count": 16,
     "metadata": {},
     "output_type": "execute_result"
    }
   ],
   "source": [
    "f(8,9)"
   ]
  },
  {
   "cell_type": "code",
   "execution_count": 20,
   "id": "a44e68d0-0cd2-4738-9e8f-aa8d9655ef61",
   "metadata": {},
   "outputs": [],
   "source": [
    "# squa\n",
    "sq = lambda x:x**2"
   ]
  },
  {
   "cell_type": "code",
   "execution_count": 21,
   "id": "ed1995de-2f0e-46cc-8121-b2edd75894ab",
   "metadata": {},
   "outputs": [
    {
     "data": {
      "text/plain": [
       "64"
      ]
     },
     "execution_count": 21,
     "metadata": {},
     "output_type": "execute_result"
    }
   ],
   "source": [
    "sq(8)"
   ]
  },
  {
   "cell_type": "code",
   "execution_count": 30,
   "id": "c7c0792f-f3b4-4406-952a-c53fcc60094c",
   "metadata": {},
   "outputs": [],
   "source": [
    "# area of circle \n",
    "area = lambda r,pie:pie*r*r"
   ]
  },
  {
   "cell_type": "code",
   "execution_count": 23,
   "id": "9641fcf1-e27b-4ba8-a4f2-058e17b64fcb",
   "metadata": {},
   "outputs": [
    {
     "data": {
      "text/plain": [
       "50.24"
      ]
     },
     "execution_count": 23,
     "metadata": {},
     "output_type": "execute_result"
    }
   ],
   "source": [
    "area(4,3.14)"
   ]
  },
  {
   "cell_type": "code",
   "execution_count": 24,
   "id": "882927b8-d47c-4d05-98aa-96ef6c8869c8",
   "metadata": {},
   "outputs": [],
   "source": [
    "# find the leap year\n",
    "leap = lambda x: x%400==0 and x%100!=0 or x%4==0"
   ]
  },
  {
   "cell_type": "code",
   "execution_count": 25,
   "id": "80c0d291-f41f-4eac-a751-9dc0ec2fd04b",
   "metadata": {},
   "outputs": [
    {
     "data": {
      "text/plain": [
       "False"
      ]
     },
     "execution_count": 25,
     "metadata": {},
     "output_type": "execute_result"
    }
   ],
   "source": [
    "leap(2001)"
   ]
  },
  {
   "cell_type": "code",
   "execution_count": 26,
   "id": "22d149e8-4240-4824-a6f8-10e95c931db3",
   "metadata": {},
   "outputs": [],
   "source": [
    "# even and odd\n",
    "even = lambda x: x%2==0 and x%2!=0"
   ]
  },
  {
   "cell_type": "code",
   "execution_count": 28,
   "id": "6e090535-890b-440e-9df0-a4efea4603df",
   "metadata": {},
   "outputs": [
    {
     "data": {
      "text/plain": [
       "False"
      ]
     },
     "execution_count": 28,
     "metadata": {},
     "output_type": "execute_result"
    }
   ],
   "source": [
    "even(5)"
   ]
  },
  {
   "cell_type": "code",
   "execution_count": 31,
   "id": "9782fbf4-4c70-44ee-81b9-4aa4ef4767dc",
   "metadata": {},
   "outputs": [],
   "source": [
    "sql = lambda x : [i**2 for i in x]"
   ]
  },
  {
   "cell_type": "code",
   "execution_count": 32,
   "id": "92107704-6cd5-4fd5-9103-c3bdc6e5a60f",
   "metadata": {},
   "outputs": [
    {
     "data": {
      "text/plain": [
       "[4, 9, 16, 25]"
      ]
     },
     "execution_count": 32,
     "metadata": {},
     "output_type": "execute_result"
    }
   ],
   "source": [
    "sql([2,3,4,5])"
   ]
  },
  {
   "cell_type": "markdown",
   "id": "334c6ea4-1051-43fc-b6ee-b73ee1051a57",
   "metadata": {},
   "source": [
    "# fuctional documentataion"
   ]
  },
  {
   "cell_type": "code",
   "execution_count": 31,
   "id": "e20c4311-6e5f-4552-a537-1c6e1cf2adaa",
   "metadata": {},
   "outputs": [],
   "source": [
    "def add(x,y):\n",
    "    \"this function is used to ad two variable\"\n",
    "    return x+y"
   ]
  },
  {
   "cell_type": "code",
   "execution_count": 32,
   "id": "f1d0c2c3-b376-4d1d-9791-b81264bf31cb",
   "metadata": {},
   "outputs": [
    {
     "data": {
      "text/plain": [
       "\u001b[1;31mSignature:\u001b[0m \u001b[0madd\u001b[0m\u001b[1;33m(\u001b[0m\u001b[0mx\u001b[0m\u001b[1;33m,\u001b[0m \u001b[0my\u001b[0m\u001b[1;33m)\u001b[0m\u001b[1;33m\u001b[0m\u001b[1;33m\u001b[0m\u001b[0m\n",
       "\u001b[1;31mDocstring:\u001b[0m <no docstring>\n",
       "\u001b[1;31mFile:\u001b[0m      c:\\users\\adity\\appdata\\local\\temp\\ipykernel_7132\\263730053.py\n",
       "\u001b[1;31mType:\u001b[0m      function"
      ]
     },
     "metadata": {},
     "output_type": "display_data"
    }
   ],
   "source": [
    "?add"
   ]
  },
  {
   "cell_type": "code",
   "execution_count": 33,
   "id": "c3aef555-becf-4206-8712-9e8a6a5ec8c7",
   "metadata": {},
   "outputs": [],
   "source": [
    "def total(*a):\n",
    "    return a"
   ]
  },
  {
   "cell_type": "code",
   "execution_count": 34,
   "id": "965acce9-3df7-445b-a2f3-0889cba9e86b",
   "metadata": {},
   "outputs": [
    {
     "data": {
      "text/plain": [
       "(1, 2, 3, 4, 5, 6, 7)"
      ]
     },
     "execution_count": 34,
     "metadata": {},
     "output_type": "execute_result"
    }
   ],
   "source": [
    "total(1,2,3,4,5,6,7)"
   ]
  },
  {
   "cell_type": "code",
   "execution_count": 39,
   "id": "5626d78f-9557-40c7-b31e-76d9792c74f8",
   "metadata": {},
   "outputs": [],
   "source": [
    "def total(*a):\n",
    "    t = 0\n",
    "    for i in a:\n",
    "        t+=i\n",
    "    return t"
   ]
  },
  {
   "cell_type": "code",
   "execution_count": 40,
   "id": "692d4ff2-3c71-4170-b187-508e512781be",
   "metadata": {},
   "outputs": [
    {
     "data": {
      "text/plain": [
       "15"
      ]
     },
     "execution_count": 40,
     "metadata": {},
     "output_type": "execute_result"
    }
   ],
   "source": [
    "total(1,2,3,4,5)"
   ]
  },
  {
   "cell_type": "code",
   "execution_count": 42,
   "id": "182932a7-c72c-42dc-9453-8f9afd948819",
   "metadata": {},
   "outputs": [],
   "source": [
    "def kk(*k):\n",
    "    return k"
   ]
  },
  {
   "cell_type": "code",
   "execution_count": 43,
   "id": "d0a02765-c08d-419a-87a4-7d52a7967152",
   "metadata": {},
   "outputs": [
    {
     "data": {
      "text/plain": [
       "([1, 2, 3, 4], [7, 8, 9], [10])"
      ]
     },
     "execution_count": 43,
     "metadata": {},
     "output_type": "execute_result"
    }
   ],
   "source": [
    "kk([1,2,3,4],[7,8,9],[10])\n"
   ]
  },
  {
   "cell_type": "code",
   "execution_count": 44,
   "id": "bdd7a893-3dfc-4b29-9563-504419a9e21d",
   "metadata": {},
   "outputs": [],
   "source": [
    "f = ([1,2,3,4],[7,8,9],[10])"
   ]
  },
  {
   "cell_type": "code",
   "execution_count": 46,
   "id": "e189b94e-7cfc-476a-85d5-3455b846693b",
   "metadata": {},
   "outputs": [
    {
     "name": "stdout",
     "output_type": "stream",
     "text": [
      "44\n"
     ]
    }
   ],
   "source": [
    "g = 0\n",
    "for i in f:\n",
    "    for j in i:\n",
    "        g=g+j\n",
    "print(g)"
   ]
  }
 ],
 "metadata": {
  "kernelspec": {
   "display_name": "Python 3 (ipykernel)",
   "language": "python",
   "name": "python3"
  },
  "language_info": {
   "codemirror_mode": {
    "name": "ipython",
    "version": 3
   },
   "file_extension": ".py",
   "mimetype": "text/x-python",
   "name": "python",
   "nbconvert_exporter": "python",
   "pygments_lexer": "ipython3",
   "version": "3.12.4"
  }
 },
 "nbformat": 4,
 "nbformat_minor": 5
}
