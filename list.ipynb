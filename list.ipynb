{
 "cells": [
  {
   "cell_type": "markdown",
   "id": "e1e64329-7323-4129-953a-76c38a1ea054",
   "metadata": {},
   "source": [
    "# List"
   ]
  },
  {
   "cell_type": "code",
   "execution_count": 1,
   "id": "e00b54b5-b99a-4f74-8966-30e64a73749d",
   "metadata": {},
   "outputs": [],
   "source": [
    "w=[]"
   ]
  },
  {
   "cell_type": "code",
   "execution_count": 2,
   "id": "1596b485-d68a-4cc3-b591-22450e87763c",
   "metadata": {},
   "outputs": [
    {
     "data": {
      "text/plain": [
       "list"
      ]
     },
     "execution_count": 2,
     "metadata": {},
     "output_type": "execute_result"
    }
   ],
   "source": [
    "type(w)"
   ]
  },
  {
   "cell_type": "code",
   "execution_count": 3,
   "id": "07c10606-afe7-412a-9485-3aec3b977e3f",
   "metadata": {},
   "outputs": [],
   "source": [
    "w=[0,1,2,3,5,9,20,11,25]"
   ]
  },
  {
   "cell_type": "code",
   "execution_count": 4,
   "id": "117014b7-2e2a-4dd0-95d4-799dff1eb598",
   "metadata": {},
   "outputs": [],
   "source": [
    "w.append(88)"
   ]
  },
  {
   "cell_type": "code",
   "execution_count": 5,
   "id": "1ace8f10-b156-4868-9f3c-114ee97b5807",
   "metadata": {},
   "outputs": [
    {
     "data": {
      "text/plain": [
       "[0, 1, 2, 3, 5, 9, 20, 11, 25, 88]"
      ]
     },
     "execution_count": 5,
     "metadata": {},
     "output_type": "execute_result"
    }
   ],
   "source": [
    "w"
   ]
  },
  {
   "cell_type": "code",
   "execution_count": 7,
   "id": "6a8c08c9-4562-43dd-9f6f-f5deeac0ed29",
   "metadata": {},
   "outputs": [],
   "source": [
    "l=[1,1.5,'string',True,[1,2,3,'new',False]]"
   ]
  },
  {
   "cell_type": "code",
   "execution_count": 8,
   "id": "aeb97de0-b3d7-4881-95de-21ddf3cb06a7",
   "metadata": {},
   "outputs": [
    {
     "data": {
      "text/plain": [
       "[1, 1.5, 'string', True, [1, 2, 3, 'new', False]]"
      ]
     },
     "execution_count": 8,
     "metadata": {},
     "output_type": "execute_result"
    }
   ],
   "source": [
    "l"
   ]
  },
  {
   "cell_type": "code",
   "execution_count": 48,
   "id": "58d9e72d-48df-4a3a-89e6-b22113a2dfd5",
   "metadata": {},
   "outputs": [],
   "source": [
    "k1=[0,1,2,3,4,5,6,7,8,9,10]"
   ]
  },
  {
   "cell_type": "code",
   "execution_count": 10,
   "id": "ff7190f7-ffa6-4159-9dcd-e1c1038f1c73",
   "metadata": {},
   "outputs": [
    {
     "name": "stdout",
     "output_type": "stream",
     "text": [
      "[0, 1, 2, 3, 4, 5, 6, 7, 8, 9, 10]\n"
     ]
    }
   ],
   "source": [
    "print(k1)"
   ]
  },
  {
   "cell_type": "code",
   "execution_count": 12,
   "id": "f237caa7-f6ec-49bc-9340-d02a9c8c60c4",
   "metadata": {},
   "outputs": [
    {
     "data": {
      "text/plain": [
       "1"
      ]
     },
     "execution_count": 12,
     "metadata": {},
     "output_type": "execute_result"
    }
   ],
   "source": [
    "k1.count(10)"
   ]
  },
  {
   "cell_type": "code",
   "execution_count": 13,
   "id": "e1bb7dc6-d4d3-41e3-89e2-d1a05ca9b32f",
   "metadata": {},
   "outputs": [
    {
     "data": {
      "text/plain": [
       "11"
      ]
     },
     "execution_count": 13,
     "metadata": {},
     "output_type": "execute_result"
    }
   ],
   "source": [
    "len(k1)"
   ]
  },
  {
   "cell_type": "code",
   "execution_count": 20,
   "id": "8ae2fd84-e874-4028-8e83-9442c4be94ba",
   "metadata": {},
   "outputs": [
    {
     "data": {
      "text/plain": [
       "54"
      ]
     },
     "execution_count": 20,
     "metadata": {},
     "output_type": "execute_result"
    }
   ],
   "source": [
    "k1.pop()"
   ]
  },
  {
   "cell_type": "code",
   "execution_count": 22,
   "id": "3c1d56ba-2860-4cb8-9d73-c6f94623656b",
   "metadata": {},
   "outputs": [
    {
     "data": {
      "text/plain": [
       "[0, 1, 2, 3, 4, 5, 6, 7, 8, 9, 10]"
      ]
     },
     "execution_count": 22,
     "metadata": {},
     "output_type": "execute_result"
    }
   ],
   "source": [
    "k1"
   ]
  },
  {
   "cell_type": "code",
   "execution_count": null,
   "id": "bd746260-22f8-471a-970a-6a5309503d77",
   "metadata": {},
   "outputs": [],
   "source": [
    "k1"
   ]
  },
  {
   "cell_type": "code",
   "execution_count": 16,
   "id": "367d7708-1521-4158-a41e-0e4b6292f71d",
   "metadata": {},
   "outputs": [],
   "source": [
    "k1.insert(11,54)"
   ]
  },
  {
   "cell_type": "code",
   "execution_count": null,
   "id": "84f8bf4d-785b-48e7-8c1b-64a1abd15136",
   "metadata": {
    "scrolled": true
   },
   "outputs": [],
   "source": [
    "k1"
   ]
  },
  {
   "cell_type": "code",
   "execution_count": 26,
   "id": "aced213a-a2da-4088-bbd0-15c0504e93a4",
   "metadata": {},
   "outputs": [],
   "source": [
    "k1.extend([2,3])"
   ]
  },
  {
   "cell_type": "code",
   "execution_count": 27,
   "id": "fffa03a4-e4f1-4c60-b92e-72b21b1a32b4",
   "metadata": {},
   "outputs": [
    {
     "data": {
      "text/plain": [
       "[0, 1, 2, 3, 4, 5, 6, 7, 8, 9, 10, 2, 3]"
      ]
     },
     "execution_count": 27,
     "metadata": {},
     "output_type": "execute_result"
    }
   ],
   "source": [
    "k1"
   ]
  },
  {
   "cell_type": "code",
   "execution_count": 28,
   "id": "fec7019b-eafa-473a-bb1b-90695387a4d5",
   "metadata": {},
   "outputs": [],
   "source": [
    "k1.remove(3)"
   ]
  },
  {
   "cell_type": "code",
   "execution_count": 29,
   "id": "a43da405-a536-4a05-bf50-03f83c0846d8",
   "metadata": {},
   "outputs": [
    {
     "data": {
      "text/plain": [
       "[0, 1, 2, 4, 5, 6, 7, 8, 9, 10, 2, 3]"
      ]
     },
     "execution_count": 29,
     "metadata": {},
     "output_type": "execute_result"
    }
   ],
   "source": [
    "k1"
   ]
  },
  {
   "cell_type": "code",
   "execution_count": 30,
   "id": "8fbcbe6c-e239-4ca3-a243-7dba7d30d3aa",
   "metadata": {},
   "outputs": [],
   "source": [
    "k1.reverse()"
   ]
  },
  {
   "cell_type": "code",
   "execution_count": 31,
   "id": "aeb55253-71ba-4549-a4f2-4c41e3243834",
   "metadata": {},
   "outputs": [
    {
     "data": {
      "text/plain": [
       "[3, 2, 10, 9, 8, 7, 6, 5, 4, 2, 1, 0]"
      ]
     },
     "execution_count": 31,
     "metadata": {},
     "output_type": "execute_result"
    }
   ],
   "source": [
    "k1"
   ]
  },
  {
   "cell_type": "code",
   "execution_count": 32,
   "id": "34ea97eb-3ce3-430a-bf17-3d14a47386a0",
   "metadata": {},
   "outputs": [],
   "source": [
    "k1.sort()"
   ]
  },
  {
   "cell_type": "code",
   "execution_count": 33,
   "id": "c928fea4-22de-4182-9d0f-ad70677041b0",
   "metadata": {},
   "outputs": [
    {
     "data": {
      "text/plain": [
       "[0, 1, 2, 2, 3, 4, 5, 6, 7, 8, 9, 10]"
      ]
     },
     "execution_count": 33,
     "metadata": {},
     "output_type": "execute_result"
    }
   ],
   "source": [
    "k1"
   ]
  },
  {
   "cell_type": "code",
   "execution_count": 41,
   "id": "e1f2ddae-49ce-41b5-9cfc-0f02ff6b4088",
   "metadata": {},
   "outputs": [
    {
     "data": {
      "text/plain": [
       "3"
      ]
     },
     "execution_count": 41,
     "metadata": {},
     "output_type": "execute_result"
    }
   ],
   "source": [
    "k1.index(2,3)"
   ]
  },
  {
   "cell_type": "code",
   "execution_count": 42,
   "id": "fdc67f9b-bc1d-45f2-aafe-403b72155a0a",
   "metadata": {},
   "outputs": [],
   "source": [
    "k1.clear()"
   ]
  },
  {
   "cell_type": "code",
   "execution_count": 43,
   "id": "f8d1333f-0d5c-4b6d-9b1b-364a006d6b12",
   "metadata": {},
   "outputs": [
    {
     "data": {
      "text/plain": [
       "[]"
      ]
     },
     "execution_count": 43,
     "metadata": {},
     "output_type": "execute_result"
    }
   ],
   "source": [
    "k1"
   ]
  },
  {
   "cell_type": "code",
   "execution_count": 49,
   "id": "53843ac3-04c8-40fb-84fd-57434d20faca",
   "metadata": {},
   "outputs": [],
   "source": [
    "k2=k1.copy()"
   ]
  },
  {
   "cell_type": "code",
   "execution_count": 50,
   "id": "5a92ed5c-7162-401c-a8f2-885a741cd4a9",
   "metadata": {},
   "outputs": [
    {
     "data": {
      "text/plain": [
       "[0, 1, 2, 3, 4, 5, 6, 7, 8, 9, 10]"
      ]
     },
     "execution_count": 50,
     "metadata": {},
     "output_type": "execute_result"
    }
   ],
   "source": [
    "k2"
   ]
  },
  {
   "cell_type": "code",
   "execution_count": 51,
   "id": "896b45f1-d61e-4d55-b3c9-7d79fffe1c76",
   "metadata": {},
   "outputs": [],
   "source": [
    "k2[2]=False"
   ]
  },
  {
   "cell_type": "code",
   "execution_count": 52,
   "id": "95ea11cd-3825-4fe9-aa25-6c6ecbad80ef",
   "metadata": {},
   "outputs": [
    {
     "data": {
      "text/plain": [
       "[0, 1, False, 3, 4, 5, 6, 7, 8, 9, 10]"
      ]
     },
     "execution_count": 52,
     "metadata": {},
     "output_type": "execute_result"
    }
   ],
   "source": [
    "k2"
   ]
  },
  {
   "cell_type": "code",
   "execution_count": 54,
   "id": "6ecaec7d-f425-4748-a6a7-d40c16b267a3",
   "metadata": {},
   "outputs": [
    {
     "data": {
      "text/plain": [
       "3"
      ]
     },
     "execution_count": 54,
     "metadata": {},
     "output_type": "execute_result"
    }
   ],
   "source": [
    "k2.index(3)"
   ]
  },
  {
   "cell_type": "code",
   "execution_count": 55,
   "id": "ce745701-c0b2-43aa-90a6-41bc7c45e40f",
   "metadata": {},
   "outputs": [],
   "source": [
    "q=[1,1.5,'string',89,False,[1,2,3,'new',False]]"
   ]
  },
  {
   "cell_type": "code",
   "execution_count": 61,
   "id": "fd717308-0db0-4e4f-a559-639a6e00a59f",
   "metadata": {},
   "outputs": [
    {
     "data": {
      "text/plain": [
       "'new'"
      ]
     },
     "execution_count": 61,
     "metadata": {},
     "output_type": "execute_result"
    }
   ],
   "source": [
    "q[5][3]"
   ]
  },
  {
   "cell_type": "code",
   "execution_count": 62,
   "id": "6e9c2d27-41b6-455c-ae81-b17ff3651837",
   "metadata": {},
   "outputs": [],
   "source": [
    "q[2]=4\n",
    "q[-1][-2]=4"
   ]
  },
  {
   "cell_type": "code",
   "execution_count": 63,
   "id": "49d0813e-8079-492f-9813-15d690ee9872",
   "metadata": {},
   "outputs": [
    {
     "data": {
      "text/plain": [
       "[1, 1.5, 4, 89, False, [1, 2, 3, 4, False]]"
      ]
     },
     "execution_count": 63,
     "metadata": {},
     "output_type": "execute_result"
    }
   ],
   "source": [
    "q"
   ]
  },
  {
   "cell_type": "code",
   "execution_count": 83,
   "id": "b20f352c-dc5c-4955-aeda-17561760a959",
   "metadata": {},
   "outputs": [],
   "source": [
    "r=[4,5,7,[4,2,0,3,5,'todey',4],478,'string']"
   ]
  },
  {
   "cell_type": "code",
   "execution_count": 84,
   "id": "f68c9c44-7f37-49b5-800f-3b4f2edbe6f6",
   "metadata": {},
   "outputs": [],
   "source": [
    "r[3][-2]=r[3][-2].replace('e','a')"
   ]
  },
  {
   "cell_type": "code",
   "execution_count": 85,
   "id": "ed14d287-5294-4f86-a19b-4551103fc478",
   "metadata": {},
   "outputs": [
    {
     "data": {
      "text/plain": [
       "[4, 5, 7, [4, 2, 0, 3, 5, 'today', 4], 478, 'string']"
      ]
     },
     "execution_count": 85,
     "metadata": {},
     "output_type": "execute_result"
    }
   ],
   "source": [
    "r"
   ]
  },
  {
   "cell_type": "code",
   "execution_count": null,
   "id": "eb2d2087-2c8d-4e1e-9ae7-b21d0f2ca60e",
   "metadata": {},
   "outputs": [],
   "source": []
  }
 ],
 "metadata": {
  "kernelspec": {
   "display_name": "Python 3 (ipykernel)",
   "language": "python",
   "name": "python3"
  },
  "language_info": {
   "codemirror_mode": {
    "name": "ipython",
    "version": 3
   },
   "file_extension": ".py",
   "mimetype": "text/x-python",
   "name": "python",
   "nbconvert_exporter": "python",
   "pygments_lexer": "ipython3",
   "version": "3.12.4"
  }
 },
 "nbformat": 4,
 "nbformat_minor": 5
}
