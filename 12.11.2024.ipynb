{
 "cells": [
  {
   "cell_type": "markdown",
   "id": "ff72a502-e5b5-45c9-9643-3aa8b3feaff0",
   "metadata": {},
   "source": [
    "### 1. Define a python class student with attributes name, age and grade and a method is_passing() to check if the student's grade is passing (>=60)."
   ]
  },
  {
   "cell_type": "code",
   "execution_count": 13,
   "id": "d8c99423-e181-47d8-8e9c-9a9fbe91ee02",
   "metadata": {},
   "outputs": [],
   "source": [
    "class Student:\n",
    "    def details(self,name,age,grade):\n",
    "        self.name=name\n",
    "        self.age=age\n",
    "        self.grade=grade\n",
    "    def is_passing(self):\n",
    "        if self.grade>=60:\n",
    "            return \"Pass\"\n",
    "        else:\n",
    "            return \"Fail\""
   ]
  },
  {
   "cell_type": "code",
   "execution_count": 14,
   "id": "9bba5940-11cf-4cff-8e3c-dbc07c6b588d",
   "metadata": {},
   "outputs": [],
   "source": [
    "s=Student()"
   ]
  },
  {
   "cell_type": "code",
   "execution_count": 15,
   "id": "f4f6a3c0-1446-468f-b382-a80f31ed5a89",
   "metadata": {},
   "outputs": [],
   "source": [
    "s.details(\"Aniket Manhas\",21,77)"
   ]
  },
  {
   "cell_type": "code",
   "execution_count": 16,
   "id": "4478ad4a-5dc7-4d0d-a1a3-c27b84c7bb6f",
   "metadata": {},
   "outputs": [
    {
     "data": {
      "text/plain": [
       "'Pass'"
      ]
     },
     "execution_count": 16,
     "metadata": {},
     "output_type": "execute_result"
    }
   ],
   "source": [
    "s.is_passing()"
   ]
  },
  {
   "cell_type": "code",
   "execution_count": null,
   "id": "342c6fc8-2427-4043-8eeb-12a5cd2d1102",
   "metadata": {},
   "outputs": [],
   "source": []
  },
  {
   "cell_type": "markdown",
   "id": "c8f5c347-7440-4409-818c-3af4e58b2906",
   "metadata": {},
   "source": [
    "### 2. Create a Python class book with attributes title, author, and pages and add a method display_info() to display the book's information"
   ]
  },
  {
   "cell_type": "code",
   "execution_count": 17,
   "id": "43c5c11e-a1df-4ac5-89a3-114a300a5bf8",
   "metadata": {},
   "outputs": [],
   "source": [
    "class Book:\n",
    "    def info(self,title,author,pages):\n",
    "        self.title=title\n",
    "        self.author = author\n",
    "        self.pages=pages\n",
    "\n",
    "    def display_info(self):\n",
    "        print(\"Title :\",self.title)\n",
    "        print(\"Author :\",self.author)\n",
    "        print(\"Pages :\",self.pages)"
   ]
  },
  {
   "cell_type": "code",
   "execution_count": 18,
   "id": "4f74e58a-8326-4bac-884b-5211f78f6b05",
   "metadata": {},
   "outputs": [],
   "source": [
    "b=Book()"
   ]
  },
  {
   "cell_type": "code",
   "execution_count": 19,
   "id": "95570365-a0ef-4053-a023-3781256d3eef",
   "metadata": {},
   "outputs": [],
   "source": [
    "b.info(\"Abc\",\"Rohan\",101)"
   ]
  },
  {
   "cell_type": "code",
   "execution_count": 20,
   "id": "333cdd02-b564-44d8-9696-c515b16f0afe",
   "metadata": {},
   "outputs": [
    {
     "name": "stdout",
     "output_type": "stream",
     "text": [
      "Title : Abc\n",
      "Author : Rohan\n",
      "Pages : 101\n"
     ]
    }
   ],
   "source": [
    "b.display_info()"
   ]
  },
  {
   "cell_type": "code",
   "execution_count": null,
   "id": "cc76eda7-1013-4aef-9f68-fe83e73b57b2",
   "metadata": {},
   "outputs": [],
   "source": []
  },
  {
   "cell_type": "markdown",
   "id": "38e7792e-b744-4755-b234-11485c83e395",
   "metadata": {},
   "source": [
    "### Constuctor"
   ]
  },
  {
   "cell_type": "code",
   "execution_count": 21,
   "id": "79dadd74-25af-4170-94c6-bbe033c4d7c5",
   "metadata": {},
   "outputs": [],
   "source": [
    "class Room:\n",
    "    def __init__(self,no):\n",
    "        print(\"this is constructor of room class\")\n",
    "        self.no=no\n",
    "    def show(self):\n",
    "        return self.no"
   ]
  },
  {
   "cell_type": "code",
   "execution_count": 22,
   "id": "c6ad8499-a7a8-43e1-8ee1-32ce0d85bb2b",
   "metadata": {},
   "outputs": [
    {
     "name": "stdout",
     "output_type": "stream",
     "text": [
      "this is constructor of room class\n"
     ]
    }
   ],
   "source": [
    "r=Room(101)"
   ]
  },
  {
   "cell_type": "code",
   "execution_count": 23,
   "id": "e11e8f70-9b65-4a04-ab1e-3c04304cfd36",
   "metadata": {},
   "outputs": [
    {
     "data": {
      "text/plain": [
       "101"
      ]
     },
     "execution_count": 23,
     "metadata": {},
     "output_type": "execute_result"
    }
   ],
   "source": [
    "r.show()"
   ]
  },
  {
   "cell_type": "code",
   "execution_count": null,
   "id": "8805555b-5317-4a8e-bfa6-b7bc6e945a3d",
   "metadata": {},
   "outputs": [],
   "source": []
  },
  {
   "cell_type": "markdown",
   "id": "bf591030-0098-4568-a5f8-78e062a59068",
   "metadata": {},
   "source": [
    "### 1. Define a python class student with attributes name, age and grade and a method is_passing() to check if the student's grade is passing (>=60). "
   ]
  },
  {
   "cell_type": "code",
   "execution_count": 24,
   "id": "2db615fe-05c0-43a1-b4c8-35030bdeed02",
   "metadata": {},
   "outputs": [],
   "source": [
    "class Student:\n",
    "    def __init__(self,name,age,grade):\n",
    "        self.name=name\n",
    "        self.age=age\n",
    "        self.grade=grade\n",
    "    def is_passing(self):\n",
    "        if(self.grade>=60):\n",
    "            return 'Pass'\n",
    "        else:\n",
    "            return 'Fail'"
   ]
  },
  {
   "cell_type": "code",
   "execution_count": 25,
   "id": "d6ded91a-56df-49ae-96cb-16afe40c0f12",
   "metadata": {},
   "outputs": [],
   "source": [
    "s=Student('Aniket Manhas',21,45)"
   ]
  },
  {
   "cell_type": "code",
   "execution_count": 26,
   "id": "dc2bf746-6276-445c-91c2-5ee9454be5a2",
   "metadata": {},
   "outputs": [
    {
     "data": {
      "text/plain": [
       "'Fail'"
      ]
     },
     "execution_count": 26,
     "metadata": {},
     "output_type": "execute_result"
    }
   ],
   "source": [
    "s.is_passing()"
   ]
  },
  {
   "cell_type": "code",
   "execution_count": null,
   "id": "646e9581-7e20-4b96-b052-8592383ba920",
   "metadata": {},
   "outputs": [],
   "source": []
  },
  {
   "cell_type": "markdown",
   "id": "3965e4ee-72cc-4d63-8404-0305755a3918",
   "metadata": {},
   "source": [
    "### 2. Create a Python class book with attributes title, author, and pages and add a method display_info() to display the book's information"
   ]
  },
  {
   "cell_type": "code",
   "execution_count": 27,
   "id": "2e26a635-6f8c-4d6c-ba29-5260d34a70cf",
   "metadata": {},
   "outputs": [],
   "source": [
    "class Book:\n",
    "    def __init__(self,title,author,pages):\n",
    "        self.title=title\n",
    "        self.author=author\n",
    "        self.pages=pages\n",
    "    def display_info(self):\n",
    "        print('Title :',self.title)\n",
    "        print('Author :',self.author)\n",
    "        print('Pages :',self.pages)"
   ]
  },
  {
   "cell_type": "code",
   "execution_count": 28,
   "id": "36292b01-20fc-40f3-b46f-a0b23b92041c",
   "metadata": {},
   "outputs": [],
   "source": [
    "b=Book('XYZ','Aman',323)"
   ]
  },
  {
   "cell_type": "code",
   "execution_count": 29,
   "id": "6e9be3d1-bf38-4ffd-9694-a892e5aa4248",
   "metadata": {},
   "outputs": [
    {
     "name": "stdout",
     "output_type": "stream",
     "text": [
      "Title : XYZ\n",
      "Author : Aman\n",
      "Pages : 323\n"
     ]
    }
   ],
   "source": [
    "b.display_info()"
   ]
  },
  {
   "cell_type": "code",
   "execution_count": null,
   "id": "9f708277-b2c4-447c-ad28-9be640676e21",
   "metadata": {},
   "outputs": [],
   "source": [
    "class Cylinder():\n",
    "    def __init__(self,r,h,pi):\n",
    "        self.r=r\n",
    "        self.h=h\n",
    "        self.pi=pi\n",
    "    def volume(self):\n",
    "        "
   ]
  },
  {
   "cell_type": "code",
   "execution_count": null,
   "id": "8f426d7b-4462-41d0-beb3-2ae837df9869",
   "metadata": {},
   "outputs": [],
   "source": []
  }
 ],
 "metadata": {
  "kernelspec": {
   "display_name": "Python 3 (ipykernel)",
   "language": "python",
   "name": "python3"
  },
  "language_info": {
   "codemirror_mode": {
    "name": "ipython",
    "version": 3
   },
   "file_extension": ".py",
   "mimetype": "text/x-python",
   "name": "python",
   "nbconvert_exporter": "python",
   "pygments_lexer": "ipython3",
   "version": "3.12.4"
  }
 },
 "nbformat": 4,
 "nbformat_minor": 5
}
