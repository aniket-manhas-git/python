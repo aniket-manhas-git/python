{
 "cells": [
  {
   "cell_type": "code",
   "execution_count": 20,
   "id": "316bd6e2-a312-4c6e-a83f-ba2175a10b82",
   "metadata": {},
   "outputs": [],
   "source": [
    "def unique(l1):\n",
    "    for i in l1:\n",
    "        if i \n"
   ]
  },
  {
   "cell_type": "code",
   "execution_count": null,
   "id": "a13c039c-8cf1-4271-839a-4d72da1803d4",
   "metadata": {},
   "outputs": [],
   "source": [
    "list = [1,2,3,4,5,6,2,5,7]\n",
    "for "
   ]
  },
  {
   "cell_type": "code",
   "execution_count": null,
   "id": "43c2ef5a-19af-4b38-98ce-eb293de5e1c8",
   "metadata": {},
   "outputs": [],
   "source": []
  },
  {
   "cell_type": "code",
   "execution_count": null,
   "id": "17e56bfc-003e-47b8-aa22-72ac98f0c1b1",
   "metadata": {},
   "outputs": [],
   "source": []
  }
 ],
 "metadata": {
  "kernelspec": {
   "display_name": "Python 3 (ipykernel)",
   "language": "python",
   "name": "python3"
  },
  "language_info": {
   "codemirror_mode": {
    "name": "ipython",
    "version": 3
   },
   "file_extension": ".py",
   "mimetype": "text/x-python",
   "name": "python",
   "nbconvert_exporter": "python",
   "pygments_lexer": "ipython3",
   "version": "3.12.4"
  }
 },
 "nbformat": 4,
 "nbformat_minor": 5
}
