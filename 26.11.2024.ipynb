{
 "cells": [
  {
   "cell_type": "code",
   "execution_count": 3,
   "id": "1c38c967-b76b-4c62-96fd-2a1d686660ee",
   "metadata": {},
   "outputs": [],
   "source": [
    "file=open(\"sem5\",\"a\")\n",
    "file.write(\"1 today we are learning file handling\\n\")\n",
    "file.write(\"2 now we need to use mode a so that we can add a file\\n\")\n",
    "file.write(\"3 always use line seprator at the end of the line\\n\")\n",
    "file.close()"
   ]
  },
  {
   "cell_type": "code",
   "execution_count": 6,
   "id": "f7def79f-adaa-42eb-bf08-da23de45984d",
   "metadata": {},
   "outputs": [
    {
     "name": "stdout",
     "output_type": "stream",
     "text": [
      "1 today we are learning file handling\n",
      "2 now we need to use mode a so that we can add a file\n",
      "3 always use line seprator at the end of the line\n",
      "\n"
     ]
    }
   ],
   "source": [
    "file=open(\"sem5\",\"r\")\n",
    "print(file.read())\n",
    "file.close()"
   ]
  },
  {
   "cell_type": "code",
   "execution_count": 10,
   "id": "023de5e4-6e4e-4389-8a41-f1be1c5ee10e",
   "metadata": {},
   "outputs": [
    {
     "name": "stdout",
     "output_type": "stream",
     "text": [
      "1 today we are learning file handling\n",
      "\n"
     ]
    }
   ],
   "source": [
    "file=open(\"sem5\",\"r\")\n",
    "print(file.readlines()[0])\n",
    "file.close()"
   ]
  },
  {
   "cell_type": "code",
   "execution_count": 15,
   "id": "a9c2e580-372d-4825-99ab-a58ccd58b3cc",
   "metadata": {},
   "outputs": [
    {
     "name": "stdout",
     "output_type": "stream",
     "text": [
      "1 today we are learning file handling\n",
      "\n",
      "3 always use line seprator at the end of the line\n",
      "\n"
     ]
    }
   ],
   "source": [
    "file=open(\"sem5\",\"r\")\n",
    "f=file.readlines()\n",
    "print(f[0])\n",
    "print(f[2])"
   ]
  },
  {
   "cell_type": "code",
   "execution_count": 3,
   "id": "42d1b1c8-2b05-4c24-97b7-6363fbe4971d",
   "metadata": {},
   "outputs": [],
   "source": [
    "file=open(\"test\",\"w\")\n",
    "file.write(\"1 we are learning file handling\\n\")\n",
    "file.write(\"2 the file handling is used to handle the file in each and every way possible\\n\")\n",
    "file.write(\"3 in the file handling we can create a text file and can also insert lines in the file\\n\")\n",
    "file.write(\"4 the basic syntax of the file handling is variable_name = open('file_name','w')\\n\")\n",
    "file.write(\"5 mode 'w' is used to write or insert any line in the file\\n\")\n",
    "file.write(\"6 the syantax for append a line variable_name = open('file_name','a')\\n\")\n",
    "file.close()"
   ]
  },
  {
   "cell_type": "code",
   "execution_count": 2,
   "id": "34631a8b-3ad9-46c4-9a6f-29ed71ce0ce3",
   "metadata": {},
   "outputs": [
    {
     "name": "stdout",
     "output_type": "stream",
     "text": [
      "1 we are learning file handling\n",
      "2 the file handling is used to handle the file in each and every way possible\n",
      "3 in the file handling we can create a text file and can also insert lines in the file\n",
      "4 the basic syntax of the file handling is variable_name = open('file_name','w')\n",
      "5 mode 'w' is used to write or insert any line in the file\n",
      "6 the syantax for append a line variable_name = open('file_name','a')\n",
      "\n"
     ]
    }
   ],
   "source": [
    "file=open(\"test\",\"r\")\n",
    "print(file.read())\n",
    "file.close()"
   ]
  },
  {
   "cell_type": "code",
   "execution_count": 58,
   "id": "246f2d95-61ee-4945-b412-52acb0b0b4e2",
   "metadata": {},
   "outputs": [
    {
     "name": "stdout",
     "output_type": "stream",
     "text": [
      "6 the syantax for append a line variable_name = open('file_name','a')\n",
      "\n"
     ]
    }
   ],
   "source": [
    "# return nth line from the list\n",
    "file=open(\"test\",\"r\")\n",
    "print(file.readlines()[5])\n",
    "file.close()"
   ]
  },
  {
   "cell_type": "code",
   "execution_count": 59,
   "id": "0c647bff-1563-402d-bb5a-a0c94a33ce7d",
   "metadata": {},
   "outputs": [
    {
     "name": "stdout",
     "output_type": "stream",
     "text": [
      "1 we are learning file handling\n",
      "\n",
      "2 the file handling is used to handle the file in each and every way possible\n",
      "\n",
      "5 mode 'w' is used to write or insert any line in the file\n",
      "\n"
     ]
    }
   ],
   "source": [
    "# for reading multiple lines \n",
    "file=open(\"test\",\"r\")\n",
    "f=file.readlines()\n",
    "print(f[0])\n",
    "print(f[1])\n",
    "print(f[4])\n",
    "file.close()"
   ]
  },
  {
   "cell_type": "code",
   "execution_count": 60,
   "id": "d6c195fe-62ff-44b5-8ada-68d533e0236a",
   "metadata": {},
   "outputs": [
    {
     "name": "stdout",
     "output_type": "stream",
     "text": [
      "1 we \n",
      "2 the\n",
      "3 in \n",
      "4 the\n",
      "5 mod\n",
      "6 the\n"
     ]
    }
   ],
   "source": [
    "# return 1st five letters of each line of the file \n",
    "file=open(\"test\",\"r\")\n",
    "f=file.readlines()\n",
    "for i in f:\n",
    "    print(i[0:5])\n",
    "file.close()"
   ]
  },
  {
   "cell_type": "code",
   "execution_count": 61,
   "id": "43cb9a71-5722-4557-ba33-4401e4705110",
   "metadata": {},
   "outputs": [
    {
     "name": "stdout",
     "output_type": "stream",
     "text": [
      "1 we are learning \n",
      "2 the file handling \n",
      "3 in the file \n",
      "4 the basic syntax \n",
      "5 mode 'w' is \n",
      "6 the syantax for \n"
     ]
    }
   ],
   "source": [
    "# return first 4 words of each line\n",
    "file=open(\"test\",\"r\")\n",
    "f=file.readlines()\n",
    "for i in f:\n",
    "    for j in i.split()[0:4]:\n",
    "        print(j,end=\" \")\n",
    "    print()\n",
    "file.close()"
   ]
  },
  {
   "cell_type": "code",
   "execution_count": 62,
   "id": "3624f23a-53e5-4e33-a80d-acbb8a877b39",
   "metadata": {},
   "outputs": [
    {
     "name": "stdout",
     "output_type": "stream",
     "text": [
      "learning\n",
      "handling\n",
      "handling\n",
      "handle\n",
      "every\n",
      "possible\n",
      "handling\n",
      "create\n",
      "insert\n",
      "lines\n",
      "basic\n",
      "syntax\n",
      "handling\n",
      "variable_name\n",
      "open('file_name','w')\n",
      "write\n",
      "insert\n",
      "syantax\n",
      "append\n",
      "variable_name\n",
      "open('file_name','a')\n"
     ]
    }
   ],
   "source": [
    "# print those words where length is more than 4\n",
    "file=open(\"test\",\"r\")\n",
    "f=file.readlines()\n",
    "for i in f:\n",
    "    for j in i.split():\n",
    "        if(len(j)>4):\n",
    "            print(j)\n",
    "file.close()"
   ]
  },
  {
   "cell_type": "code",
   "execution_count": 1,
   "id": "a515fe9b-d6b7-415a-b650-a34918e3bc43",
   "metadata": {},
   "outputs": [
    {
     "ename": "FileNotFoundError",
     "evalue": "[Errno 2] No such file or directory: 'text'",
     "output_type": "error",
     "traceback": [
      "\u001b[1;31m---------------------------------------------------------------------------\u001b[0m",
      "\u001b[1;31mFileNotFoundError\u001b[0m                         Traceback (most recent call last)",
      "Cell \u001b[1;32mIn[1], line 1\u001b[0m\n\u001b[1;32m----> 1\u001b[0m file\u001b[38;5;241m=\u001b[39m\u001b[38;5;28;43mopen\u001b[39;49m\u001b[43m(\u001b[49m\u001b[38;5;124;43m\"\u001b[39;49m\u001b[38;5;124;43mtext\u001b[39;49m\u001b[38;5;124;43m\"\u001b[39;49m\u001b[43m,\u001b[49m\u001b[38;5;124;43m\"\u001b[39;49m\u001b[38;5;124;43mr\u001b[39;49m\u001b[38;5;124;43m\"\u001b[39;49m\u001b[43m)\u001b[49m\n\u001b[0;32m      2\u001b[0m f\u001b[38;5;241m=\u001b[39mfile\u001b[38;5;241m.\u001b[39mread()\n\u001b[0;32m      3\u001b[0m f\u001b[38;5;241m=\u001b[39mfile\u001b[38;5;241m.\u001b[39mclose()\n",
      "File \u001b[1;32mc:\\Users\\anike\\Coding\\Python\\venv\\Lib\\site-packages\\IPython\\core\\interactiveshell.py:324\u001b[0m, in \u001b[0;36m_modified_open\u001b[1;34m(file, *args, **kwargs)\u001b[0m\n\u001b[0;32m    317\u001b[0m \u001b[38;5;28;01mif\u001b[39;00m file \u001b[38;5;129;01min\u001b[39;00m {\u001b[38;5;241m0\u001b[39m, \u001b[38;5;241m1\u001b[39m, \u001b[38;5;241m2\u001b[39m}:\n\u001b[0;32m    318\u001b[0m     \u001b[38;5;28;01mraise\u001b[39;00m \u001b[38;5;167;01mValueError\u001b[39;00m(\n\u001b[0;32m    319\u001b[0m         \u001b[38;5;124mf\u001b[39m\u001b[38;5;124m\"\u001b[39m\u001b[38;5;124mIPython won\u001b[39m\u001b[38;5;124m'\u001b[39m\u001b[38;5;124mt let you open fd=\u001b[39m\u001b[38;5;132;01m{\u001b[39;00mfile\u001b[38;5;132;01m}\u001b[39;00m\u001b[38;5;124m by default \u001b[39m\u001b[38;5;124m\"\u001b[39m\n\u001b[0;32m    320\u001b[0m         \u001b[38;5;124m\"\u001b[39m\u001b[38;5;124mas it is likely to crash IPython. If you know what you are doing, \u001b[39m\u001b[38;5;124m\"\u001b[39m\n\u001b[0;32m    321\u001b[0m         \u001b[38;5;124m\"\u001b[39m\u001b[38;5;124myou can use builtins\u001b[39m\u001b[38;5;124m'\u001b[39m\u001b[38;5;124m open.\u001b[39m\u001b[38;5;124m\"\u001b[39m\n\u001b[0;32m    322\u001b[0m     )\n\u001b[1;32m--> 324\u001b[0m \u001b[38;5;28;01mreturn\u001b[39;00m \u001b[43mio_open\u001b[49m\u001b[43m(\u001b[49m\u001b[43mfile\u001b[49m\u001b[43m,\u001b[49m\u001b[43m \u001b[49m\u001b[38;5;241;43m*\u001b[39;49m\u001b[43margs\u001b[49m\u001b[43m,\u001b[49m\u001b[43m \u001b[49m\u001b[38;5;241;43m*\u001b[39;49m\u001b[38;5;241;43m*\u001b[39;49m\u001b[43mkwargs\u001b[49m\u001b[43m)\u001b[49m\n",
      "\u001b[1;31mFileNotFoundError\u001b[0m: [Errno 2] No such file or directory: 'text'"
     ]
    }
   ],
   "source": [
    "file=open(\"text\",\"r\")\n",
    "f=file.read()\n",
    "f=file.close()"
   ]
  },
  {
   "cell_type": "code",
   "execution_count": null,
   "id": "b79f61e0",
   "metadata": {},
   "outputs": [],
   "source": []
  }
 ],
 "metadata": {
  "kernelspec": {
   "display_name": "venv",
   "language": "python",
   "name": "python3"
  },
  "language_info": {
   "codemirror_mode": {
    "name": "ipython",
    "version": 3
   },
   "file_extension": ".py",
   "mimetype": "text/x-python",
   "name": "python",
   "nbconvert_exporter": "python",
   "pygments_lexer": "ipython3",
   "version": "3.12.4"
  }
 },
 "nbformat": 4,
 "nbformat_minor": 5
}
