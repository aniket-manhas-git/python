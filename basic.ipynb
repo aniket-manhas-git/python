{
 "cells": [
  {
   "cell_type": "code",
   "execution_count": 1,
   "id": "05b27481-d8c6-4c5e-8232-d3b51dd4cb84",
   "metadata": {},
   "outputs": [
    {
     "data": {
      "text/plain": [
       "6.495"
      ]
     },
     "execution_count": 1,
     "metadata": {},
     "output_type": "execute_result"
    }
   ],
   "source": [
    "round(6.49459836,3)"
   ]
  },
  {
   "cell_type": "code",
   "execution_count": 5,
   "id": "014bef5f-7c41-4339-8f80-84dc6c03a21e",
   "metadata": {},
   "outputs": [
    {
     "name": "stdout",
     "output_type": "stream",
     "text": [
      "Square root of 45 is 6.71\n"
     ]
    }
   ],
   "source": [
    "print(\"Square root of {} is {}\".format(45,round(45**(1/2),2)))"
   ]
  },
  {
   "cell_type": "code",
   "execution_count": 9,
   "id": "a3073e2c-fc26-4091-8844-b4d9f9f545d3",
   "metadata": {},
   "outputs": [
    {
     "name": "stdout",
     "output_type": "stream",
     "text": [
      "Cube root of 45 is 3.5568933044900626\n"
     ]
    }
   ],
   "source": [
    "print(\"Cube root of {} is {}\".format(45,45**(1/3)))"
   ]
  },
  {
   "cell_type": "code",
   "execution_count": 10,
   "id": "d97d3da8-ba31-4512-b0c4-13ab855e4d6f",
   "metadata": {},
   "outputs": [
    {
     "data": {
      "text/plain": [
       "2"
      ]
     },
     "execution_count": 10,
     "metadata": {},
     "output_type": "execute_result"
    }
   ],
   "source": [
    "62%60"
   ]
  },
  {
   "cell_type": "code",
   "execution_count": 15,
   "id": "77457dd2-48a5-4b72-a14e-66a6c3dcb53f",
   "metadata": {},
   "outputs": [
    {
     "data": {
      "text/plain": [
       "1"
      ]
     },
     "execution_count": 15,
     "metadata": {},
     "output_type": "execute_result"
    }
   ],
   "source": [
    "60//60"
   ]
  },
  {
   "cell_type": "code",
   "execution_count": 36,
   "id": "496309d9-c01c-48de-9eb6-a248bac7788a",
   "metadata": {},
   "outputs": [],
   "source": [
    "a=155689"
   ]
  },
  {
   "cell_type": "code",
   "execution_count": 37,
   "id": "64ae2a30-e48f-419e-a504-318bb926cadb",
   "metadata": {},
   "outputs": [
    {
     "name": "stdout",
     "output_type": "stream",
     "text": [
      "1 hours and 1 min\n"
     ]
    }
   ],
   "source": [
    "print(\"{} hours and {} min\".format(61//60,61%60))"
   ]
  },
  {
   "cell_type": "code",
   "execution_count": 38,
   "id": "140504f0-a859-4242-b5cc-f27c066ca8d7",
   "metadata": {},
   "outputs": [
    {
     "name": "stdout",
     "output_type": "stream",
     "text": [
      "108 days 2 hours and 49 min\n"
     ]
    }
   ],
   "source": [
    "print(\"{} days {} hours and {} min\".format((a//60)//24,(a//60)%24,a%60))"
   ]
  },
  {
   "cell_type": "code",
   "execution_count": 39,
   "id": "0760da77-92af-4e80-849e-2509677a25f4",
   "metadata": {},
   "outputs": [],
   "source": [
    "a=1457986"
   ]
  },
  {
   "cell_type": "code",
   "execution_count": 47,
   "id": "a3e6bda3-ece4-4f9f-8af1-4103ea1a876f",
   "metadata": {},
   "outputs": [
    {
     "name": "stdout",
     "output_type": "stream",
     "text": [
      "3 days 1012 hours and 11 min 46 sec\n"
     ]
    }
   ],
   "source": [
    "print(\"{} days {} hours and {} min {} sec\".format(3,(a//60)//24,(a//60)%24,a%60))"
   ]
  },
  {
   "cell_type": "code",
   "execution_count": 48,
   "id": "64af1076-6009-4207-8660-a0fb4a0f8cb1",
   "metadata": {},
   "outputs": [],
   "source": [
    "q1_sec=4785693\n",
    "q2_sec=2578963\n",
    "q3_min=2589630\n",
    "q4_min=12403500"
   ]
  },
  {
   "cell_type": "code",
   "execution_count": 19,
   "id": "c627723f-cab5-4369-8e7f-ce376ae4b0d2",
   "metadata": {},
   "outputs": [],
   "source": [
    "# days hous min sec"
   ]
  },
  {
   "cell_type": "code",
   "execution_count": null,
   "id": "95e1d977-6b5c-4eeb-b5ff-8397f253c564",
   "metadata": {},
   "outputs": [],
   "source": []
  },
  {
   "cell_type": "code",
   "execution_count": 20,
   "id": "406aa705-24d8-4dba-8011-338b7a61edb6",
   "metadata": {},
   "outputs": [],
   "source": [
    "val=155689"
   ]
  },
  {
   "cell_type": "code",
   "execution_count": 21,
   "id": "9d113f0a-e6fd-469f-85c9-d27804d746ed",
   "metadata": {},
   "outputs": [
    {
     "data": {
      "text/plain": [
       "108"
      ]
     },
     "execution_count": 21,
     "metadata": {},
     "output_type": "execute_result"
    }
   ],
   "source": [
    "day=(val//60)//24\n",
    "day"
   ]
  },
  {
   "cell_type": "code",
   "execution_count": 22,
   "id": "a2d16da3-da85-4c55-a7b0-7e5ef316d643",
   "metadata": {},
   "outputs": [
    {
     "data": {
      "text/plain": [
       "169"
      ]
     },
     "execution_count": 22,
     "metadata": {},
     "output_type": "execute_result"
    }
   ],
   "source": [
    "val1=108*24*60\n",
    "val=val-val1\n",
    "val"
   ]
  },
  {
   "cell_type": "code",
   "execution_count": 23,
   "id": "a9d48948-17d0-4151-803f-490a9744c4b9",
   "metadata": {},
   "outputs": [
    {
     "data": {
      "text/plain": [
       "2"
      ]
     },
     "execution_count": 23,
     "metadata": {},
     "output_type": "execute_result"
    }
   ],
   "source": [
    "hour=val//60\n",
    "hour"
   ]
  },
  {
   "cell_type": "code",
   "execution_count": 24,
   "id": "9a550ae3-0df5-4705-87ed-4761b5e82590",
   "metadata": {},
   "outputs": [
    {
     "data": {
      "text/plain": [
       "49"
      ]
     },
     "execution_count": 24,
     "metadata": {},
     "output_type": "execute_result"
    }
   ],
   "source": [
    "min=val-(hour*60)\n",
    "min"
   ]
  },
  {
   "cell_type": "code",
   "execution_count": null,
   "id": "60f83c36-6fbe-4533-8a84-09cc2f62a300",
   "metadata": {},
   "outputs": [],
   "source": []
  },
  {
   "cell_type": "code",
   "execution_count": null,
   "id": "bfee194b-eada-4617-bb09-2b5b22364326",
   "metadata": {},
   "outputs": [
    {
     "ename": "ModuleNotFoundError",
     "evalue": "No module named 'pandas'",
     "output_type": "error",
     "traceback": [
      "\u001b[1;31m---------------------------------------------------------------------------\u001b[0m",
      "\u001b[1;31mModuleNotFoundError\u001b[0m                       Traceback (most recent call last)",
      "Cell \u001b[1;32mIn[1], line 2\u001b[0m\n\u001b[0;32m      1\u001b[0m \u001b[38;5;66;03m# Import Libraries\u001b[39;00m\n\u001b[1;32m----> 2\u001b[0m \u001b[38;5;28;01mimport\u001b[39;00m \u001b[38;5;21;01mpandas\u001b[39;00m \u001b[38;5;28;01mas\u001b[39;00m \u001b[38;5;21;01mpd\u001b[39;00m\n\u001b[0;32m      3\u001b[0m \u001b[38;5;28;01mimport\u001b[39;00m \u001b[38;5;21;01mnumpy\u001b[39;00m \u001b[38;5;28;01mas\u001b[39;00m \u001b[38;5;21;01mnp\u001b[39;00m\n\u001b[0;32m      4\u001b[0m \u001b[38;5;28;01mfrom\u001b[39;00m \u001b[38;5;21;01msklearn\u001b[39;00m\u001b[38;5;21;01m.\u001b[39;00m\u001b[38;5;21;01mmodel_selection\u001b[39;00m \u001b[38;5;28;01mimport\u001b[39;00m train_test_split\n",
      "\u001b[1;31mModuleNotFoundError\u001b[0m: No module named 'pandas'"
     ]
    }
   ],
   "source": []
  },
  {
   "cell_type": "code",
   "execution_count": null,
   "id": "fa4dfdc2-1ea1-4d8a-ab8d-f4fc581c6be2",
   "metadata": {},
   "outputs": [],
   "source": []
  },
  {
   "cell_type": "code",
   "execution_count": null,
   "id": "b5707194-24bb-4976-b1ec-245d8e5fdaac",
   "metadata": {},
   "outputs": [],
   "source": []
  },
  {
   "cell_type": "code",
   "execution_count": null,
   "id": "0ac0a1a6-fcbe-4913-8b3e-7e68943aadb8",
   "metadata": {},
   "outputs": [],
   "source": []
  },
  {
   "cell_type": "code",
   "execution_count": null,
   "id": "732f1117-92d4-4cb5-af1f-d981b455e6f1",
   "metadata": {},
   "outputs": [],
   "source": []
  },
  {
   "cell_type": "code",
   "execution_count": null,
   "id": "a9ba5ba5-d5e5-4515-904b-6a3a6366c4c0",
   "metadata": {},
   "outputs": [],
   "source": []
  },
  {
   "cell_type": "code",
   "execution_count": null,
   "id": "76c8dab1-1ebf-4d6c-96e3-c5863ca9cb60",
   "metadata": {},
   "outputs": [],
   "source": []
  },
  {
   "cell_type": "code",
   "execution_count": null,
   "id": "d7c05ca6-55c5-415e-8612-9b574feeeb50",
   "metadata": {},
   "outputs": [],
   "source": []
  },
  {
   "cell_type": "code",
   "execution_count": null,
   "id": "d37eaa2e-5b06-4d5a-8d5f-0dbbaf536758",
   "metadata": {},
   "outputs": [],
   "source": []
  },
  {
   "cell_type": "code",
   "execution_count": null,
   "id": "44d6d753-8650-40bb-aee6-4a9435d7a8d6",
   "metadata": {},
   "outputs": [],
   "source": []
  },
  {
   "cell_type": "code",
   "execution_count": null,
   "id": "8615b05c-7c81-43b7-a847-fa4551749bcb",
   "metadata": {},
   "outputs": [],
   "source": []
  },
  {
   "cell_type": "code",
   "execution_count": null,
   "id": "8c3c02a4-bd98-498a-b502-74d780bf0264",
   "metadata": {},
   "outputs": [],
   "source": []
  },
  {
   "cell_type": "code",
   "execution_count": null,
   "id": "3dafbe51-32dd-4e33-a80f-1c3fbad9a826",
   "metadata": {},
   "outputs": [],
   "source": []
  },
  {
   "cell_type": "code",
   "execution_count": null,
   "id": "9482d3eb-173f-4be5-9ee9-a28628d7d39d",
   "metadata": {},
   "outputs": [],
   "source": []
  }
 ],
 "metadata": {
  "kernelspec": {
   "display_name": "notebook",
   "language": "python",
   "name": "python3"
  },
  "language_info": {
   "codemirror_mode": {
    "name": "ipython",
    "version": 3
   },
   "file_extension": ".py",
   "mimetype": "text/x-python",
   "name": "python",
   "nbconvert_exporter": "python",
   "pygments_lexer": "ipython3",
   "version": "3.11.9"
  }
 },
 "nbformat": 4,
 "nbformat_minor": 5
}
