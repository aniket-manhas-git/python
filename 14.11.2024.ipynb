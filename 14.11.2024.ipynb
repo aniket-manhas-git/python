{
 "cells": [
  {
   "cell_type": "markdown",
   "id": "0273db98-501c-47ad-81e7-acd1ecbb1ee7",
   "metadata": {},
   "source": [
    "### Inheritance"
   ]
  },
  {
   "cell_type": "code",
   "execution_count": 1,
   "id": "01f9aba3-82c8-4153-b0a3-5f0575c6b3c4",
   "metadata": {},
   "outputs": [],
   "source": [
    "class A:\n",
    "    a=10\n",
    "    a1=20"
   ]
  },
  {
   "cell_type": "code",
   "execution_count": 8,
   "id": "086b26db-2141-43b2-90be-9de627228bac",
   "metadata": {},
   "outputs": [],
   "source": [
    "class B(A):\n",
    "    b=30\n",
    "    b1=20"
   ]
  },
  {
   "cell_type": "code",
   "execution_count": 9,
   "id": "47bc5c7e-356e-4184-b13d-c27a2c494033",
   "metadata": {},
   "outputs": [],
   "source": [
    "class C(B):\n",
    "    c=55\n",
    "    c1=90"
   ]
  },
  {
   "cell_type": "code",
   "execution_count": 10,
   "id": "8390cd68-c45a-4c22-866d-b2fa837bfcf7",
   "metadata": {},
   "outputs": [],
   "source": [
    "c=C()"
   ]
  },
  {
   "cell_type": "code",
   "execution_count": 11,
   "id": "cdeb3fed-088e-4fd7-9d57-1f92e42e99a7",
   "metadata": {},
   "outputs": [
    {
     "name": "stdout",
     "output_type": "stream",
     "text": [
      "10\n",
      "20\n",
      "30\n",
      "20\n",
      "55\n",
      "90\n"
     ]
    }
   ],
   "source": [
    "print(c.a)\n",
    "print(c.a1)\n",
    "print(c.b)\n",
    "print(c.b1)\n",
    "print(c.c)\n",
    "print(c.c1)"
   ]
  },
  {
   "cell_type": "code",
   "execution_count": null,
   "id": "036bf57e-2c46-4f59-86ce-18dc318e9da3",
   "metadata": {},
   "outputs": [],
   "source": []
  },
  {
   "cell_type": "code",
   "execution_count": 12,
   "id": "103aee97-5608-43c0-8942-b5ffa933ad95",
   "metadata": {},
   "outputs": [],
   "source": [
    "class A:\n",
    "    def methodA(self):\n",
    "        print(\"Class A method\")"
   ]
  },
  {
   "cell_type": "code",
   "execution_count": 16,
   "id": "ddbbc3cf-3c19-4b65-b526-56b21be56b38",
   "metadata": {},
   "outputs": [],
   "source": [
    "class B(A):\n",
    "    def methodB(self):\n",
    "        print(\"Class B method\")"
   ]
  },
  {
   "cell_type": "code",
   "execution_count": 17,
   "id": "c41dcf92-bafe-4983-9c77-efcb1ef8e656",
   "metadata": {},
   "outputs": [],
   "source": [
    "b=B()"
   ]
  },
  {
   "cell_type": "code",
   "execution_count": 18,
   "id": "ab36b85b-e8bf-47c9-b7e0-c23a0b35170d",
   "metadata": {},
   "outputs": [
    {
     "name": "stdout",
     "output_type": "stream",
     "text": [
      "Class A method\n"
     ]
    }
   ],
   "source": [
    "b.methodA()"
   ]
  },
  {
   "cell_type": "code",
   "execution_count": 19,
   "id": "0ac334f4-889a-4c0b-95c3-d57953a036f3",
   "metadata": {},
   "outputs": [
    {
     "name": "stdout",
     "output_type": "stream",
     "text": [
      "Class B method\n"
     ]
    }
   ],
   "source": [
    "b.methodB()"
   ]
  },
  {
   "cell_type": "code",
   "execution_count": 20,
   "id": "fa0b3fc6-b8a6-4193-a39a-c983f9146a36",
   "metadata": {},
   "outputs": [],
   "source": [
    "class Whatsapp:\n",
    "    def __init__(self):\n",
    "        print(\"Whatsapp is working\")"
   ]
  },
  {
   "cell_type": "code",
   "execution_count": 21,
   "id": "44765d4c-aa4f-4076-9e0d-5d3c70cedb7a",
   "metadata": {},
   "outputs": [],
   "source": [
    "class Whatsapp1(Whatsapp):\n",
    "    def __init__(self):\n",
    "        super().__init__()\n",
    "        print(\"Whatsapp1.01. is updated\")"
   ]
  },
  {
   "cell_type": "code",
   "execution_count": 23,
   "id": "d5d08db6-ed22-40d7-a0e2-52a536d22da9",
   "metadata": {},
   "outputs": [
    {
     "name": "stdout",
     "output_type": "stream",
     "text": [
      "Whatsapp is working\n",
      "Whatsapp1.01. is updated\n"
     ]
    }
   ],
   "source": [
    "w=Whatsapp1()"
   ]
  },
  {
   "cell_type": "code",
   "execution_count": 24,
   "id": "06152508-0c81-4c3a-a8a4-db39a2afae8e",
   "metadata": {},
   "outputs": [],
   "source": [
    "class Phone:\n",
    "    def __init__(self,ram,rom,camera):\n",
    "        self.ram=ram\n",
    "        self.rom=rom\n",
    "        self.camera=camera\n",
    "    def display(self):\n",
    "        print(\"Ram:\",self.ram)\n",
    "        print(\"Rom:\",self.rom)\n",
    "        print(\"Camera:\",self.camera)"
   ]
  },
  {
   "cell_type": "code",
   "execution_count": 27,
   "id": "e955a1ac-2dda-490b-bf94-39779a111c9b",
   "metadata": {},
   "outputs": [],
   "source": [
    "class Phone1(Phone):\n",
    "    def __init__(self,ram,rom,camera,type,colour,display_size):\n",
    "        self.ram=ram\n",
    "        self.rom=rom\n",
    "        self.camera=camera\n",
    "        self.type=type\n",
    "        self.colour=colour\n",
    "        self.display_size=display_size\n",
    "    def full_info(self):\n",
    "        print(\"Type:\",self.type)\n",
    "        print(\"Colour:\",self.colour)\n",
    "        print(\"Display Size:\",self.display_size)"
   ]
  },
  {
   "cell_type": "code",
   "execution_count": 28,
   "id": "3f06187e-9fef-4c12-9736-493af45d32f3",
   "metadata": {},
   "outputs": [],
   "source": [
    "p=Phone1(16,125,12,\"5G\",\"Black\",\"8'inch\")"
   ]
  },
  {
   "cell_type": "code",
   "execution_count": 29,
   "id": "0475ef65-564b-42de-aacb-e96fb45b34d2",
   "metadata": {},
   "outputs": [
    {
     "name": "stdout",
     "output_type": "stream",
     "text": [
      "Ram: 16\n",
      "Rom: 125\n",
      "Camera: 12\n"
     ]
    }
   ],
   "source": [
    "p.display()"
   ]
  },
  {
   "cell_type": "code",
   "execution_count": 38,
   "id": "3d49aca5-12f7-4802-bf2c-abddc963948e",
   "metadata": {},
   "outputs": [],
   "source": [
    "class Phone1(Phone):\n",
    "    def __init__(self,ram,rom,camera,type,colour,display_size):\n",
    "        super().__init__(ram,rom,camera)\n",
    "        self.type=type\n",
    "        self.colour=colour\n",
    "        self.display_size=display_size\n",
    "    def full_info(self):\n",
    "        print(super().display())\n",
    "        print(\"Type:\",self.type)\n",
    "        print(\"Colour:\",self.colour)\n",
    "        print(\"Display Size:\",self.display_size)"
   ]
  },
  {
   "cell_type": "code",
   "execution_count": 39,
   "id": "b2e953af-2249-4465-9948-98a45b1d62e4",
   "metadata": {},
   "outputs": [],
   "source": [
    "p=Phone1(26,126,11,\"4G\",\"White\",\"9'inch\")"
   ]
  },
  {
   "cell_type": "code",
   "execution_count": 40,
   "id": "18e743ef-fb8b-4b2b-8f5c-cd49c21861e4",
   "metadata": {},
   "outputs": [
    {
     "name": "stdout",
     "output_type": "stream",
     "text": [
      "Ram: 26\n",
      "Rom: 126\n",
      "Camera: 11\n"
     ]
    }
   ],
   "source": [
    "p.display()"
   ]
  },
  {
   "cell_type": "code",
   "execution_count": 41,
   "id": "1e6c4ea7-1efd-4a75-a8ff-a860481dd1d5",
   "metadata": {},
   "outputs": [
    {
     "name": "stdout",
     "output_type": "stream",
     "text": [
      "Ram: 26\n",
      "Rom: 126\n",
      "Camera: 11\n",
      "None\n",
      "Type: 4G\n",
      "Colour: White\n",
      "Display Size: 9'inch\n"
     ]
    }
   ],
   "source": [
    "p.full_info()"
   ]
  },
  {
   "cell_type": "code",
   "execution_count": null,
   "id": "8c8a1f90-7a00-45e2-a7d3-c840263cb113",
   "metadata": {},
   "outputs": [],
   "source": [
    "`"
   ]
  }
 ],
 "metadata": {
  "kernelspec": {
   "display_name": "Python 3 (ipykernel)",
   "language": "python",
   "name": "python3"
  },
  "language_info": {
   "codemirror_mode": {
    "name": "ipython",
    "version": 3
   },
   "file_extension": ".py",
   "mimetype": "text/x-python",
   "name": "python",
   "nbconvert_exporter": "python",
   "pygments_lexer": "ipython3",
   "version": "3.12.4"
  }
 },
 "nbformat": 4,
 "nbformat_minor": 5
}
