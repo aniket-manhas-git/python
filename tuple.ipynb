{
 "cells": [
  {
   "cell_type": "code",
   "execution_count": 1,
   "id": "8e316370-5d1f-48fd-b21c-f0bd4379c51b",
   "metadata": {},
   "outputs": [],
   "source": [
    "e=(1,2,3,4,'string',5,5)"
   ]
  },
  {
   "cell_type": "code",
   "execution_count": 2,
   "id": "1654d913-5925-4fbc-bcef-7504b3d20493",
   "metadata": {},
   "outputs": [
    {
     "data": {
      "text/plain": [
       "2"
      ]
     },
     "execution_count": 2,
     "metadata": {},
     "output_type": "execute_result"
    }
   ],
   "source": [
    "e.count(5)"
   ]
  },
  {
   "cell_type": "code",
   "execution_count": 3,
   "id": "b6e9f1d8-1dd9-4c5b-a21c-ed1152cffe74",
   "metadata": {},
   "outputs": [
    {
     "data": {
      "text/plain": [
       "4"
      ]
     },
     "execution_count": 3,
     "metadata": {},
     "output_type": "execute_result"
    }
   ],
   "source": [
    "e.index('string')"
   ]
  },
  {
   "cell_type": "code",
   "execution_count": 4,
   "id": "5c82a445-27ec-449b-addc-631c81ba6a69",
   "metadata": {},
   "outputs": [
    {
     "data": {
      "text/plain": [
       "tuple"
      ]
     },
     "execution_count": 4,
     "metadata": {},
     "output_type": "execute_result"
    }
   ],
   "source": [
    "type(e)"
   ]
  },
  {
   "cell_type": "code",
   "execution_count": null,
   "id": "b216b6d7-388d-48d7-b2ef-1eb6676e5776",
   "metadata": {},
   "outputs": [],
   "source": []
  },
  {
   "cell_type": "code",
   "execution_count": 5,
   "id": "99890be4-0e52-40e0-bd3f-c398ac4216a1",
   "metadata": {},
   "outputs": [],
   "source": [
    "#set"
   ]
  },
  {
   "cell_type": "code",
   "execution_count": 6,
   "id": "3dfb67de-3369-4004-94ef-0dff024a3667",
   "metadata": {},
   "outputs": [],
   "source": [
    "s=set()"
   ]
  },
  {
   "cell_type": "code",
   "execution_count": 7,
   "id": "b3d8da1f-e6e1-4acd-83f7-7c62499782f4",
   "metadata": {},
   "outputs": [
    {
     "data": {
      "text/plain": [
       "set"
      ]
     },
     "execution_count": 7,
     "metadata": {},
     "output_type": "execute_result"
    }
   ],
   "source": [
    "type(s)"
   ]
  },
  {
   "cell_type": "code",
   "execution_count": 14,
   "id": "cb61a348-9e48-4ceb-84f8-3bcb963b1ff9",
   "metadata": {},
   "outputs": [],
   "source": [
    "s={4,8,9,9,6,3,5,10}\n",
    "q={1,4,2,3}\n"
   ]
  },
  {
   "cell_type": "code",
   "execution_count": 16,
   "id": "66b05864-2734-4b7c-8fb3-b199bc8edf8c",
   "metadata": {},
   "outputs": [
    {
     "data": {
      "text/plain": [
       "{3, 4, 5, 6, 8, 9, 10}"
      ]
     },
     "execution_count": 16,
     "metadata": {},
     "output_type": "execute_result"
    }
   ],
   "source": [
    "s"
   ]
  },
  {
   "cell_type": "code",
   "execution_count": 17,
   "id": "8e38e289-7dd4-41c1-b98a-6d966712f76b",
   "metadata": {},
   "outputs": [
    {
     "data": {
      "text/plain": [
       "{1, 2, 3, 4}"
      ]
     },
     "execution_count": 17,
     "metadata": {},
     "output_type": "execute_result"
    }
   ],
   "source": [
    "q"
   ]
  },
  {
   "cell_type": "code",
   "execution_count": 18,
   "id": "4d118d5c-df13-4a65-852e-63de95d8ba49",
   "metadata": {},
   "outputs": [
    {
     "data": {
      "text/plain": [
       "{5, 6, 8, 9, 10}"
      ]
     },
     "execution_count": 18,
     "metadata": {},
     "output_type": "execute_result"
    }
   ],
   "source": [
    "s.difference(q)"
   ]
  },
  {
   "cell_type": "code",
   "execution_count": 19,
   "id": "92663055-e467-4514-b165-3e324e3148b4",
   "metadata": {},
   "outputs": [
    {
     "data": {
      "text/plain": [
       "{3, 4}"
      ]
     },
     "execution_count": 19,
     "metadata": {},
     "output_type": "execute_result"
    }
   ],
   "source": [
    "s.intersection(q)"
   ]
  },
  {
   "cell_type": "code",
   "execution_count": 12,
   "id": "99759841-85c5-4cd3-9e17-990f8747ed79",
   "metadata": {},
   "outputs": [
    {
     "data": {
      "text/plain": [
       "3"
      ]
     },
     "execution_count": 12,
     "metadata": {},
     "output_type": "execute_result"
    }
   ],
   "source": [
    "s.pop()"
   ]
  },
  {
   "cell_type": "code",
   "execution_count": 20,
   "id": "4edeab13-0569-4f47-ba69-b12f8761a42e",
   "metadata": {},
   "outputs": [
    {
     "data": {
      "text/plain": [
       "{1, 2, 5, 6, 8, 9, 10}"
      ]
     },
     "execution_count": 20,
     "metadata": {},
     "output_type": "execute_result"
    }
   ],
   "source": [
    "s.symmetric_difference(q)"
   ]
  },
  {
   "cell_type": "code",
   "execution_count": 21,
   "id": "00d296df-82e9-4e62-b8e4-ca62f1521e85",
   "metadata": {},
   "outputs": [
    {
     "data": {
      "text/plain": [
       "{1, 2, 3, 4, 5, 6, 8, 9, 10}"
      ]
     },
     "execution_count": 21,
     "metadata": {},
     "output_type": "execute_result"
    }
   ],
   "source": [
    "q.union(s)"
   ]
  },
  {
   "cell_type": "code",
   "execution_count": 23,
   "id": "859b433a-e4e3-45ed-a5d5-e666c1dee160",
   "metadata": {},
   "outputs": [],
   "source": [
    "q.update(s)"
   ]
  },
  {
   "cell_type": "code",
   "execution_count": 24,
   "id": "4e4002b5-74de-4fc1-91c8-d5d3abd91158",
   "metadata": {},
   "outputs": [
    {
     "data": {
      "text/plain": [
       "{1, 2, 3, 4, 5, 6, 8, 9, 10}"
      ]
     },
     "execution_count": 24,
     "metadata": {},
     "output_type": "execute_result"
    }
   ],
   "source": [
    "q"
   ]
  },
  {
   "cell_type": "code",
   "execution_count": 25,
   "id": "07e764d1-ceca-4a6c-b20e-74eda5a42eb0",
   "metadata": {},
   "outputs": [],
   "source": [
    "q.discard(s)"
   ]
  },
  {
   "cell_type": "code",
   "execution_count": 26,
   "id": "1fc00bc3-cf1a-4fb9-a0db-00d7fde9a43b",
   "metadata": {},
   "outputs": [
    {
     "data": {
      "text/plain": [
       "{1, 2, 3, 4, 5, 6, 8, 9, 10}"
      ]
     },
     "execution_count": 26,
     "metadata": {},
     "output_type": "execute_result"
    }
   ],
   "source": [
    "q"
   ]
  },
  {
   "cell_type": "code",
   "execution_count": 27,
   "id": "eb8740b9-763b-4de4-950e-4bf3a2bf73da",
   "metadata": {},
   "outputs": [],
   "source": [
    "q.remove(3)"
   ]
  },
  {
   "cell_type": "code",
   "execution_count": 28,
   "id": "16517343-20f1-42ae-a2bc-9281eb96798d",
   "metadata": {},
   "outputs": [
    {
     "data": {
      "text/plain": [
       "{1, 2, 4, 5, 6, 8, 9, 10}"
      ]
     },
     "execution_count": 28,
     "metadata": {},
     "output_type": "execute_result"
    }
   ],
   "source": [
    "q"
   ]
  },
  {
   "cell_type": "code",
   "execution_count": null,
   "id": "9008ee32-e95d-4ebf-9d30-0b8d1cf64869",
   "metadata": {},
   "outputs": [],
   "source": []
  },
  {
   "cell_type": "code",
   "execution_count": 29,
   "id": "70b8da1b-c05d-42a9-ad37-df17553097f1",
   "metadata": {},
   "outputs": [],
   "source": [
    "s={}"
   ]
  },
  {
   "cell_type": "code",
   "execution_count": 30,
   "id": "ece36fe6-3bc4-4b4a-9288-67d6c325d8b6",
   "metadata": {},
   "outputs": [
    {
     "data": {
      "text/plain": [
       "dict"
      ]
     },
     "execution_count": 30,
     "metadata": {},
     "output_type": "execute_result"
    }
   ],
   "source": [
    "type(s)"
   ]
  },
  {
   "cell_type": "code",
   "execution_count": 31,
   "id": "8c4f5875-e1a1-47d8-8e50-be7ce7f75c43",
   "metadata": {},
   "outputs": [],
   "source": [
    "d={'name':['a','b','c'],\n",
    "   'age':[22,25,26]\n",
    "  }"
   ]
  },
  {
   "cell_type": "code",
   "execution_count": 32,
   "id": "15b7c3d7-8f4b-4d23-86e6-a13f29a7e9f1",
   "metadata": {},
   "outputs": [
    {
     "data": {
      "text/plain": [
       "{'name': ['a', 'b', 'c'], 'age': [22, 25, 26]}"
      ]
     },
     "execution_count": 32,
     "metadata": {},
     "output_type": "execute_result"
    }
   ],
   "source": [
    "d"
   ]
  },
  {
   "cell_type": "code",
   "execution_count": 33,
   "id": "485acb9e-c095-4e36-8270-fa78eadf6b01",
   "metadata": {},
   "outputs": [
    {
     "data": {
      "text/plain": [
       "dict_keys(['name', 'age'])"
      ]
     },
     "execution_count": 33,
     "metadata": {},
     "output_type": "execute_result"
    }
   ],
   "source": [
    "d.keys()"
   ]
  },
  {
   "cell_type": "code",
   "execution_count": null,
   "id": "5d1edb18-efde-4f17-8f72-7340b51028b6",
   "metadata": {},
   "outputs": [],
   "source": [
    "w={'id':[1001,1002,1003,1004],\n",
    "   'location':['Delhi','Noida','Jaipur','Pune"
   ]
  }
 ],
 "metadata": {
  "kernelspec": {
   "display_name": "Python 3 (ipykernel)",
   "language": "python",
   "name": "python3"
  },
  "language_info": {
   "codemirror_mode": {
    "name": "ipython",
    "version": 3
   },
   "file_extension": ".py",
   "mimetype": "text/x-python",
   "name": "python",
   "nbconvert_exporter": "python",
   "pygments_lexer": "ipython3",
   "version": "3.12.4"
  }
 },
 "nbformat": 4,
 "nbformat_minor": 5
}
