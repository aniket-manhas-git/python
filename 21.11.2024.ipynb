{
 "cells": [
  {
   "cell_type": "code",
   "execution_count": 1,
   "id": "88005d62-d769-4751-991a-ead671c42aaf",
   "metadata": {},
   "outputs": [],
   "source": [
    "class A:\n",
    "    def show(self):\n",
    "        print(\"Class A\")"
   ]
  },
  {
   "cell_type": "code",
   "execution_count": 2,
   "id": "71fa576d-2b24-454b-b968-7673de3d73ab",
   "metadata": {},
   "outputs": [],
   "source": [
    "class B(A):\n",
    "    def show(self):\n",
    "        super().show()\n",
    "        print(\"class B\")"
   ]
  },
  {
   "cell_type": "code",
   "execution_count": 3,
   "id": "9c0d8362-6387-4d7e-83bd-baefbd5ef6ab",
   "metadata": {},
   "outputs": [],
   "source": [
    "b=B()"
   ]
  },
  {
   "cell_type": "code",
   "execution_count": 4,
   "id": "b131e6c8-ddc0-484c-8520-7b3a769bc457",
   "metadata": {},
   "outputs": [
    {
     "name": "stdout",
     "output_type": "stream",
     "text": [
      "Class A\n",
      "class B\n"
     ]
    }
   ],
   "source": [
    "b.show()"
   ]
  },
  {
   "cell_type": "markdown",
   "id": "1dbef770-1abf-491d-b3b2-9038b7cb0d4d",
   "metadata": {},
   "source": [
    "### 7 create a database using list and tuple"
   ]
  },
  {
   "cell_type": "code",
   "execution_count": 1,
   "id": "1a6bb167-a0e2-46aa-a50e-188ca3e5f74a",
   "metadata": {},
   "outputs": [],
   "source": [
    "data=[\n",
    "    (1,\"rohan nanda\",22,\"Mathd\"),\n",
    "    (2,\"rashmi singh\",23,\"Science\"),\n",
    "    (3,\"sumit sharma\",22,\"Hindi\")\n",
    "]"
   ]
  },
  {
   "cell_type": "code",
   "execution_count": 2,
   "id": "67db3d56-3801-4d72-acc9-59d946e9d438",
   "metadata": {},
   "outputs": [],
   "source": [
    "def display(data):\n",
    "    print(\"ID | NAME         | AGE | SUBJECT\")\n",
    "    for i in range(len(data)):\n",
    "        print(f\"{data[i][0]:<3}| {data[i][1]:<12} | {data[i][2]:<4}| {data[i][3]}\")"
   ]
  },
  {
   "cell_type": "code",
   "execution_count": 3,
   "id": "d6f845c1-6337-436a-81cb-90da641aebc6",
   "metadata": {},
   "outputs": [
    {
     "name": "stdout",
     "output_type": "stream",
     "text": [
      "ID | NAME         | AGE | SUBJECT\n",
      "1  | rohan nanda  | 22  | Mathd\n",
      "2  | rashmi singh | 23  | Science\n",
      "3  | sumit sharma | 22  | Hindi\n"
     ]
    }
   ],
   "source": [
    "display(data)"
   ]
  },
  {
   "cell_type": "code",
   "execution_count": 4,
   "id": "e07d3968-c747-47f3-9bac-bf0b21018c46",
   "metadata": {},
   "outputs": [],
   "source": [
    "def add(data,id,name,age,subject):\n",
    "    data.append((id,name,age,subject))"
   ]
  },
  {
   "cell_type": "code",
   "execution_count": 5,
   "id": "bdb3afca-e29e-4b3d-800f-1d3d45516e59",
   "metadata": {},
   "outputs": [],
   "source": [
    "add(data,4,\"Aditya\",20,\"Python\")"
   ]
  },
  {
   "cell_type": "code",
   "execution_count": 6,
   "id": "2ad0007d-6718-45c2-a5c7-8892115a67f8",
   "metadata": {},
   "outputs": [
    {
     "name": "stdout",
     "output_type": "stream",
     "text": [
      "ID | NAME         | AGE | SUBJECT\n",
      "1  | rohan nanda  | 22  | Mathd\n",
      "2  | rashmi singh | 23  | Science\n",
      "3  | sumit sharma | 22  | Hindi\n",
      "4  | Aditya       | 20  | Python\n"
     ]
    }
   ],
   "source": [
    "display(data)"
   ]
  },
  {
   "cell_type": "code",
   "execution_count": 7,
   "id": "39bf4087-de3a-4248-b16b-d34de73fe56e",
   "metadata": {},
   "outputs": [],
   "source": [
    "def delete(data,id):\n",
    "    data.pop(id-1)"
   ]
  },
  {
   "cell_type": "code",
   "execution_count": 8,
   "id": "5f0a32c1-dcf7-49df-a026-1f5ca676e591",
   "metadata": {},
   "outputs": [],
   "source": [
    "delete(data,2)"
   ]
  },
  {
   "cell_type": "code",
   "execution_count": 9,
   "id": "ed401122-600c-4fb0-ba5f-8e5c169d6ea3",
   "metadata": {},
   "outputs": [
    {
     "name": "stdout",
     "output_type": "stream",
     "text": [
      "ID | NAME         | AGE | SUBJECT\n",
      "1  | rohan nanda  | 22  | Mathd\n",
      "3  | sumit sharma | 22  | Hindi\n",
      "4  | Aditya       | 20  | Python\n"
     ]
    }
   ],
   "source": [
    "display(data)"
   ]
  },
  {
   "cell_type": "markdown",
   "id": "91ae1f32-48e8-46a0-ac04-6ef091b69862",
   "metadata": {},
   "source": [
    "### File Handling"
   ]
  },
  {
   "cell_type": "code",
   "execution_count": 21,
   "id": "805824b5-3e04-42c5-a294-3004a49f32d8",
   "metadata": {},
   "outputs": [],
   "source": [
    "file=open(\"inline_block\",\"w\")\n",
    "file.write(\"1 today we are learning file handling\\n\")\n",
    "file.close()"
   ]
  },
  {
   "cell_type": "code",
   "execution_count": 22,
   "id": "29ac861b-a012-46b0-ab87-45b7bda24c7b",
   "metadata": {},
   "outputs": [
    {
     "name": "stdout",
     "output_type": "stream",
     "text": [
      "1 today we are learning file handling\n",
      "\n"
     ]
    }
   ],
   "source": [
    "file=open(\"inline_block\",\"r\")\n",
    "print(file.read())\n",
    "file.close()"
   ]
  },
  {
   "cell_type": "code",
   "execution_count": 27,
   "id": "6097e77f-b871-4e7e-ad0c-fa7e6f89c70b",
   "metadata": {},
   "outputs": [],
   "source": [
    "file=open(\"inline_block\",\"a\")\n",
    "file.write(\"hello this being appended in the file\\n\")\n",
    "file.close()"
   ]
  },
  {
   "cell_type": "code",
   "execution_count": 28,
   "id": "b4ad269c-3cc4-4e46-9533-c807041bd0a6",
   "metadata": {},
   "outputs": [
    {
     "name": "stdout",
     "output_type": "stream",
     "text": [
      "1 today we are learning file handling\n",
      "hello this being appended in the file\n",
      "hello this being appended in the file\n",
      "hello this being appended in the file\n",
      "\n"
     ]
    }
   ],
   "source": [
    "file=open(\"inline_block\",\"r\")\n",
    "print(file.read())\n",
    "file.close()"
   ]
  },
  {
   "cell_type": "code",
   "execution_count": 30,
   "id": "c2fb825f-1435-45a3-816c-d0e35466180f",
   "metadata": {},
   "outputs": [
    {
     "name": "stdout",
     "output_type": "stream",
     "text": [
      "hello this being appended in the file\n",
      "\n"
     ]
    }
   ],
   "source": [
    "file=open(\"inline_block\",\"r\")\n",
    "print(file.readlines()[2])\n",
    "file.close()"
   ]
  },
  {
   "cell_type": "code",
   "execution_count": null,
   "id": "654c756c-57c1-4e2e-a5dc-8e76cfa5b4f7",
   "metadata": {},
   "outputs": [],
   "source": []
  }
 ],
 "metadata": {
  "kernelspec": {
   "display_name": "Python 3 (ipykernel)",
   "language": "python",
   "name": "python3"
  },
  "language_info": {
   "codemirror_mode": {
    "name": "ipython",
    "version": 3
   },
   "file_extension": ".py",
   "mimetype": "text/x-python",
   "name": "python",
   "nbconvert_exporter": "python",
   "pygments_lexer": "ipython3",
   "version": "3.12.4"
  }
 },
 "nbformat": 4,
 "nbformat_minor": 5
}
