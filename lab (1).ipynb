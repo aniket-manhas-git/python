{
 "cells": [
  {
   "cell_type": "code",
   "execution_count": 5,
   "id": "c2aec1d7-3a5d-490c-ab3f-8fd27d0daf16",
   "metadata": {},
   "outputs": [
    {
     "data": {
      "text/plain": [
       "154"
      ]
     },
     "execution_count": 5,
     "metadata": {},
     "output_type": "execute_result"
    }
   ],
   "source": [
    "145+9"
   ]
  },
  {
   "cell_type": "code",
   "execution_count": 5,
   "id": "c2308868-294a-45b5-8f31-edd0e2bcbd8f",
   "metadata": {},
   "outputs": [
    {
     "name": "stdout",
     "output_type": "stream",
     "text": [
      "sum of 2 numbers is like 5 and 6 is 11\n"
     ]
    }
   ],
   "source": [
    "print(\"sum of 2 numbers is like 5 and 6 is\",5+6)"
   ]
  },
  {
   "cell_type": "code",
   "execution_count": 6,
   "id": "a459dc40-2490-4816-805d-8707e2e4954c",
   "metadata": {},
   "outputs": [
    {
     "name": "stdout",
     "output_type": "stream",
     "text": [
      "sum of 4 and 8 is 12\n"
     ]
    }
   ],
   "source": [
    "print(\"sum of {} and {} is {}\". format(4,8,8+4))"
   ]
  },
  {
   "cell_type": "markdown",
   "id": "ac44c00e-975f-4bf8-8634-344e0fbf438e",
   "metadata": {},
   "source": [
    "square root "
   ]
  },
  {
   "cell_type": "code",
   "execution_count": 11,
   "id": "a049e7fd-2d9b-402c-9931-0d88b0648ebf",
   "metadata": {},
   "outputs": [
    {
     "data": {
      "text/plain": [
       "8"
      ]
     },
     "execution_count": 11,
     "metadata": {},
     "output_type": "execute_result"
    }
   ],
   "source": [
    "2**3"
   ]
  },
  {
   "cell_type": "code",
   "execution_count": 12,
   "id": "1b439bb1-9dda-4640-b3b0-f9fa38038fe1",
   "metadata": {},
   "outputs": [
    {
     "data": {
      "text/plain": [
       "2.6666666666666665"
      ]
     },
     "execution_count": 12,
     "metadata": {},
     "output_type": "execute_result"
    }
   ],
   "source": [
    "8**1/3"
   ]
  },
  {
   "cell_type": "code",
   "execution_count": 14,
   "id": "eb91efbe-6874-4e51-b1d7-7562d4b04762",
   "metadata": {},
   "outputs": [
    {
     "name": "stdout",
     "output_type": "stream",
     "text": [
      "square root of 45 is 6.708203932499369\n"
     ]
    }
   ],
   "source": [
    "print(\"square root of {} is {}\". format(45,45**(.5)))"
   ]
  },
  {
   "cell_type": "code",
   "execution_count": 15,
   "id": "b64b90b8-1b0d-4c19-8411-3fe38675814e",
   "metadata": {},
   "outputs": [
    {
     "name": "stdout",
     "output_type": "stream",
     "text": [
      "square root  of 45 is 6.7082\n"
     ]
    }
   ],
   "source": [
    "print(\"square root  of {} is {}\". format(45, round(45**(1/2),4)))"
   ]
  },
  {
   "cell_type": "code",
   "execution_count": 20,
   "id": "ca8f29ef-164b-4d41-9503-6dc9f6cff735",
   "metadata": {},
   "outputs": [
    {
     "name": "stdout",
     "output_type": "stream",
     "text": [
      " cube of 45  is 3.557\n"
     ]
    }
   ],
   "source": [
    "print(\" cube of {}  is {}\".format(45,round(45**(1/3),3)))"
   ]
  },
  {
   "cell_type": "code",
   "execution_count": 32,
   "id": "3675fac7-b101-47d6-8e01-bbfea4bb0888",
   "metadata": {},
   "outputs": [
    {
     "name": "stdout",
     "output_type": "stream",
     "text": [
      "108 days , 2594 hours and 49 min\n"
     ]
    }
   ],
   "source": [
    "print(\"{} days , {} hours and {} min\".format((155689//60)//24,155689//60,155689%60))"
   ]
  },
  {
   "cell_type": "code",
   "execution_count": 22,
   "id": "e18714db-b5a5-43ea-8e2c-474c6417a258",
   "metadata": {},
   "outputs": [
    {
     "data": {
      "text/plain": [
       "2"
      ]
     },
     "execution_count": 22,
     "metadata": {},
     "output_type": "execute_result"
    }
   ],
   "source": [
    "62%60"
   ]
  },
  {
   "cell_type": "code",
   "execution_count": 23,
   "id": "1923989e-ea04-4434-a84d-8612870f462c",
   "metadata": {},
   "outputs": [
    {
     "data": {
      "text/plain": [
       "1"
      ]
     },
     "execution_count": 23,
     "metadata": {},
     "output_type": "execute_result"
    }
   ],
   "source": [
    "60//60"
   ]
  },
  {
   "cell_type": "code",
   "execution_count": 28,
   "id": "1cfdcbce-c787-4a69-8b64-af004990a65e",
   "metadata": {},
   "outputs": [
    {
     "name": "stdout",
     "output_type": "stream",
     "text": [
      "108 days and 2 hours\n"
     ]
    }
   ],
   "source": [
    "print(\"{} days and {} hours\".format(2594//24,2594%24))"
   ]
  },
  {
   "cell_type": "code",
   "execution_count": 34,
   "id": "373ae69a-8050-43e5-9330-928ddc85ef1b",
   "metadata": {},
   "outputs": [
    {
     "name": "stdout",
     "output_type": "stream",
     "text": [
      "5 days 2 hours and 5 min\n"
     ]
    }
   ],
   "source": [
    "print(\"{} days {} hours and {} min\".format((7325//60)//24,(7325//60)%24,7325%60))"
   ]
  },
  {
   "cell_type": "code",
   "execution_count": 67,
   "id": "dbbc9aec-7f50-419d-aa58-bb62c683145e",
   "metadata": {},
   "outputs": [
    {
     "name": "stdout",
     "output_type": "stream",
     "text": [
      "16 days 20 hours 59 min 46 sec \n"
     ]
    }
   ],
   "source": [
    "print(\"{} days {} hours {} min {} sec \".format((1457986//60)//24//60,(1457986//60)//60%24,(1457986//60)%60,(1457986%60)))"
   ]
  },
  {
   "cell_type": "code",
   "execution_count": 1,
   "id": "ae300233-17ef-4eb2-88f9-bd85db9306b8",
   "metadata": {},
   "outputs": [
    {
     "name": "stdout",
     "output_type": "stream",
     "text": [
      "55 days, 9 hrs, 21 mins and 33 sec\n"
     ]
    }
   ],
   "source": [
    "print(\"{} days, {} hrs, {} mins and {} sec\".format((4785693//60)//60//24, (4785693//60)//60%24,(4785693//60)%60,(4785693%60)))"
   ]
  },
  {
   "cell_type": "code",
   "execution_count": 2,
   "id": "75742e5c-c1e4-4523-82bc-65f970a0b262",
   "metadata": {},
   "outputs": [
    {
     "name": "stdout",
     "output_type": "stream",
     "text": [
      "29 days, 20 hrs, 22 mins and 43 sec\n"
     ]
    }
   ],
   "source": [
    "print(\"{} days, {} hrs, {} mins and {} sec\".format((2578963//60)//60//24, (2578963//60)//60%24,(2578963//60)%60,(2578963%60)))"
   ]
  },
  {
   "cell_type": "code",
   "execution_count": 3,
   "id": "7b11e1b0-42eb-46e4-96be-bb9562683db9",
   "metadata": {},
   "outputs": [
    {
     "name": "stdout",
     "output_type": "stream",
     "text": [
      "29 days, 23 hrs and 20 mins\n"
     ]
    }
   ],
   "source": [
    "print(\"{} days, {} hrs and {} mins\".format((2589630//60)//60//24, (2589630//60)//60%24,(2589630//60)%60))"
   ]
  },
  {
   "cell_type": "code",
   "execution_count": 4,
   "id": "a519813b-c6a3-4d51-8ce7-9e371e0ed081",
   "metadata": {},
   "outputs": [
    {
     "name": "stdout",
     "output_type": "stream",
     "text": [
      "143 days, 13 hrs and 25 mins\n"
     ]
    }
   ],
   "source": [
    "print(\"{} days, {} hrs and {} mins\".format((12403500//60)//60//24, (12403500//60)//60%24,(12403500//60)%60))"
   ]
  },
  {
   "cell_type": "markdown",
   "id": "9aec2f3b-a79e-4d4b-bfac-d0bc080af09c",
   "metadata": {},
   "source": [
    "# Variables"
   ]
  },
  {
   "cell_type": "code",
   "execution_count": null,
   "id": "853a2e9d-b999-4b3c-a7e2-11f4adcfba77",
   "metadata": {},
   "outputs": [],
   "source": [
    "1.there is a logical length for variable name\n",
    "2. name must be starts with _ or text\n",
    "3. there is no spaces in the variable name\n",
    "4.not allow to use reserved keywords"
   ]
  },
  {
   "cell_type": "markdown",
   "id": "19cc8c0f-2891-4797-9e57-3cd7b6fad042",
   "metadata": {},
   "source": [
    "# Comparison Operators"
   ]
  },
  {
   "cell_type": "code",
   "execution_count": null,
   "id": "f3d74190-0bb7-495d-97c4-c33f820855d3",
   "metadata": {},
   "outputs": [],
   "source": [
    "> # greater than\n",
    "< # less than\n",
    ">= # more than equals to\n",
    "<= # less than equals to\n",
    "== # equals to\n",
    "!= # not equals to"
   ]
  },
  {
   "cell_type": "markdown",
   "id": "6edbe207-caed-44ed-b62f-a69b90c18557",
   "metadata": {},
   "source": [
    "# Data Types"
   ]
  },
  {
   "cell_type": "code",
   "execution_count": null,
   "id": "589972e3-5585-417e-93f5-c0eface178a2",
   "metadata": {},
   "outputs": [],
   "source": [
    "int  # it will read only whole numbers\n",
    "float # it will read both whole and decimal numbers\n",
    "str # whatever we mention in '' , \" \",\"\"\" \"\"\" called string\n",
    "bool # true (1) and false(0)"
   ]
  },
  {
   "cell_type": "code",
   "execution_count": 3,
   "id": "aa771ebe-9d9d-4703-b284-a815f48453a1",
   "metadata": {},
   "outputs": [
    {
     "data": {
      "text/plain": [
       "int"
      ]
     },
     "execution_count": 3,
     "metadata": {},
     "output_type": "execute_result"
    }
   ],
   "source": [
    "q=5\n",
    "type(q)"
   ]
  },
  {
   "cell_type": "code",
   "execution_count": 4,
   "id": "a0723094-8da4-48af-badc-52b810d6354b",
   "metadata": {},
   "outputs": [
    {
     "data": {
      "text/plain": [
       "float"
      ]
     },
     "execution_count": 4,
     "metadata": {},
     "output_type": "execute_result"
    }
   ],
   "source": [
    "w=2.5\n",
    "type(w)"
   ]
  },
  {
   "cell_type": "code",
   "execution_count": 5,
   "id": "9230483c-59df-4ec8-bb9d-cb24afafbeb4",
   "metadata": {},
   "outputs": [
    {
     "data": {
      "text/plain": [
       "str"
      ]
     },
     "execution_count": 5,
     "metadata": {},
     "output_type": "execute_result"
    }
   ],
   "source": [
    "e=\"2\"\n",
    "type(e)"
   ]
  },
  {
   "cell_type": "code",
   "execution_count": 9,
   "id": "a856f816-7fad-406f-b85f-806dc312ae0a",
   "metadata": {},
   "outputs": [
    {
     "data": {
      "text/plain": [
       "bool"
      ]
     },
     "execution_count": 9,
     "metadata": {},
     "output_type": "execute_result"
    }
   ],
   "source": [
    "t=True \n",
    "type(t)"
   ]
  },
  {
   "cell_type": "code",
   "execution_count": 10,
   "id": "53b4271c-495f-4f41-bc2b-db2b4c4fe8b4",
   "metadata": {},
   "outputs": [
    {
     "data": {
      "text/plain": [
       "str"
      ]
     },
     "execution_count": 10,
     "metadata": {},
     "output_type": "execute_result"
    }
   ],
   "source": [
    "a=\"123\"\n",
    "type(a)"
   ]
  },
  {
   "cell_type": "code",
   "execution_count": 11,
   "id": "eee0d323-0fcb-4e41-a75b-44b6a50b1d88",
   "metadata": {},
   "outputs": [
    {
     "data": {
      "text/plain": [
       "123.0"
      ]
     },
     "execution_count": 11,
     "metadata": {},
     "output_type": "execute_result"
    }
   ],
   "source": [
    "float(a)"
   ]
  },
  {
   "cell_type": "code",
   "execution_count": 12,
   "id": "578678f7-60b0-4628-9029-cba762dc803b",
   "metadata": {},
   "outputs": [
    {
     "data": {
      "text/plain": [
       "'123'"
      ]
     },
     "execution_count": 12,
     "metadata": {},
     "output_type": "execute_result"
    }
   ],
   "source": [
    "str(a)"
   ]
  },
  {
   "cell_type": "markdown",
   "id": "d92f8520-09c2-48c0-9dea-3daf27a8dc51",
   "metadata": {},
   "source": [
    "# String"
   ]
  },
  {
   "cell_type": "code",
   "execution_count": 1,
   "id": "76cc2254-4f8e-4aac-9e72-23657751810e",
   "metadata": {},
   "outputs": [
    {
     "data": {
      "text/plain": [
       "\"hello my name is aditya and this is aditya's phone\""
      ]
     },
     "execution_count": 1,
     "metadata": {},
     "output_type": "execute_result"
    }
   ],
   "source": [
    "\"hello my name is aditya and this is aditya's phone\""
   ]
  },
  {
   "cell_type": "code",
   "execution_count": 2,
   "id": "81417783-3730-4b8b-ad6e-69d3b2d6c939",
   "metadata": {},
   "outputs": [],
   "source": [
    "st=\"hello potter meat at the shop or mail me on python@gmail.com at 9: 00 PM\""
   ]
  },
  {
   "cell_type": "code",
   "execution_count": 19,
   "id": "90f26536-0e45-4414-a189-0753676374d6",
   "metadata": {
    "scrolled": true
   },
   "outputs": [
    {
     "ename": "TypeError",
     "evalue": "str.removeprefix() takes exactly one argument (0 given)",
     "output_type": "error",
     "traceback": [
      "\u001b[1;31m---------------------------------------------------------------------------\u001b[0m",
      "\u001b[1;31mTypeError\u001b[0m                                 Traceback (most recent call last)",
      "Cell \u001b[1;32mIn[19], line 6\u001b[0m\n\u001b[0;32m      4\u001b[0m st\u001b[38;5;241m.\u001b[39mcapitalize()\n\u001b[0;32m      5\u001b[0m st\u001b[38;5;241m.\u001b[39mtitle()\n\u001b[1;32m----> 6\u001b[0m \u001b[43mst\u001b[49m\u001b[38;5;241;43m.\u001b[39;49m\u001b[43mremoveprefix\u001b[49m\u001b[43m(\u001b[49m\u001b[43m)\u001b[49m\n\u001b[0;32m      7\u001b[0m st\u001b[38;5;241m.\u001b[39mremovesuffix()\n\u001b[0;32m      8\u001b[0m st\u001b[38;5;241m.\u001b[39msplit()\n",
      "\u001b[1;31mTypeError\u001b[0m: str.removeprefix() takes exactly one argument (0 given)"
     ]
    }
   ],
   "source": [
    "len(st)\n",
    "st.upper()\n",
    "st.lower()\n",
    "st.capitalize()\n",
    "st.title()\n",
    "st.removeprefix()\n",
    "st.removesuffix()\n",
    "st.split()"
   ]
  },
  {
   "cell_type": "code",
   "execution_count": 25,
   "id": "54272e32-404b-4fac-8e82-81804793c588",
   "metadata": {},
   "outputs": [
    {
     "data": {
      "text/plain": [
       "15"
      ]
     },
     "execution_count": 25,
     "metadata": {},
     "output_type": "execute_result"
    }
   ],
   "source": [
    "st.find('at')"
   ]
  },
  {
   "cell_type": "code",
   "execution_count": 17,
   "id": "446fdf2a-7278-4095-9af4-28c16429709a",
   "metadata": {},
   "outputs": [
    {
     "data": {
      "text/plain": [
       "72"
      ]
     },
     "execution_count": 17,
     "metadata": {},
     "output_type": "execute_result"
    }
   ],
   "source": [
    "len(st)"
   ]
  },
  {
   "cell_type": "code",
   "execution_count": 18,
   "id": "99cb915d-c0f0-445b-9057-d1c9bbc36465",
   "metadata": {},
   "outputs": [
    {
     "data": {
      "text/plain": [
       "'HELLO POTTER MEAT AT THE SHOP OR MAIL ME ON PYTHON@GMAIL.COM AT 9: 00 PM'"
      ]
     },
     "execution_count": 18,
     "metadata": {},
     "output_type": "execute_result"
    }
   ],
   "source": [
    "st.upper()"
   ]
  },
  {
   "cell_type": "code",
   "execution_count": 19,
   "id": "28e39e9e-ad76-4e0b-8d30-2d4052f67630",
   "metadata": {},
   "outputs": [
    {
     "data": {
      "text/plain": [
       "'hello potter meat at the shop or mail me on python@gmail.com at 9: 00 pm'"
      ]
     },
     "execution_count": 19,
     "metadata": {},
     "output_type": "execute_result"
    }
   ],
   "source": [
    "st.lower()"
   ]
  },
  {
   "cell_type": "code",
   "execution_count": 21,
   "id": "88b79d1e-ff4b-4a16-8c79-f13cbbfd3356",
   "metadata": {},
   "outputs": [
    {
     "data": {
      "text/plain": [
       "'Hello potter meat at the shop or mail me on python@gmail.com at 9: 00 pm'"
      ]
     },
     "execution_count": 21,
     "metadata": {},
     "output_type": "execute_result"
    }
   ],
   "source": [
    "st.capitalize()"
   ]
  },
  {
   "cell_type": "code",
   "execution_count": 22,
   "id": "1f956b2f-9d08-4bd8-864b-8ea3a3ece31c",
   "metadata": {},
   "outputs": [
    {
     "data": {
      "text/plain": [
       "'Hello Potter Meat At The Shop Or Mail Me On Python@Gmail.Com At 9: 00 Pm'"
      ]
     },
     "execution_count": 22,
     "metadata": {},
     "output_type": "execute_result"
    }
   ],
   "source": [
    "st.title()"
   ]
  },
  {
   "cell_type": "markdown",
   "id": "f7dd42f7-003c-4e4d-aa34-e963eb52617e",
   "metadata": {},
   "source": [
    "# Python"
   ]
  },
  {
   "cell_type": "code",
   "execution_count": null,
   "id": "61451750-56c4-4a06-825d-8376afb0fb28",
   "metadata": {},
   "outputs": [],
   "source": [
    "Python is a programming Lamguage that is widely used in web applications, software developement, data science , and machine learning(ML). Developers use\n",
    "python because it is efficient and easy to learn and can run on many different platforms."
   ]
  },
  {
   "cell_type": "markdown",
   "id": "9a20eb5e-ef5d-48dc-9e49-838642240b70",
   "metadata": {},
   "source": [
    "# Python rules"
   ]
  },
  {
   "cell_type": "code",
   "execution_count": null,
   "id": "1d6408c8-cfe9-4203-a759-69fbe5cbf81d",
   "metadata": {},
   "outputs": [],
   "source": [
    "1. You can't use one of python's key words as a variable name.\n",
    "2. You can't have spaces in your variable name.\n",
    "3. The first character of a variable must be a letter or an underscore.\n",
    "4. Python is case sensitive X is different than X."
   ]
  },
  {
   "cell_type": "markdown",
   "id": "f7a16918-36c5-4888-aadc-281d242bdf0c",
   "metadata": {},
   "source": [
    "# String"
   ]
  },
  {
   "cell_type": "code",
   "execution_count": null,
   "id": "a31cef7d-fbb4-41df-877a-673bcf2d96c6",
   "metadata": {},
   "outputs": [],
   "source": [
    "String is a data structure in Python Programming that represents a sequence of characters. It is an immutable data type, meaning that once you have\n",
    "created a string, you cannot change it. Python string are used widely in many different applications, such as storing and manipulating text data,\n",
    "representing names, addresses, and other types of data that can be represented as text."
   ]
  },
  {
   "cell_type": "markdown",
   "id": "d8350736-ba59-4b79-a808-9e95e21cc8a4",
   "metadata": {},
   "source": [
    "# Numbers"
   ]
  },
  {
   "cell_type": "code",
   "execution_count": null,
   "id": "f45c4232-d7a4-4338-8148-c187cadfb102",
   "metadata": {},
   "outputs": [],
   "source": [
    "In Python, \"Numbers\" is a category that encompasses different types of numeric data. Python supports various types of numbers, including integers,\n",
    "floating-point numbers, and complex numbers. Here's a brief overview of each:"
   ]
  },
  {
   "cell_type": "markdown",
   "id": "6d828e49-5b2f-4d0d-a343-0b1bb134d52b",
   "metadata": {},
   "source": [
    "# Condition  Statements"
   ]
  },
  {
   "cell_type": "code",
   "execution_count": null,
   "id": "54345adc-77c1-4ad1-b7c4-1ece293d13ea",
   "metadata": {},
   "outputs": [],
   "source": [
    "1 if condition1:\n",
    "2     print(\"statement 1\")\n",
    "3 elif condition2:\n",
    "4      print(\"statement 2\")\n",
    "5 elif condition3:\n",
    "6     print(\"statement 3\")\n",
    "7"
   ]
  },
  {
   "cell_type": "code",
   "execution_count": null,
   "id": "72dcb9c9-011a-4c6e-8495-aa84d9bbc89c",
   "metadata": {},
   "outputs": [],
   "source": [
    "1 x = float(input(\"enter the number\"))\n",
    "2 if x%2==0:\n",
    "3."
   ]
  },
  {
   "cell_type": "code",
   "execution_count": null,
   "id": "ce2b3007-01c5-4658-b83f-8b223b7f8070",
   "metadata": {},
   "outputs": [],
   "source": [
    "1 # if x is more than 100 an odd calculate square\n",
    "2 # if x is more than 100 and even calculate square root\n",
    "3 # if x is less than 100 and odd calculate cube\n",
    "4 # if x is less than 100 and even calculate cube root\n",
    "5 # # else : print x is equals to 100"
   ]
  },
  {
   "cell_type": "code",
   "execution_count": 3,
   "id": "003077ef-253d-4c8f-92f7-247ce28a6f66",
   "metadata": {},
   "outputs": [
    {
     "name": "stdin",
     "output_type": "stream",
     "text": [
      " enter the number 24\n"
     ]
    },
    {
     "name": "stdout",
     "output_type": "stream",
     "text": [
      "2.8844991406148166 cube of x cause it is < 100 and even\n"
     ]
    }
   ],
   "source": [
    "x = float(input(\" enter the number\"))\n",
    "if x>100 and x%2!=0:\n",
    "    print(x**2,\"square of x cause it is odd and >100\")\n",
    "\n",
    "elif x>100 and x%2==0:\n",
    "    print(x**(1/2),\"Sqrt of x cause it is even < 100\")\n",
    "\n",
    "elif x<100 and x%2==0:\n",
    "    print(x**(1/3),\"cube of x cause it is < 100 and even\")\n",
    "\n",
    "elif x<100 and x%2!=0:\n",
    "    print(x**3,\"cube of x cause it is odd and < 100\")\n",
    "\n",
    "else:\n",
    "    print(x,\"equals to 100\")"
   ]
  },
  {
   "cell_type": "code",
   "execution_count": 4,
   "id": "0931b0cd-8908-4c62-85de-11f983254e28",
   "metadata": {},
   "outputs": [
    {
     "name": "stdout",
     "output_type": "stream",
     "text": [
      " x is bool\n"
     ]
    }
   ],
   "source": [
    "x = True\n",
    "if type(x)==float:\n",
    "    print(\" x is float\")\n",
    "elif type(x)==int:\n",
    "    print(\" x is int\")\n",
    "elif type(x)==str:\n",
    "    print(\" x is string\")\n",
    "else:\n",
    "    print(\" x is bool\")"
   ]
  },
  {
   "cell_type": "markdown",
   "id": "27614c1e-9a16-4389-be2a-6b4d99c8a872",
   "metadata": {},
   "source": [
    "# String"
   ]
  },
  {
   "cell_type": "code",
   "execution_count": 5,
   "id": "def9f7fe-9015-4a6c-922d-865e2ad789c2",
   "metadata": {},
   "outputs": [
    {
     "name": "stdin",
     "output_type": "stream",
     "text": [
      "enter the string amnaini\n"
     ]
    },
    {
     "name": "stdout",
     "output_type": "stream",
     "text": [
      "string starts with a \n"
     ]
    }
   ],
   "source": [
    "#check if the x starts with a\n",
    "s = input(\"enter the string\")\n",
    "if s[0] == \"a\":\n",
    "    print(\"string starts with a \")\n",
    "else:\n",
    "    print(\" does not starts with a \")"
   ]
  },
  {
   "cell_type": "code",
   "execution_count": 6,
   "id": "35fdfa54-e33d-465c-a840-09505a6b7413",
   "metadata": {},
   "outputs": [
    {
     "name": "stdin",
     "output_type": "stream",
     "text": [
      "enetr the string jansn\n"
     ]
    },
    {
     "name": "stdout",
     "output_type": "stream",
     "text": [
      "does not ends with t\n"
     ]
    }
   ],
   "source": [
    "# check if the string ends with t\n",
    "s = input(\"enetr the string\")\n",
    "if s[-1]==\"t\":\n",
    "    print(\"ends with T\")\n",
    "else:\n",
    "    print(\"does not ends with t\")"
   ]
  },
  {
   "cell_type": "code",
   "execution_count": null,
   "id": "1878864b-71ae-4332-af32-f62aba6a9670",
   "metadata": {},
   "outputs": [],
   "source": [
    "# check if string starts with a and ends with a \n",
    "# check if string starts with a and ends with r\n",
    "# check if string does not starts with a and ends with a "
   ]
  },
  {
   "cell_type": "code",
   "execution_count": 10,
   "id": "a4651fc6-6615-48e7-a6fd-ed2499ba8db4",
   "metadata": {},
   "outputs": [
    {
     "name": "stdin",
     "output_type": "stream",
     "text": [
      "enter the string b\n"
     ]
    },
    {
     "name": "stdout",
     "output_type": "stream",
     "text": [
      "there is no condition\n"
     ]
    }
   ],
   "source": [
    "s = input(\"enter the string\")\n",
    "if s[0] == \"a\" and s[-1] == \"a\":\n",
    "    print(\"string starts with a and end with a\")\n",
    "elif s[0] == \"a\" and s[-1] == \"r\":\n",
    "    print(\"string starts with a and end with r\")\n",
    "elif s[0] == \"a\" and s[-1]!=\"a\":\n",
    "    print(\"not starts and ends with a\")\n",
    "else:\n",
    "    print(\"there is no condition\")"
   ]
  },
  {
   "cell_type": "code",
   "execution_count": null,
   "id": "7f8aaac4-5796-4e42-8a1e-565d0bf5afd3",
   "metadata": {},
   "outputs": [],
   "source": [
    "# check if the 1st letter is upper case or lower case"
   ]
  },
  {
   "cell_type": "code",
   "execution_count": 12,
   "id": "a423f684-2a9c-48ae-b95d-8ac7ed94e6c1",
   "metadata": {},
   "outputs": [
    {
     "data": {
      "text/plain": [
       "'b'"
      ]
     },
     "execution_count": 12,
     "metadata": {},
     "output_type": "execute_result"
    }
   ],
   "source": [
    "s[0]"
   ]
  },
  {
   "cell_type": "code",
   "execution_count": 13,
   "id": "b3315ab8-c9c2-449d-8060-d019461e2844",
   "metadata": {},
   "outputs": [
    {
     "data": {
      "text/plain": [
       "'B'"
      ]
     },
     "execution_count": 13,
     "metadata": {},
     "output_type": "execute_result"
    }
   ],
   "source": [
    "s[0].upper()"
   ]
  },
  {
   "cell_type": "code",
   "execution_count": 14,
   "id": "0eabf4fb-1d0d-42ed-adb0-d46da0ce7cc2",
   "metadata": {},
   "outputs": [
    {
     "name": "stdin",
     "output_type": "stream",
     "text": [
      "enter the string helo\\\n"
     ]
    },
    {
     "name": "stdout",
     "output_type": "stream",
     "text": [
      "lowercase\n"
     ]
    }
   ],
   "source": [
    "s = input(\"enter the string\")\n",
    "if s[0]==s[0].upper():\n",
    "    print(\"uppercase\")\n",
    "else:\n",
    "    print(\"lowercase\")"
   ]
  },
  {
   "cell_type": "code",
   "execution_count": 17,
   "id": "d05b73f9-90d4-4800-8c86-e9914f6cb429",
   "metadata": {},
   "outputs": [
    {
     "name": "stdin",
     "output_type": "stream",
     "text": [
      "enter the string F\n"
     ]
    },
    {
     "name": "stdout",
     "output_type": "stream",
     "text": [
      "uppercase\n"
     ]
    }
   ],
   "source": [
    "s = input(\"enter the string\")\n",
    "if s[0].isupper():\n",
    "    print(\"uppercase\")\n",
    "else:\n",
    "    print(\"lowercase\")"
   ]
  },
  {
   "cell_type": "code",
   "execution_count": 18,
   "id": "08774bc6-728e-4cd7-9bc8-43446cbd4157",
   "metadata": {},
   "outputs": [],
   "source": [
    "# check if the lengths of string is more than 6 or not"
   ]
  },
  {
   "cell_type": "code",
   "execution_count": 19,
   "id": "5e6b20e5-f986-455e-8cc2-99b15e87fbd5",
   "metadata": {},
   "outputs": [
    {
     "name": "stdin",
     "output_type": "stream",
     "text": [
      "string Hello\n"
     ]
    },
    {
     "name": "stdout",
     "output_type": "stream",
     "text": [
      "less than 6\n"
     ]
    }
   ],
   "source": [
    "f = input(\"string\")\n",
    "if len(f)>6:\n",
    "    print(\"length of string is more than 6\")\n",
    "else:\n",
    "    print(\"less than 6\")"
   ]
  },
  {
   "cell_type": "code",
   "execution_count": null,
   "id": "bb6f8c49-91b9-4616-81b4-156e536f8287",
   "metadata": {},
   "outputs": [],
   "source": [
    "# check if the count of spaces is more than 5 or not"
   ]
  },
  {
   "cell_type": "code",
   "execution_count": 20,
   "id": "b34c4a59-5864-488f-80c8-eea6fcf94fe7",
   "metadata": {},
   "outputs": [
    {
     "name": "stdin",
     "output_type": "stream",
     "text": [
      "string G h h\n"
     ]
    },
    {
     "name": "stdout",
     "output_type": "stream",
     "text": [
      "less than 5\n"
     ]
    }
   ],
   "source": [
    "f = input(\"string\")\n",
    "if len(f)>5:\n",
    "    print(\"count of spaces of string is more than 5\")\n",
    "else:\n",
    "    print(\"less than 5\")"
   ]
  },
  {
   "cell_type": "markdown",
   "id": "d4654478-1f6f-4b73-8e48-70fbed91f9a5",
   "metadata": {},
   "source": [
    "# Nested IF"
   ]
  },
  {
   "cell_type": "code",
   "execution_count": 3,
   "id": "34718011-e325-4c30-a8f1-76ad350fcdc1",
   "metadata": {},
   "outputs": [
    {
     "name": "stdin",
     "output_type": "stream",
     "text": [
      "age  11\n"
     ]
    },
    {
     "name": "stdout",
     "output_type": "stream",
     "text": [
      "teenager\n",
      "minor\n",
      "kid\n"
     ]
    }
   ],
   "source": [
    "age = int(input(\"age \"))\n",
    "if age<18:\n",
    "    print(\"teenager\")\n",
    "    if age<16:\n",
    "        print(\"minor\")\n",
    "    if age<12:\n",
    "        print(\"kid\")"
   ]
  },
  {
   "cell_type": "code",
   "execution_count": 4,
   "id": "45d752f4-f278-4fb2-ae6b-1375e0299a67",
   "metadata": {},
   "outputs": [
    {
     "name": "stdin",
     "output_type": "stream",
     "text": [
      "enter the name of the shape  triangle\n"
     ]
    }
   ],
   "source": [
    "name = input(\"enter the name of the shape \")"
   ]
  },
  {
   "cell_type": "code",
   "execution_count": 5,
   "id": "0a2cac78-9950-411a-939e-3350ae85a9b5",
   "metadata": {},
   "outputs": [
    {
     "data": {
      "text/plain": [
       "True"
      ]
     },
     "execution_count": 5,
     "metadata": {},
     "output_type": "execute_result"
    }
   ],
   "source": [
    "name.lower() == \"triangle\""
   ]
  },
  {
   "cell_type": "code",
   "execution_count": 6,
   "id": "4bbca519-0706-4654-bb45-9ab9c79708d4",
   "metadata": {},
   "outputs": [
    {
     "data": {
      "text/plain": [
       "'triangle'"
      ]
     },
     "execution_count": 6,
     "metadata": {},
     "output_type": "execute_result"
    }
   ],
   "source": [
    "name"
   ]
  },
  {
   "cell_type": "code",
   "execution_count": 14,
   "id": "10aebae3-c494-433a-ad35-aed44eaa4880",
   "metadata": {},
   "outputs": [
    {
     "name": "stdin",
     "output_type": "stream",
     "text": [
      "enter the name of the shape cube\n",
      "enter what u want in cube  parameter\n"
     ]
    },
    {
     "name": "stdout",
     "output_type": "stream",
     "text": [
      "parameter of cube is 6a**2 \n"
     ]
    }
   ],
   "source": [
    "name = input(\"enter the name of the shape\")\n",
    "if name.lower() == \"triangle\":\n",
    "    g = input(\"enter want u want in triangle \")\n",
    "    if g.lower() == \"area\":\n",
    "        print(\"area of triangle is ==> 1/2*b*h \")\n",
    "    elif g.lower() == \"parameter\":\n",
    "        print(\"parameter of triangle is A+B+C \")\n",
    "elif name.lower()==\"cube\":\n",
    "        g= input(\"enter what u want in cube \")\n",
    "        if g.lower()==\"area\":\n",
    "            print(\"area of cube is ==> side**3 \")\n",
    "        elif g.lower()==\"parameter\":\n",
    "            print(\"parameter of cube is 6a**2 \")"
   ]
  },
  {
   "cell_type": "markdown",
   "id": "19586935-3762-4ee3-b194-dcc32c80efd5",
   "metadata": {},
   "source": [
    "# Loop"
   ]
  },
  {
   "cell_type": "code",
   "execution_count": 1,
   "id": "00eaab6b-7fa3-4de9-bcaa-0a715a542478",
   "metadata": {},
   "outputs": [],
   "source": [
    "k=(1,2,3,4,5,6,7,8,9,10)"
   ]
  },
  {
   "cell_type": "code",
   "execution_count": 2,
   "id": "51f035c5-10be-434b-802f-82b9f1a6dc74",
   "metadata": {},
   "outputs": [
    {
     "name": "stdout",
     "output_type": "stream",
     "text": [
      "1\n",
      "2\n",
      "3\n",
      "4\n",
      "5\n",
      "6\n",
      "7\n",
      "8\n",
      "9\n",
      "10\n"
     ]
    }
   ],
   "source": [
    "for i in k:\n",
    "    print(i)"
   ]
  },
  {
   "cell_type": "code",
   "execution_count": 3,
   "id": "8f5cd38b-320c-4a10-bc58-4b3296ccfe7a",
   "metadata": {},
   "outputs": [
    {
     "data": {
      "text/plain": [
       "10"
      ]
     },
     "execution_count": 3,
     "metadata": {},
     "output_type": "execute_result"
    }
   ],
   "source": [
    "i"
   ]
  },
  {
   "cell_type": "code",
   "execution_count": 4,
   "id": "b0e306b3-ba32-4c92-9c5f-6d12bb41a22d",
   "metadata": {},
   "outputs": [
    {
     "name": "stdout",
     "output_type": "stream",
     "text": [
      "4\n",
      "5\n",
      "6\n",
      "7\n",
      "8\n",
      "9\n"
     ]
    }
   ],
   "source": [
    "# print those elements which is more than 3\n",
    "k=[1,2,3,4,5,6,7,8,9]\n",
    "for h in k:\n",
    "    if h>3:\n",
    "        print(h)\n"
   ]
  },
  {
   "cell_type": "code",
   "execution_count": 5,
   "id": "9083ba8a-ab40-4c2c-997a-727145801a5d",
   "metadata": {},
   "outputs": [
    {
     "name": "stdout",
     "output_type": "stream",
     "text": [
      "2\n",
      "4\n",
      "6\n",
      "8\n"
     ]
    }
   ],
   "source": [
    "# print even elements from the list\n",
    "k=[1,2,3,4,5,6,7,8,9]\n",
    "for u in k:\n",
    "    if u%2==0:\n",
    "        print(u)"
   ]
  },
  {
   "cell_type": "code",
   "execution_count": 6,
   "id": "29e9e15c-4d90-4e95-b25a-68e52200291e",
   "metadata": {},
   "outputs": [
    {
     "name": "stdout",
     "output_type": "stream",
     "text": [
      "4 is the square of 2\n",
      "16 is the square of 4\n",
      "36 is the square of 6\n",
      "64 is the square of 8\n"
     ]
    }
   ],
   "source": [
    "# print even elements from the list and calculate square\n",
    "k=[1,2,3,4,5,6,7,8,9]\n",
    "for i in k:\n",
    "    if i%2==0:\n",
    "        print(\"{} is the square of {}\". format(i**2,i))"
   ]
  },
  {
   "cell_type": "code",
   "execution_count": null,
   "id": "7a98b750-3d26-4700-8dc4-764c2d8803a8",
   "metadata": {},
   "outputs": [],
   "source": [
    "# print those elements between 10 and 20\n",
    "k=[1,10,11,12,13,14,15,16,17,18,19,20,21]"
   ]
  },
  {
   "cell_type": "code",
   "execution_count": null,
   "id": "b040a9e3-1d83-48cc-9535-8f4c2f3893cc",
   "metadata": {},
   "outputs": [],
   "source": [
    "l=[1,2,3,4,5,6]\n",
    "# for variable in l:"
   ]
  },
  {
   "cell_type": "code",
   "execution_count": 3,
   "id": "b3a6c527-6b75-417b-bfd1-563ecaa1e81b",
   "metadata": {},
   "outputs": [
    {
     "name": "stdout",
     "output_type": "stream",
     "text": [
      "1\n",
      "2\n",
      "3\n",
      "4\n",
      "5\n",
      "6\n"
     ]
    }
   ],
   "source": [
    "l=[1,2,3,4,5,6]\n",
    "for i in  l:\n",
    "    print(i)"
   ]
  },
  {
   "cell_type": "code",
   "execution_count": 5,
   "id": "b146e4f5-2276-4d0e-8fb0-b91d67ec1a42",
   "metadata": {},
   "outputs": [
    {
     "data": {
      "text/plain": [
       "6"
      ]
     },
     "execution_count": 5,
     "metadata": {},
     "output_type": "execute_result"
    }
   ],
   "source": [
    "i"
   ]
  },
  {
   "cell_type": "code",
   "execution_count": 11,
   "id": "19124bcb-c220-40db-bd9e-d6b1624e4e27",
   "metadata": {},
   "outputs": [
    {
     "name": "stdout",
     "output_type": "stream",
     "text": [
      "7\n",
      "8\n",
      "9\n",
      "6\n"
     ]
    }
   ],
   "source": [
    "# extract those element which is more than 5\n",
    "w=[1,4,7,8,9,6,3,4,2,5]\n",
    "for j in w:\n",
    "    if j>5:\n",
    "        print(j)"
   ]
  },
  {
   "cell_type": "code",
   "execution_count": 7,
   "id": "fdd155b5-2859-44d3-a58e-d29c29495f89",
   "metadata": {},
   "outputs": [
    {
     "name": "stdout",
     "output_type": "stream",
     "text": [
      "a\n",
      "b\n",
      "c\n",
      "d\n",
      "e\n",
      "True\n"
     ]
    }
   ],
   "source": [
    "g=[\"a\",\"b\",\"c\",\"d\",\"e\",True]\n",
    "for i in g:\n",
    "    print(i)"
   ]
  },
  {
   "cell_type": "code",
   "execution_count": 12,
   "id": "3ad61279-e7d6-4812-8e5e-d33cab5df02b",
   "metadata": {},
   "outputs": [
    {
     "name": "stdout",
     "output_type": "stream",
     "text": [
      "4\n",
      "8\n",
      "6\n",
      "2\n",
      "4\n",
      "6\n",
      "2\n"
     ]
    }
   ],
   "source": [
    "# extract even elements fro the list\n",
    "w =[1,4,7,8,9,6,3,2,5,4,6,3,2,5]\n",
    "for j in w:\n",
    "    if j%2==0:\n",
    "        print(j)"
   ]
  },
  {
   "cell_type": "code",
   "execution_count": 13,
   "id": "08309f5d-00d3-4934-823a-f402bcc1fca2",
   "metadata": {},
   "outputs": [
    {
     "name": "stdout",
     "output_type": "stream",
     "text": [
      "4\n",
      "6\n",
      "5\n",
      "4\n",
      "6\n",
      "5\n"
     ]
    }
   ],
   "source": [
    "#extract elements between 3 and 7\n",
    "w =[1,4,7,8,9,6,3,2,5,4,6,3,2,5]\n",
    "for h in w:\n",
    "    if h>3 and h<7:\n",
    "        print(h)"
   ]
  },
  {
   "cell_type": "code",
   "execution_count": 14,
   "id": "73c22831-7967-48a5-9908-395ae6db766a",
   "metadata": {},
   "outputs": [
    {
     "name": "stdout",
     "output_type": "stream",
     "text": [
      "16 is the square of 4\n",
      "64 is the square of 8\n",
      "36 is the square of 6\n",
      "4 is the square of 2\n",
      "16 is the square of 4\n",
      "36 is the square of 6\n",
      "4 is the square of 2\n"
     ]
    }
   ],
   "source": [
    "# calculate the square of even elements\n",
    "w =[1,4,7,8,9,6,3,2,5,4,6,3,2,5]\n",
    "for i in w:\n",
    "    if i%2==0:\n",
    "        print(i**2,\"is the square of\",i)"
   ]
  },
  {
   "cell_type": "code",
   "execution_count": 16,
   "id": "a5875d98-ca39-48d4-afa3-2aec9d9f8a4e",
   "metadata": {},
   "outputs": [
    {
     "name": "stdout",
     "output_type": "stream",
     "text": [
      "abhinaza\n",
      "aman\n",
      "aastha\n"
     ]
    }
   ],
   "source": [
    "# print those name starts with a \n",
    "name=[\"rohan\",\"abhinaza\",\"robin\",\"karan\",\"aman\",\"pankaj\",\"aastha\"]\n",
    "for h in name:\n",
    "    if h[0]==\"a\":\n",
    "        print(h)"
   ]
  },
  {
   "cell_type": "code",
   "execution_count": 17,
   "id": "80f57f54-79ea-4b5c-87d7-cbc20c04187c",
   "metadata": {},
   "outputs": [
    {
     "name": "stdout",
     "output_type": "stream",
     "text": [
      "abhinaza\n",
      "aman\n",
      "aastha\n"
     ]
    }
   ],
   "source": [
    "# print those name satrts with a\n",
    "name=[\"rohan\",\"abhinaza\",\"robin\",\"karan\",\"aman\",\"pankaj\",\"aastha\"]\n",
    "for h in name:\n",
    "    if h.startswith(\"a\"):\n",
    "        print(h)"
   ]
  },
  {
   "cell_type": "code",
   "execution_count": 21,
   "id": "8c5ba811-3df9-4352-a137-0613f7d7f9a8",
   "metadata": {},
   "outputs": [
    {
     "name": "stdout",
     "output_type": "stream",
     "text": [
      "abhinaza\n",
      "aastha\n"
     ]
    }
   ],
   "source": [
    "# print those names which starts with \"a\" and ends with \"a\"\n",
    "name=[\"rohan\",\"abhinaza\",\"robin\",\"karan\",\"aman\",\"pankaj\",\"aastha\"]\n",
    "for h in name:\n",
    "    if h.startswith(\"a\") and h.endswith(\"a\"):\n",
    "        print(h)"
   ]
  },
  {
   "cell_type": "code",
   "execution_count": 23,
   "id": "d9ea9eac-50eb-4055-8edc-bd3fb327e168",
   "metadata": {},
   "outputs": [
    {
     "name": "stdout",
     "output_type": "stream",
     "text": [
      "roha\n",
      "abhi\n",
      "robi\n",
      "kara\n",
      "aman\n",
      "pank\n",
      "aast\n"
     ]
    }
   ],
   "source": [
    "# print 1st 4 letters of all names\n",
    "name=[\"rohan\",\"abhinaza\",\"robin\",\"karan\",\"aman\",\"pankaj\",\"aastha\"]\n",
    "for h in name:\n",
    "    print(h[:4])"
   ]
  },
  {
   "cell_type": "code",
   "execution_count": 26,
   "id": "f3f9ec0d-6010-4473-bf8a-6dc8c14abf06",
   "metadata": {},
   "outputs": [
    {
     "name": "stdout",
     "output_type": "stream",
     "text": [
      "2000\n",
      "2004\n",
      "2008\n"
     ]
    }
   ],
   "source": [
    "# print all leap years\n",
    "year = [2000,2001,2002,2003,2004,2005,2006,2007,2008,2009,2010]\n",
    "for i in year:\n",
    "    if i%4==0 and i%100!=0 or i%400==0:\n",
    "        print(i)"
   ]
  },
  {
   "cell_type": "code",
   "execution_count": 29,
   "id": "48ddcd81-d142-4c81-ba06-61a99a956bec",
   "metadata": {},
   "outputs": [
    {
     "data": {
      "text/plain": [
       "8"
      ]
     },
     "execution_count": 29,
     "metadata": {},
     "output_type": "execute_result"
    }
   ],
   "source": [
    "# print the 2nd highest element \n",
    "s=[4,7,8,5,2,3,6,9,6,5,6,3,2]\n",
    "s.sort()\n",
    "s[-2]"
   ]
  },
  {
   "cell_type": "code",
   "execution_count": 6,
   "id": "0a60db4f-54f8-4955-9d9c-76f5c46ab6c4",
   "metadata": {},
   "outputs": [],
   "source": [
    "#print the 2nd highest element\n",
    "s = [4,7,8,5,2,3,6,9,6,5,6,3,2,9,9,9,9,9]"
   ]
  },
  {
   "cell_type": "code",
   "execution_count": 8,
   "id": "868d391a-b197-46bd-a3c9-529e2be6b04a",
   "metadata": {},
   "outputs": [
    {
     "data": {
      "text/plain": [
       "[2, 2, 3, 3, 4, 5, 5, 6, 6, 6, 7, 8, 9, 9, 9, 9, 9, 9]"
      ]
     },
     "execution_count": 8,
     "metadata": {},
     "output_type": "execute_result"
    }
   ],
   "source": [
    "s.sort()\n",
    "s"
   ]
  },
  {
   "cell_type": "code",
   "execution_count": 7,
   "id": "8c7a68c5-2123-47fd-a94a-422d028871fb",
   "metadata": {},
   "outputs": [
    {
     "name": "stdout",
     "output_type": "stream",
     "text": [
      "8\n"
     ]
    }
   ],
   "source": [
    "s.sort()\n",
    "index= -2\n",
    "for i in s:\n",
    "    if s[index]==max(s):\n",
    "        index-=1\n",
    "print(s[index])"
   ]
  },
  {
   "cell_type": "code",
   "execution_count": 10,
   "id": "a1bd8dac-ac08-44e5-9e09-ebd9a6a176a4",
   "metadata": {},
   "outputs": [
    {
     "name": "stdout",
     "output_type": "stream",
     "text": [
      "0\n",
      "0\n",
      "3\n",
      "3\n",
      "4\n",
      "5\n",
      "5\n",
      "6\n",
      "6\n",
      "6\n",
      "7\n",
      "8\n",
      "8\n",
      "8\n",
      "8\n",
      "8\n",
      "8\n",
      "8\n"
     ]
    }
   ],
   "source": [
    "s = [4,7,8,5,2,3,6,9,6,5,6,3,2,9,9,9,9,9]\n",
    "s.sort()\n",
    "second_element = 0\n",
    "for i in s:\n",
    "    if i>min(s) and i<max(s):\n",
    "        second_element = i\n",
    "    print(second_element)"
   ]
  },
  {
   "cell_type": "code",
   "execution_count": 11,
   "id": "49a3455f-7e6b-4a7e-baaf-fc04bb822b09",
   "metadata": {},
   "outputs": [
    {
     "name": "stdout",
     "output_type": "stream",
     "text": [
      "hello\n",
      "how\n",
      "are\n",
      "you\n",
      "i\n",
      "am\n",
      "fine\n",
      "what\n",
      "about\n",
      "you\n"
     ]
    }
   ],
   "source": [
    "s = \"hello how are you i am fine what about you\"\n",
    "for i in s.split():\n",
    "    print(i)"
   ]
  },
  {
   "cell_type": "code",
   "execution_count": 13,
   "id": "3359961a-de75-4887-84e1-2d038997264f",
   "metadata": {},
   "outputs": [
    {
     "name": "stdout",
     "output_type": "stream",
     "text": [
      "2\n"
     ]
    }
   ],
   "source": [
    "# count those words that starts with h\n",
    "count=0\n",
    "s = \"hello how are you i am fine what about you\"\n",
    "for i in s.split():\n",
    "    if i[0] =='h':\n",
    "        count=count+1;\n",
    "print(count)"
   ]
  },
  {
   "cell_type": "markdown",
   "id": "8dc2642c-b700-4d52-8314-2a297e35ecc8",
   "metadata": {},
   "source": [
    "# Range"
   ]
  },
  {
   "cell_type": "code",
   "execution_count": null,
   "id": "eb629657-d548-41b1-8025-5e3d688aef5b",
   "metadata": {},
   "outputs": [],
   "source": [
    "range(start,stop,step)"
   ]
  },
  {
   "cell_type": "code",
   "execution_count": 16,
   "id": "22f7cbfa-0c61-4219-9995-71892fe3d6fa",
   "metadata": {},
   "outputs": [
    {
     "name": "stdout",
     "output_type": "stream",
     "text": [
      "0\n",
      "1\n"
     ]
    }
   ],
   "source": [
    "for i in range(2):\n",
    "    print(i)"
   ]
  },
  {
   "cell_type": "code",
   "execution_count": 19,
   "id": "db0a8cfa-06ae-4b30-82ce-d35378f19b4a",
   "metadata": {},
   "outputs": [
    {
     "name": "stdout",
     "output_type": "stream",
     "text": [
      "10\n",
      "12\n",
      "14\n",
      "16\n",
      "18\n",
      "20\n",
      "22\n",
      "24\n",
      "26\n",
      "28\n",
      "30\n",
      "32\n",
      "34\n",
      "36\n",
      "38\n",
      "40\n",
      "42\n",
      "44\n",
      "46\n",
      "48\n"
     ]
    }
   ],
   "source": [
    "# print all even numbers between 10 and 50\n",
    "for i in range(10,50,2):\n",
    "    print(i)"
   ]
  },
  {
   "cell_type": "code",
   "execution_count": 21,
   "id": "91bca0bd-b9f5-47ef-bf73-6983cce7c7e4",
   "metadata": {},
   "outputs": [
    {
     "name": "stdout",
     "output_type": "stream",
     "text": [
      "15\n",
      "25\n",
      "35\n",
      "45\n",
      "55\n",
      "65\n",
      "75\n",
      "85\n",
      "95\n"
     ]
    }
   ],
   "source": [
    "# print those digit where 1st one is 5 between 10 to 100\n",
    "for i in range(10,100):\n",
    "    if(i%10==5):\n",
    "        print(i)"
   ]
  },
  {
   "cell_type": "code",
   "execution_count": 24,
   "id": "c61729f8-3f7a-4c07-a577-000c53d461fa",
   "metadata": {},
   "outputs": [
    {
     "name": "stdout",
     "output_type": "stream",
     "text": [
      "2 * 1 = 2\n",
      "2 * 2 = 4\n",
      "2 * 3 = 6\n",
      "2 * 4 = 8\n",
      "2 * 5 = 10\n",
      "2 * 6 = 12\n",
      "2 * 7 = 14\n",
      "2 * 8 = 16\n",
      "2 * 9 = 18\n",
      "2 * 10 = 20\n"
     ]
    }
   ],
   "source": [
    "# print the table of 2\n",
    "for i in range(1,11):\n",
    "    print('2 *',i,'=',2*i)"
   ]
  },
  {
   "cell_type": "code",
   "execution_count": 27,
   "id": "72f31b70-f34d-4347-9e54-cec613b6610f",
   "metadata": {},
   "outputs": [
    {
     "name": "stdout",
     "output_type": "stream",
     "text": [
      "[10, 12, 14, 16, 18, 20, 22, 24, 26, 28, 30, 32, 34, 36, 38, 40, 42, 44, 46, 48]\n",
      "[11, 13, 15, 17, 19, 21, 23, 25, 27, 29, 31, 33, 35, 37, 39, 41, 43, 45, 47, 49]\n"
     ]
    }
   ],
   "source": [
    "# create 2 list and add even and odd digit in both list between 10 and 50\n",
    "even=[]\n",
    "odd=[]\n",
    "for i in range(10,50):\n",
    "    if i%2==0:\n",
    "        even.append(i)\n",
    "    else:\n",
    "        odd.append(i)\n",
    "print(even)\n",
    "print(odd)\n",
    "    "
   ]
  },
  {
   "cell_type": "code",
   "execution_count": 28,
   "id": "634d82dc-73f1-45c6-a4c5-16f58e44bd47",
   "metadata": {},
   "outputs": [
    {
     "name": "stdout",
     "output_type": "stream",
     "text": [
      "* \n",
      "* * \n",
      "* * * \n",
      "* * * * \n"
     ]
    }
   ],
   "source": [
    "for i in range(1,5):\n",
    "    print(\"* \"*i)"
   ]
  },
  {
   "cell_type": "code",
   "execution_count": 33,
   "id": "1488d950-f103-49af-8299-fd0a998bc8c5",
   "metadata": {},
   "outputs": [
    {
     "name": "stdout",
     "output_type": "stream",
     "text": [
      "****\n",
      "****\n",
      "****\n",
      "****\n"
     ]
    }
   ],
   "source": [
    "for i in range(4):\n",
    "    print(\"*\"*4)"
   ]
  },
  {
   "cell_type": "code",
   "execution_count": 3,
   "id": "5043f9bd-420c-4b5c-aefa-4bba2583caa9",
   "metadata": {},
   "outputs": [
    {
     "name": "stdout",
     "output_type": "stream",
     "text": [
      " *  *  *  *  *  * \n",
      " *  *  *  *  * \n",
      " *  *  *  * \n",
      " *  *  * \n",
      " *  * \n",
      " * \n"
     ]
    }
   ],
   "source": [
    "for i in range(6,0,-1):\n",
    "    print(i*\" * \")"
   ]
  },
  {
   "cell_type": "code",
   "execution_count": 4,
   "id": "588a1ebf-aa5b-4b0f-a48e-eb832361f547",
   "metadata": {},
   "outputs": [
    {
     "name": "stdout",
     "output_type": "stream",
     "text": [
      "*\n",
      "*\n",
      "*\n",
      "*\n",
      "*\n"
     ]
    }
   ],
   "source": [
    "for i in range(5):\n",
    "    print(\"*\")"
   ]
  },
  {
   "cell_type": "code",
   "execution_count": 5,
   "id": "26ebdaa2-1ac2-4831-9f14-071590031dac",
   "metadata": {},
   "outputs": [
    {
     "name": "stdout",
     "output_type": "stream",
     "text": [
      "* * * * * "
     ]
    }
   ],
   "source": [
    "for i in range(5):\n",
    "    print(\"*\", end=\" \")"
   ]
  },
  {
   "cell_type": "markdown",
   "id": "e730c021-f3c1-4cf9-8930-5c3147ee9124",
   "metadata": {},
   "source": [
    "# Nested Loop"
   ]
  },
  {
   "cell_type": "code",
   "execution_count": 8,
   "id": "db91f7fb-3b02-43d3-b30a-9ec801b3e765",
   "metadata": {},
   "outputs": [
    {
     "name": "stdout",
     "output_type": "stream",
     "text": [
      "9\n",
      "10\n",
      "11\n",
      "12\n",
      "13\n",
      "18\n",
      "20\n",
      "22\n",
      "24\n",
      "26\n"
     ]
    }
   ],
   "source": [
    "f = [1,2]\n",
    "h = [9,10,11,12,13]\n",
    "for i in f:\n",
    "    for j in h:\n",
    "        print(i * j)"
   ]
  },
  {
   "cell_type": "code",
   "execution_count": 9,
   "id": "00b0ea48-9778-4ebf-ba3e-e5fb66ff3cf4",
   "metadata": {},
   "outputs": [
    {
     "name": "stdout",
     "output_type": "stream",
     "text": [
      "1 2 3 4 5 6 \n",
      "1 2 3 4 5 6 \n",
      "1 2 3 4 5 6 \n",
      "1 2 3 4 5 6 \n",
      "1 2 3 4 5 6 \n",
      "1 2 3 4 5 6 \n"
     ]
    }
   ],
   "source": [
    "g = [1,2,3,4,5,6]\n",
    "for i in g:\n",
    "    for j in g:\n",
    "        print(j,end=\" \")\n",
    "    print()"
   ]
  },
  {
   "cell_type": "code",
   "execution_count": 11,
   "id": "36c41cd0-21ab-4a21-bb0b-df980582e4a1",
   "metadata": {},
   "outputs": [
    {
     "name": "stdout",
     "output_type": "stream",
     "text": [
      "        * \n",
      "      * * \n",
      "    * * * \n",
      "  * * * * \n",
      "* * * * * \n"
     ]
    }
   ],
   "source": [
    "for i in range(1,6):\n",
    "    for j in range(1,6):\n",
    "        if j>=6-i:\n",
    "            print(\"*\",end=\" \")\n",
    "        else:\n",
    "            print(\" \",end=\" \")\n",
    "    print()"
   ]
  },
  {
   "cell_type": "code",
   "execution_count": 18,
   "id": "dc43a3e1-e819-4fd9-8457-979d9536548b",
   "metadata": {},
   "outputs": [
    {
     "name": "stdout",
     "output_type": "stream",
     "text": [
      "      *       \n",
      "    * * *     \n",
      "  * * * * *   \n",
      "* * * * * * * \n"
     ]
    }
   ],
   "source": [
    "for i in range(1,5):\n",
    "    for j in range(1,8):\n",
    "        if j>=5-i and  j<=3+i:\n",
    "            print(\"*\",end=\" \")\n",
    "        else:\n",
    "            print(\" \",end=\" \")\n",
    "    print()"
   ]
  },
  {
   "cell_type": "code",
   "execution_count": 24,
   "id": "a1cc7fbb-34cc-4db9-8d09-853eaa1a3e09",
   "metadata": {},
   "outputs": [
    {
     "name": "stdout",
     "output_type": "stream",
     "text": [
      "* * * * * * * \n",
      "  * * * * *   \n",
      "    * * *     \n",
      "      *       \n"
     ]
    }
   ],
   "source": [
    "for i in range(1,5):\n",
    "    for j in range(1,8):\n",
    "        if j>=i and  j<=8-i:\n",
    "            print(\"*\",end=\" \")\n",
    "        else:\n",
    "            print(\" \",end=\" \")\n",
    "    print()"
   ]
  },
  {
   "cell_type": "markdown",
   "id": "6cc91a17-1101-4495-969f-0049942efaee",
   "metadata": {},
   "source": [
    "# Practice Questions"
   ]
  },
  {
   "cell_type": "code",
   "execution_count": null,
   "id": "ec76449f-8731-42e8-be63-3ce902171351",
   "metadata": {},
   "outputs": [],
   "source": [
    "# create 2 list name then square and cube and add perfect square\n",
    "# between 1 and 200 in square list same with cube"
   ]
  },
  {
   "cell_type": "code",
   "execution_count": 8,
   "id": "b2cc61eb-c163-41ca-a0b4-8e57655b0a54",
   "metadata": {},
   "outputs": [
    {
     "name": "stdout",
     "output_type": "stream",
     "text": [
      "Perfect Squares between 1 and 200: [1, 4, 9, 16, 25, 36, 49, 64, 81, 100, 121, 144, 169, 196]\n",
      "Perfect Cubes between 1 and 200: [1, 8, 27, 125]\n"
     ]
    }
   ],
   "source": [
    "\n",
    "square_list = []\n",
    "cube_list = []\n",
    "\n",
    "\n",
    "for i in range(1, 201):\n",
    "    \n",
    "    if int(i**(1/2)) ** 2 == i:\n",
    "        square_list.append(i)\n",
    "    \n",
    "   \n",
    "    if int(i**(1/3)) ** 3 == i:\n",
    "        cube_list.append(i)\n",
    "\n",
    "\n",
    "print(\"Perfect Squares between 1 and 200:\", square_list)\n",
    "print(\"Perfect Cubes between 1 and 200:\", cube_list)\n"
   ]
  },
  {
   "cell_type": "code",
   "execution_count": null,
   "id": "81825129-f91b-4260-b3c7-e273886ea754",
   "metadata": {},
   "outputs": [],
   "source": [
    "# print all names from the list with the no. of letters ex:- \"archit\" :6\n",
    "l1 = [\"Akanksha\",\"archit\",\"aryan\",\"kanka\",\"lomesh\",\"tushar\",\"vinit\"]"
   ]
  },
  {
   "cell_type": "code",
   "execution_count": 5,
   "id": "09614b54-b045-4b4e-9265-e8c273a08bee",
   "metadata": {},
   "outputs": [
    {
     "name": "stdout",
     "output_type": "stream",
     "text": [
      "\"Akanksha\" : 8\n",
      "\"archit\" : 6\n",
      "\"aryan\" : 5\n",
      "\"kanka\" : 5\n",
      "\"lomesh\" : 6\n",
      "\"tushar\" : 6\n",
      "\"vinit\" : 5\n"
     ]
    }
   ],
   "source": [
    "\n",
    "l1 = [\"Akanksha\", \"archit\", \"aryan\", \"kanka\", \"lomesh\", \"tushar\", \"vinit\"]\n",
    "\n",
    "\n",
    "for name in l1:\n",
    "    print(f'\"{name}\" : {len(name)}')\n"
   ]
  },
  {
   "cell_type": "code",
   "execution_count": null,
   "id": "1fd04034-c380-4d2a-bbf8-a3a15abc60f4",
   "metadata": {},
   "outputs": [],
   "source": [
    "# print the largest name from the list\n",
    "names = [\"Akanksha\",\"archit\",\"aryan\",\"kanka\",\"lomesh\",\"tushar\",\"vinit\"]"
   ]
  },
  {
   "cell_type": "code",
   "execution_count": 3,
   "id": "f46b2c1e-f877-48af-97e1-51a38434b92c",
   "metadata": {},
   "outputs": [
    {
     "name": "stdout",
     "output_type": "stream",
     "text": [
      "The largest name is: Akanksha\n"
     ]
    }
   ],
   "source": [
    "\n",
    "names = [\"Akanksha\", \"archit\", \"aryan\", \"kanka\", \"lomesh\", \"tushar\", \"vinit\"]\n",
    "\n",
    "\n",
    "largest_name = max(names, key=len)\n",
    "\n",
    "\n",
    "print(\"The largest name is:\", largest_name)\n"
   ]
  },
  {
   "cell_type": "code",
   "execution_count": null,
   "id": "32be3acb-6826-4d21-a508-3cf62f2fefdb",
   "metadata": {},
   "outputs": [],
   "source": [
    "# print the occurance of each word\n",
    "st1 = \"\"\" what is sql and why is it important in data science and explain the difference between a database and a table\"\"\""
   ]
  },
  {
   "cell_type": "code",
   "execution_count": 10,
   "id": "4a7fccd6-312b-4adf-b606-1cff5081e628",
   "metadata": {},
   "outputs": [
    {
     "name": "stdout",
     "output_type": "stream",
     "text": [
      "it = 1\n",
      "table = 1\n",
      "data = 2\n",
      "explain = 1\n",
      "in = 2\n",
      "a = 14\n",
      "what = 1\n",
      "why = 1\n",
      "important = 1\n",
      "between = 1\n",
      "is = 2\n",
      "sql = 1\n",
      "and = 3\n",
      "science = 1\n",
      "difference = 1\n",
      "database = 1\n",
      "the = 1\n"
     ]
    }
   ],
   "source": [
    "\n",
    "st1 = \"\"\" what is sql and why is it important in data science and explain the difference between a database and a table\"\"\"\n",
    "words = set(st1.split())\n",
    "for i in words:\n",
    "    print(i,'=',st1.count(i))\n"
   ]
  },
  {
   "cell_type": "code",
   "execution_count": null,
   "id": "4a5b306f-3169-42a8-98bf-6c325d7e4f5f",
   "metadata": {},
   "outputs": [],
   "source": [
    "1 #  *      *\n",
    "2 #   *   *   \n",
    "3 #     *   \n",
    "4 #   *   *\n",
    "5 #  *      *\n",
    "6 # create this star pattern"
   ]
  },
  {
   "cell_type": "code",
   "execution_count": 7,
   "id": "17451cb5-8dc9-49ea-8fdd-d7e5b423275f",
   "metadata": {},
   "outputs": [
    {
     "name": "stdout",
     "output_type": "stream",
     "text": [
      "*     *\n",
      " *   *\n",
      "   *\n",
      " *   *\n",
      "*     *\n"
     ]
    }
   ],
   "source": [
    "\n",
    "rows = 5\n",
    "\n",
    "\n",
    "for i in range(1, rows + 1):\n",
    "    if i == 1 or i == rows:\n",
    "        \n",
    "        print(\"*     *\")\n",
    "    elif i == 3:\n",
    "       \n",
    "        print(\"   *\")\n",
    "    else:\n",
    "        \n",
    "        print(\" *   *\")\n"
   ]
  },
  {
   "cell_type": "markdown",
   "id": "4b624213-8685-450a-9a0e-d5ebd618a604",
   "metadata": {},
   "source": [
    "# break,pass,continue"
   ]
  },
  {
   "cell_type": "code",
   "execution_count": null,
   "id": "d8f693dd-8c24-4246-9df6-73390ec7eff5",
   "metadata": {},
   "outputs": [],
   "source": [
    "break # it will stop the loop whenever the condition is true\n",
    "pass\n",
    "continue # it skip the conition and continue the loop in the same order"
   ]
  },
  {
   "cell_type": "code",
   "execution_count": 3,
   "id": "95ad1786-d88a-4a8a-9fa0-1b382223c844",
   "metadata": {},
   "outputs": [
    {
     "name": "stdout",
     "output_type": "stream",
     "text": [
      "1\n",
      "2\n",
      "3\n",
      "4\n",
      "5\n",
      "6\n",
      "7\n",
      "8\n",
      "9\n",
      "10\n"
     ]
    }
   ],
   "source": [
    "for i in range(1,20):\n",
    "    if i==11:\n",
    "        break\n",
    "    print(i)"
   ]
  },
  {
   "cell_type": "code",
   "execution_count": 4,
   "id": "59cd1ce7-1e70-43e1-bc39-6930356e6b28",
   "metadata": {},
   "outputs": [
    {
     "name": "stdout",
     "output_type": "stream",
     "text": [
      "0\n",
      "1\n",
      "2\n",
      "3\n",
      "4\n",
      "5\n",
      "6\n",
      "7\n",
      "8\n",
      "9\n"
     ]
    }
   ],
   "source": [
    "for j in range(0,10):\n",
    "    pass\n",
    "    print(j)"
   ]
  },
  {
   "cell_type": "code",
   "execution_count": 6,
   "id": "ed71dafd-a43a-4c0d-80cf-67129379a1b4",
   "metadata": {},
   "outputs": [
    {
     "name": "stdin",
     "output_type": "stream",
     "text": [
      "enter the number 5\n"
     ]
    },
    {
     "name": "stdout",
     "output_type": "stream",
     "text": [
      "5 X 1 = 5\n",
      "5 X 2 = 10\n",
      "5 X 3 = 15\n",
      "5 X 4 = 20\n",
      "5 X 5 = 25\n",
      "5 X 6 = 30\n",
      "5 X 7 = 35\n",
      "5 X 8 = 40\n",
      "5 X 9 = 45\n",
      "5 X 10 = 50\n"
     ]
    }
   ],
   "source": [
    "n = int(input(\"enter the number\"))\n",
    "f = 1\n",
    "while f<=10:\n",
    "    print(\"{} X {} = {}\".format(n,f,n*f))\n",
    "    f+=1"
   ]
  },
  {
   "cell_type": "code",
   "execution_count": 8,
   "id": "2f211b85-8888-4365-8272-a8f16d15b657",
   "metadata": {},
   "outputs": [
    {
     "name": "stdout",
     "output_type": "stream",
     "text": [
      "2\n",
      "4\n",
      "6\n",
      "8\n",
      "10\n",
      "12\n",
      "14\n",
      "16\n",
      "18\n",
      "20\n"
     ]
    }
   ],
   "source": [
    "g = 1\n",
    "while g<=20:\n",
    "    if g%2==0:\n",
    "        print(g)\n",
    "    g=g+1"
   ]
  },
  {
   "cell_type": "code",
   "execution_count": 5,
   "id": "f98083d4-d879-44b6-9421-427e31aff444",
   "metadata": {},
   "outputs": [
    {
     "name": "stdout",
     "output_type": "stream",
     "text": [
      "69874\n"
     ]
    }
   ],
   "source": [
    "# print the no. in reverse order\n",
    "f=47896\n",
    "g=0\n",
    "while f>0:\n",
    "    g=g*10+f%10\n",
    "    f = f//10\n",
    "print(g)"
   ]
  },
  {
   "cell_type": "code",
   "execution_count": null,
   "id": "6eca59ef-017b-462e-933d-ce830f8964f6",
   "metadata": {},
   "outputs": [],
   "source": [
    "#consider the string \"welcome to python world\". perform the following qperations\n",
    "\n",
    "1 count the number of alphabets in the string\n",
    "\n",
    "2 to extract charaters in the given, range from the string\n",
    "\n",
    "3 check if the string is alphanumeric or not"
   ]
  },
  {
   "cell_type": "code",
   "execution_count": 7,
   "id": "66100f5d-607c-4849-9b3c-0c1e6fa34081",
   "metadata": {},
   "outputs": [],
   "source": [
    "d=\"welcome to python world\""
   ]
  },
  {
   "cell_type": "code",
   "execution_count": 8,
   "id": "73e4f69e-1b66-40d0-858d-073dd3c8b3f6",
   "metadata": {},
   "outputs": [
    {
     "data": {
      "text/plain": [
       "23"
      ]
     },
     "execution_count": 8,
     "metadata": {},
     "output_type": "execute_result"
    }
   ],
   "source": [
    "len(d)"
   ]
  },
  {
   "cell_type": "code",
   "execution_count": 9,
   "id": "63f2f3c1-3ec4-4f78-a603-af793518869a",
   "metadata": {},
   "outputs": [
    {
     "data": {
      "text/plain": [
       "'me to'"
      ]
     },
     "execution_count": 9,
     "metadata": {},
     "output_type": "execute_result"
    }
   ],
   "source": [
    "d[5:10]"
   ]
  },
  {
   "cell_type": "code",
   "execution_count": 11,
   "id": "963c7555-ca77-4e71-9556-17fa782282a7",
   "metadata": {},
   "outputs": [
    {
     "data": {
      "text/plain": [
       "False"
      ]
     },
     "execution_count": 11,
     "metadata": {},
     "output_type": "execute_result"
    }
   ],
   "source": [
    "d.isalnum()"
   ]
  },
  {
   "cell_type": "code",
   "execution_count": 12,
   "id": "9961450f-c0d4-4937-b985-769118103f0a",
   "metadata": {},
   "outputs": [
    {
     "name": "stdout",
     "output_type": "stream",
     "text": [
      "0\n",
      "1\n",
      "2\n",
      "3\n",
      "4\n",
      "5\n",
      "6\n",
      "7\n",
      "8\n",
      "9\n",
      "10\n"
     ]
    }
   ],
   "source": [
    "g=0\n",
    "while g<=10:\n",
    "    print(g)\n",
    "    g=g+1"
   ]
  },
  {
   "cell_type": "code",
   "execution_count": 16,
   "id": "87748dcd-03dd-4618-a180-8f452841ba2b",
   "metadata": {},
   "outputs": [
    {
     "name": "stdout",
     "output_type": "stream",
     "text": [
      "10\n",
      "9\n",
      "8\n",
      "7\n",
      "6\n",
      "5\n",
      "4\n",
      "3\n",
      "2\n",
      "1\n"
     ]
    }
   ],
   "source": [
    "g=10\n",
    "while g>0:\n",
    "    print(g)\n",
    "    g=g-1"
   ]
  },
  {
   "cell_type": "code",
   "execution_count": 17,
   "id": "530ca894-8028-4d70-8855-3f007e7fcc0f",
   "metadata": {},
   "outputs": [
    {
     "name": "stdout",
     "output_type": "stream",
     "text": [
      "2\n",
      "4\n",
      "6\n",
      "8\n",
      "10\n",
      "12\n",
      "14\n",
      "16\n",
      "18\n",
      "20\n",
      "22\n",
      "24\n",
      "26\n",
      "28\n",
      "30\n",
      "32\n",
      "34\n",
      "36\n",
      "38\n",
      "40\n",
      "42\n",
      "44\n",
      "46\n",
      "48\n",
      "50\n"
     ]
    }
   ],
   "source": [
    "e = 1\n",
    "while e<=50:\n",
    "    if e%2!=0:\n",
    "        print(e)\n",
    "    e=e + 1"
   ]
  },
  {
   "cell_type": "code",
   "execution_count": 1,
   "id": "ee5961f0-b3e2-4313-8c57-b15eb9ecb346",
   "metadata": {},
   "outputs": [
    {
     "name": "stdout",
     "output_type": "stream",
     "text": [
      "[1, 3, 5, 7, 9, 11, 13, 15, 17, 19]\n"
     ]
    }
   ],
   "source": [
    "e = 1\n",
    "h = []\n",
    "while e<=20:\n",
    "    if e%2!=0:\n",
    "        h.append(e)\n",
    "    e = e+1\n",
    "print(h)"
   ]
  },
  {
   "cell_type": "code",
   "execution_count": 3,
   "id": "7273018e-6992-484d-833e-e6f0f5d0de00",
   "metadata": {},
   "outputs": [
    {
     "name": "stdout",
     "output_type": "stream",
     "text": [
      "841\n"
     ]
    }
   ],
   "source": [
    "# print the number in reverse order\n",
    "e = 148\n",
    "while e>0:\n",
    "    r= e%10\n",
    "    e=e//10\n",
    "    print(r,end=\"\")\n",
    "print()   "
   ]
  },
  {
   "cell_type": "code",
   "execution_count": 4,
   "id": "20ccbab8-bc2c-4728-be8d-8ee71618f2ee",
   "metadata": {},
   "outputs": [
    {
     "name": "stdout",
     "output_type": "stream",
     "text": [
      "15\n"
     ]
    }
   ],
   "source": [
    "r = 124343565678678\n",
    "count = 0\n",
    "while r > 0:\n",
    "    e = r%10\n",
    "    r = r//10\n",
    "    count = count + 1\n",
    "print (count)"
   ]
  },
  {
   "cell_type": "code",
   "execution_count": 5,
   "id": "9ff4707e-d7f9-4c52-a171-56e45c504c65",
   "metadata": {},
   "outputs": [
    {
     "name": "stdout",
     "output_type": "stream",
     "text": [
      "98741\n"
     ]
    }
   ],
   "source": [
    "r = 14789\n",
    "h = 0\n",
    "while r>0:\n",
    "    h = h*10+r%10\n",
    "    r = r//10\n",
    "print(h)"
   ]
  },
  {
   "cell_type": "code",
   "execution_count": 6,
   "id": "765d4bbd-d073-4e51-afe0-31f3c18fd4f8",
   "metadata": {},
   "outputs": [],
   "source": [
    "h = h*10+r%10"
   ]
  },
  {
   "cell_type": "code",
   "execution_count": 9,
   "id": "d48cac1b-4114-4094-b124-d7279d12cf47",
   "metadata": {},
   "outputs": [],
   "source": [
    "# concat two list in a single list\n",
    "def concat(a,b):\n",
    "    return a+b"
   ]
  },
  {
   "cell_type": "code",
   "execution_count": 10,
   "id": "442bb4ee-2396-4743-9560-ef5a0d28739b",
   "metadata": {},
   "outputs": [
    {
     "data": {
      "text/plain": [
       "[1, 2, 3, 77, 88]"
      ]
     },
     "execution_count": 10,
     "metadata": {},
     "output_type": "execute_result"
    }
   ],
   "source": [
    "concat([1,2,3],[77,88])"
   ]
  },
  {
   "cell_type": "code",
   "execution_count": 11,
   "id": "b4d8bda3-1dc4-4b2b-a0dc-c0447ca785f8",
   "metadata": {},
   "outputs": [],
   "source": [
    "a=[1]\n",
    "b=[2,3,4]"
   ]
  },
  {
   "cell_type": "code",
   "execution_count": 12,
   "id": "1c969d38-e4a5-40f1-9bd3-a0119a0ce015",
   "metadata": {},
   "outputs": [
    {
     "data": {
      "text/plain": [
       "[1, 2, 3, 4]"
      ]
     },
     "execution_count": 12,
     "metadata": {},
     "output_type": "execute_result"
    }
   ],
   "source": [
    "concat(a,b)"
   ]
  },
  {
   "cell_type": "code",
   "execution_count": 7,
   "id": "c470b822-a0c8-4c56-9ad5-6ec81aa4bf24",
   "metadata": {},
   "outputs": [],
   "source": [
    "r=[1]\n",
    "g=[4,5]"
   ]
  },
  {
   "cell_type": "code",
   "execution_count": 5,
   "id": "29aa58ad-d02c-4a1f-bb83-8eeca3b36953",
   "metadata": {},
   "outputs": [
    {
     "data": {
      "text/plain": [
       "[1]"
      ]
     },
     "execution_count": 5,
     "metadata": {},
     "output_type": "execute_result"
    }
   ],
   "source": [
    "r"
   ]
  },
  {
   "cell_type": "code",
   "execution_count": 6,
   "id": "e2add592-6d84-4e4c-bb51-cf3ca5d6853f",
   "metadata": {},
   "outputs": [
    {
     "data": {
      "text/plain": [
       "[1, 4, 5]"
      ]
     },
     "execution_count": 6,
     "metadata": {},
     "output_type": "execute_result"
    }
   ],
   "source": [
    " r + g"
   ]
  },
  {
   "cell_type": "code",
   "execution_count": 24,
   "id": "364a105f-ed36-49d9-a6d8-305d6203519c",
   "metadata": {},
   "outputs": [],
   "source": [
    "# find the sum of list\n",
    "b=[1,2,3,4,5]\n",
    "total = 0\n",
    "for i in b:\n",
    "    total = total+i"
   ]
  },
  {
   "cell_type": "code",
   "execution_count": 27,
   "id": "b4d38ee4-6a0b-4b8a-9d22-67627383dbd3",
   "metadata": {},
   "outputs": [],
   "source": [
    "def total_list(x):\n",
    "    total = 0\n",
    "    for i in x:\n",
    "        total = total + i\n",
    "    return total"
   ]
  },
  {
   "cell_type": "code",
   "execution_count": 20,
   "id": "107d08bf-9e22-42c5-a601-639fac5262e1",
   "metadata": {},
   "outputs": [],
   "source": [
    "i = 5"
   ]
  },
  {
   "cell_type": "code",
   "execution_count": 21,
   "id": "c56fdc4f-e775-4503-86c9-cbf3ca55da5c",
   "metadata": {},
   "outputs": [],
   "source": [
    "f = 0"
   ]
  },
  {
   "cell_type": "code",
   "execution_count": 22,
   "id": "cf96cd4e-3915-4f11-b748-88c3e2956898",
   "metadata": {},
   "outputs": [],
   "source": [
    "f = f+i"
   ]
  },
  {
   "cell_type": "code",
   "execution_count": 23,
   "id": "7453b7e3-7410-4b95-ac80-2d22ed7f2724",
   "metadata": {},
   "outputs": [
    {
     "data": {
      "text/plain": [
       "5"
      ]
     },
     "execution_count": 23,
     "metadata": {},
     "output_type": "execute_result"
    }
   ],
   "source": [
    "f"
   ]
  },
  {
   "cell_type": "code",
   "execution_count": 29,
   "id": "58355d08-22ec-4ffb-9d48-74edd524d0ed",
   "metadata": {},
   "outputs": [],
   "source": [
    "# find the sum of list\n",
    "b=[1,2,3,4,5,5,5]\n"
   ]
  },
  {
   "cell_type": "code",
   "execution_count": 34,
   "id": "fc27d0bf-4b70-4d4d-9b0b-551fa802e159",
   "metadata": {},
   "outputs": [
    {
     "data": {
      "text/plain": [
       "25"
      ]
     },
     "execution_count": 34,
     "metadata": {},
     "output_type": "execute_result"
    }
   ],
   "source": [
    " total_list(b)\n",
    "   "
   ]
  },
  {
   "cell_type": "code",
   "execution_count": 35,
   "id": "0437b1e8-0b4b-45ba-bf67-8d3014bddfe6",
   "metadata": {},
   "outputs": [],
   "source": [
    "# find the sum of all positive elements in the list\n",
    "k=[1,4,5,8,-9,-6,-3,-10]"
   ]
  },
  {
   "cell_type": "code",
   "execution_count": 36,
   "id": "92016de2-2d4d-48e4-b901-87f670bf6400",
   "metadata": {},
   "outputs": [
    {
     "data": {
      "text/plain": [
       "18"
      ]
     },
     "execution_count": 36,
     "metadata": {},
     "output_type": "execute_result"
    }
   ],
   "source": [
    "\n",
    "def psum(b):\n",
    "    sum=0\n",
    "    for i in b:\n",
    "        if(i>0):\n",
    "            sum=sum+i\n",
    "    return sum\n",
    "b=[1,4,5,8,-9,-6-3,-10]\n",
    "psum(b)"
   ]
  },
  {
   "cell_type": "code",
   "execution_count": 37,
   "id": "deeff9cc-fef5-48e7-8fb8-25ac07f3303f",
   "metadata": {},
   "outputs": [],
   "source": [
    "# count the no. of positive elements \n",
    "f = [1,2,3,4,5,-6,-8,-9,-10]"
   ]
  },
  {
   "cell_type": "code",
   "execution_count": 38,
   "id": "43fe2e4d-ef9d-4050-b85b-3137544d92db",
   "metadata": {},
   "outputs": [
    {
     "data": {
      "text/plain": [
       "5"
      ]
     },
     "execution_count": 38,
     "metadata": {},
     "output_type": "execute_result"
    }
   ],
   "source": [
    "\n",
    "def cou(b):\n",
    "    c=0\n",
    "    for i in b:\n",
    "        if(i>0):\n",
    "            c=c+1\n",
    "    return c\n",
    "b=[1,2,3,4,5,-6,-7,-8,-9,-10]\n",
    "cou(b)"
   ]
  },
  {
   "cell_type": "code",
   "execution_count": 41,
   "id": "70fe9deb-e23c-4612-ab4d-3b6dfe3241df",
   "metadata": {},
   "outputs": [],
   "source": [
    "# print a greeting message using define function\n",
    "name = [\"aman\",\"rohit\"]\n",
    "def greeting(x):\n",
    "    for i in x:\n",
    "        return(\"good morning\",i)"
   ]
  },
  {
   "cell_type": "code",
   "execution_count": 42,
   "id": "f4bb8e96-2430-450f-92c7-fd3620c6b387",
   "metadata": {},
   "outputs": [
    {
     "data": {
      "text/plain": [
       "('good morning', 'aman')"
      ]
     },
     "execution_count": 42,
     "metadata": {},
     "output_type": "execute_result"
    }
   ],
   "source": [
    "greeting (name)"
   ]
  },
  {
   "cell_type": "code",
   "execution_count": 43,
   "id": "d50236c3-1687-4398-a2da-b15381fe53dd",
   "metadata": {},
   "outputs": [
    {
     "data": {
      "text/plain": [
       "800000.0"
      ]
     },
     "execution_count": 43,
     "metadata": {},
     "output_type": "execute_result"
    }
   ],
   "source": [
    "# function to calculate the tax and income in hand using following points\n",
    "def tax(income):\n",
    "    if(income>=0 and income<250000):\n",
    "        annual_income=income\n",
    "    elif(income>=250000 and income<500000):\n",
    "        annual_income=income-(income*(5/100))\n",
    "    elif(income>=500000 and income<750000):\n",
    "        annual_income=income-(income*(10/100))\n",
    "    elif(income>=750000 and income<1000000):\n",
    "        annual_income=income-(income*(15/100))\n",
    "    elif(income>=1000000 and income<1250000):\n",
    "        annual_income=income-(income*(20/100))\n",
    "    elif(income>=1250000 and income<1500000):\n",
    "        annual_income=income-(income*(25/100))\n",
    "    elif(income>=1500000):\n",
    "         annual_income=income-(income*(30/100))\n",
    "    return annual_income\n",
    "tax(1000000)\n"
   ]
  },
  {
   "cell_type": "code",
   "execution_count": null,
   "id": "80a488d9-96f7-4a76-a788-e43a8974411b",
   "metadata": {},
   "outputs": [],
   "source": [
    "# circle : area = pie*r**2\n",
    "#           Circumfrence = 2 pie * r\n",
    "# traingle : area = (1/2)*b*h\n",
    "#          perimeter = (a+b+c)\n",
    "#cylinder : volume = pie * r**2*h\n",
    "#          surface area = 2*pie*r(r+h)"
   ]
  },
  {
   "cell_type": "code",
   "execution_count": 16,
   "id": "6a828eac-a9a6-41f9-9e38-477dc76adf32",
   "metadata": {},
   "outputs": [],
   "source": [
    "def solid():\n",
    "    x=str(input(\"enter the solid\"))\n",
    "    if(x==\"circle\"):\n",
    "        r=(\"enter the radius\")\n",
    "        y=str(input(\"enter what you want to calculate\"))\n",
    "        if(y==\"area\"):\n",
    "            print(\"area of circle is {}\".format(3.14*(r**2)))\n",
    "        elif(y==\"perimeter\"):\n",
    "            prinr(\"perimeter of circle is {}\".format(2*3.14*r))\n",
    "    elif(x==\"triangle\"):\n",
    "        y=str(input(\"enter what you want to calculate\"))\n",
    "        if(y==\"area\"):\n",
    "            b=float(input(\"enter the base\"))\n",
    "            h=float(input(\"enter the height\"))\n",
    "            print(\"area of triangle is {}\".format((1/2)*b*h))\n",
    "        if(y==\"perimeter\"):\n",
    "            a=float(input(\"enter the side1\"))\n",
    "            b=float(input(\"enter the side2\"))\n",
    "            c=float(input(\"enter the side3\"))\n",
    "            print(\"perimeter of triangle is {}\".format(a+b+c))\n",
    "    elif(x==\"cylinder\"):\n",
    "        y=str(input(\"enter what you want to calculate\"))\n",
    "        if(y==\"volume\"):\n",
    "            r=float(input(\"enter radius\"))\n",
    "            h=float(input(\"enter height\"))\n",
    "            print(\"the volume of cylinder is {}\".format(3.14*(r**2)*h))\n",
    "        elif(y==\"surface area\"):\n",
    "            r=float(input(\"enter radius\"))\n",
    "            h=float(input(\"enter height\"))\n",
    "            print(\"the surface area {}\".format(2*3.14*r*(r+h)))"
   ]
  },
  {
   "cell_type": "code",
   "execution_count": 19,
   "id": "98626602-e5f1-4e1c-bc46-b5ee6c0c9064",
   "metadata": {},
   "outputs": [
    {
     "name": "stdin",
     "output_type": "stream",
     "text": [
      "enter the solid triangle\n",
      "enter what you want to calculate area\n",
      "enter the base 4\n",
      "enter the height 5\n"
     ]
    },
    {
     "name": "stdout",
     "output_type": "stream",
     "text": [
      "area of triangle is 10.0\n"
     ]
    }
   ],
   "source": [
    "solid()\n"
   ]
  },
  {
   "cell_type": "code",
   "execution_count": null,
   "id": "774feaf5-236e-4b8a-b1d9-0d9fc244238b",
   "metadata": {},
   "outputs": [],
   "source": [
    "#1 create a Python function to check if a given string is a palindrome\n",
    "#2 calculate the compund interest for a given principal amount , interest rate, and time period\n",
    "#3 write a program that converts a given number of days into years , weeks , and days\n",
    "#4 create a program that takes a sentence as input and counts the number of words in it\n",
    "#5 create a function to reverse a given string\n",
    "#6 implement a program that converts a given number of minutes into hours and minutes\n",
    "#7 create a python function to find the sum of all even numbers in the list\n",
    "#8 create a python function to find the sum of all odd numbers in the list\n",
    "#9 given a list of numbers, create a function to find the sum of all postitive numbers"
   ]
  },
  {
   "cell_type": "code",
   "execution_count": 2,
   "id": "3c4dbab7-0f02-46fb-8060-99c70b43ac7f",
   "metadata": {},
   "outputs": [
    {
     "name": "stdout",
     "output_type": "stream",
     "text": [
      "'An Apple a day keeps a docter away' is not a palindrome.\n"
     ]
    }
   ],
   "source": [
    "#1\n",
    "def is_palindrome(s):\n",
    "    \n",
    "    s = s.lower().replace(\" \", \"\")\n",
    "    \n",
    "    \n",
    "    return s == s[::-1]\n",
    "\n",
    "\n",
    "test_string = \"An Apple a day keeps a docter away\"\n",
    "if is_palindrome(test_string):\n",
    "    print(f\"'{test_string}' is a palindrome.\")\n",
    "else:\n",
    "    print(f\"'{test_string}' is not a palindrome.\")\n"
   ]
  },
  {
   "cell_type": "code",
   "execution_count": null,
   "id": "69ca0e58-d21d-45d3-9532-88bfe0000214",
   "metadata": {},
   "outputs": [],
   "source": [
    "#2"
   ]
  },
  {
   "cell_type": "code",
   "execution_count": 8,
   "id": "524bb315-e71c-4ac2-8d93-c9812ee3c130",
   "metadata": {},
   "outputs": [
    {
     "name": "stdin",
     "output_type": "stream",
     "text": [
      "Enter the number of days:  1000\n"
     ]
    },
    {
     "name": "stdout",
     "output_type": "stream",
     "text": [
      "1000 days is approximately 2 year(s), 38 week(s), and 4 day(s).\n"
     ]
    }
   ],
   "source": [
    "#3\n",
    "\n",
    "def convert_days(days):\n",
    "    \n",
    "    years = days // 365\n",
    "    remaining_days = days % 365\n",
    "    \n",
    "    \n",
    "    weeks = remaining_days // 7\n",
    "    days_left = remaining_days % 7\n",
    "    \n",
    "    return years, weeks, days_left\n",
    "\n",
    "\n",
    "days = int(input(\"Enter the number of days: \"))\n",
    "\n",
    "\n",
    "years, weeks, days_left = convert_days(days)\n",
    "\n",
    "\n",
    "print(f\"{days} days is approximately {years} year(s), {weeks} week(s), and {days_left} day(s).\")\n"
   ]
  },
  {
   "cell_type": "code",
   "execution_count": 9,
   "id": "529260d6-622d-4d89-9763-bf69397c669c",
   "metadata": {},
   "outputs": [
    {
     "name": "stdin",
     "output_type": "stream",
     "text": [
      "Enter a sentence:  hello, how's your day\n"
     ]
    },
    {
     "name": "stdout",
     "output_type": "stream",
     "text": [
      "Number of words: 4\n"
     ]
    }
   ],
   "source": [
    "#4\n",
    "\n",
    "def count_words(sentence):\n",
    "   \n",
    "    words = sentence.split()\n",
    "    \n",
    "    word_count = len(words)\n",
    "    return word_count\n",
    "\n",
    "\n",
    "sentence = input(\"Enter a sentence: \")\n",
    "\n",
    "\n",
    "print(\"Number of words:\", count_words(sentence))\n"
   ]
  },
  {
   "cell_type": "code",
   "execution_count": 10,
   "id": "ed037536-6f4d-4165-aaec-3a40fa5a46d2",
   "metadata": {},
   "outputs": [
    {
     "name": "stdout",
     "output_type": "stream",
     "text": [
      "Original String: Hello World\n",
      "Reversed String: dlroW olleH\n"
     ]
    }
   ],
   "source": [
    "#5\n",
    "def reverse_string(input_string):\n",
    "    \n",
    "    reversed_string = input_string[::-1]\n",
    "    return reversed_string\n",
    "\n",
    "\n",
    "test_string = \"Hello World\"\n",
    "print(\"Original String:\", test_string)\n",
    "print(\"Reversed String:\", reverse_string(test_string))\n"
   ]
  },
  {
   "cell_type": "code",
   "execution_count": 11,
   "id": "73f18280-be3f-4142-b83d-7177005ce04f",
   "metadata": {},
   "outputs": [
    {
     "name": "stdin",
     "output_type": "stream",
     "text": [
      "Enter the number of minutes:  789\n"
     ]
    },
    {
     "name": "stdout",
     "output_type": "stream",
     "text": [
      "789 minutes is equal to 13 hours and 9 minutes.\n"
     ]
    }
   ],
   "source": [
    "#6\n",
    "\n",
    "def convert_minutes(total_minutes):\n",
    "    \n",
    "    hours = total_minutes // 60\n",
    "   \n",
    "    minutes = total_minutes % 60\n",
    "    return hours, minutes\n",
    "\n",
    "\n",
    "total_minutes = int(input(\"Enter the number of minutes: \"))\n",
    "\n",
    "\n",
    "hours, minutes = convert_minutes(total_minutes)\n",
    "\n",
    "\n",
    "print(f\"{total_minutes} minutes is equal to {hours} hours and {minutes} minutes.\")\n"
   ]
  },
  {
   "cell_type": "code",
   "execution_count": 5,
   "id": "fc7b9d22-dd1a-4649-b06c-55f7fd09a431",
   "metadata": {},
   "outputs": [
    {
     "name": "stdout",
     "output_type": "stream",
     "text": [
      "Sum of even numbers: 30\n"
     ]
    }
   ],
   "source": [
    "#7\n",
    "def sum_of_even_numbers(numbers):\n",
    "   \n",
    "    even_sum = 0\n",
    "    \n",
    "  \n",
    "    for num in numbers:\n",
    "        \n",
    "        if num % 2 == 0:\n",
    "           \n",
    "            even_sum += num\n",
    "    \n",
    "    return even_sum\n",
    "\n",
    "\n",
    "numbers = [1, 2, 3, 4, 5, 6, 7, 8, 9, 10]\n",
    "print(\"Sum of even numbers:\", sum_of_even_numbers(numbers))\n"
   ]
  },
  {
   "cell_type": "code",
   "execution_count": 6,
   "id": "51a7aa0f-9826-402c-8cef-daf901764106",
   "metadata": {},
   "outputs": [
    {
     "name": "stdout",
     "output_type": "stream",
     "text": [
      "Sum of odd numbers: 25\n"
     ]
    }
   ],
   "source": [
    "#8\n",
    "\n",
    "def sum_of_odds(numbers):\n",
    "    \n",
    "    odd_sum = sum([num for num in numbers if num % 2 != 0])\n",
    "    return odd_sum\n",
    "\n",
    "\n",
    "numbers = [1, 2, 3, 4, 5, 6, 7, 8, 9, 10]\n",
    "result = sum_of_odds(numbers)\n",
    "print(\"Sum of odd numbers:\", result)\n"
   ]
  },
  {
   "cell_type": "code",
   "execution_count": 12,
   "id": "a1b60dd5-0e82-4db9-922d-4c3f618fe155",
   "metadata": {},
   "outputs": [
    {
     "name": "stdout",
     "output_type": "stream",
     "text": [
      "Sum of positive numbers: 19\n"
     ]
    }
   ],
   "source": [
    "#9\n",
    "\n",
    "def sum_positive_numbers(numbers):\n",
    "  \n",
    "    positive_sum = sum(num for num in numbers if num > 0)\n",
    "    return positive_sum\n",
    "\n",
    "\n",
    "numbers = [3, -1, 7, 0, -5, 9, -2]\n",
    "\n",
    "\n",
    "result = sum_positive_numbers(numbers)\n",
    "print(\"Sum of positive numbers:\", result)\n"
   ]
  },
  {
   "cell_type": "markdown",
   "id": "01a48248-9a93-4d4a-87cc-79d976f6c0cd",
   "metadata": {},
   "source": [
    "# lambda"
   ]
  },
  {
   "cell_type": "code",
   "execution_count": null,
   "id": "82c804dc-4002-4e54-89cc-eb5909760052",
   "metadata": {},
   "outputs": [],
   "source": [
    "lmbda agr1,agr2......:calculation"
   ]
  },
  {
   "cell_type": "code",
   "execution_count": 15,
   "id": "2603436a-711f-4c90-aea2-ac3f3e26974f",
   "metadata": {},
   "outputs": [],
   "source": [
    "# add function\n",
    "f=lambda x,y:x+y"
   ]
  },
  {
   "cell_type": "code",
   "execution_count": 16,
   "id": "745251f7-6e8b-416c-93a2-88d91bb61a69",
   "metadata": {},
   "outputs": [
    {
     "data": {
      "text/plain": [
       "17"
      ]
     },
     "execution_count": 16,
     "metadata": {},
     "output_type": "execute_result"
    }
   ],
   "source": [
    "f(8,9)"
   ]
  },
  {
   "cell_type": "code",
   "execution_count": 20,
   "id": "a44e68d0-0cd2-4738-9e8f-aa8d9655ef61",
   "metadata": {},
   "outputs": [],
   "source": [
    "# squa\n",
    "sq = lambda x:x**2"
   ]
  },
  {
   "cell_type": "code",
   "execution_count": 21,
   "id": "ed1995de-2f0e-46cc-8121-b2edd75894ab",
   "metadata": {},
   "outputs": [
    {
     "data": {
      "text/plain": [
       "64"
      ]
     },
     "execution_count": 21,
     "metadata": {},
     "output_type": "execute_result"
    }
   ],
   "source": [
    "sq(8)"
   ]
  },
  {
   "cell_type": "code",
   "execution_count": 22,
   "id": "c7c0792f-f3b4-4406-952a-c53fcc60094c",
   "metadata": {},
   "outputs": [],
   "source": [
    "# areaof circle \n",
    "area = lambda r,pie:pie*r*r"
   ]
  },
  {
   "cell_type": "code",
   "execution_count": 23,
   "id": "9641fcf1-e27b-4ba8-a4f2-058e17b64fcb",
   "metadata": {},
   "outputs": [
    {
     "data": {
      "text/plain": [
       "50.24"
      ]
     },
     "execution_count": 23,
     "metadata": {},
     "output_type": "execute_result"
    }
   ],
   "source": [
    "area(4,3.14)"
   ]
  },
  {
   "cell_type": "code",
   "execution_count": 24,
   "id": "882927b8-d47c-4d05-98aa-96ef6c8869c8",
   "metadata": {},
   "outputs": [],
   "source": [
    "# find the leap year\n",
    "leap = lambda x: x%400==0 and x%100!=0 or x%4==0"
   ]
  },
  {
   "cell_type": "code",
   "execution_count": 25,
   "id": "80c0d291-f41f-4eac-a751-9dc0ec2fd04b",
   "metadata": {},
   "outputs": [
    {
     "data": {
      "text/plain": [
       "False"
      ]
     },
     "execution_count": 25,
     "metadata": {},
     "output_type": "execute_result"
    }
   ],
   "source": [
    "leap(2001)"
   ]
  },
  {
   "cell_type": "code",
   "execution_count": 26,
   "id": "22d149e8-4240-4824-a6f8-10e95c931db3",
   "metadata": {},
   "outputs": [],
   "source": [
    "# even and odd\n",
    "even = lambda x: x%2==0 and x%2!=0"
   ]
  },
  {
   "cell_type": "code",
   "execution_count": 28,
   "id": "6e090535-890b-440e-9df0-a4efea4603df",
   "metadata": {},
   "outputs": [
    {
     "data": {
      "text/plain": [
       "False"
      ]
     },
     "execution_count": 28,
     "metadata": {},
     "output_type": "execute_result"
    }
   ],
   "source": [
    "even(5)"
   ]
  },
  {
   "cell_type": "code",
   "execution_count": 29,
   "id": "9782fbf4-4c70-44ee-81b9-4aa4ef4767dc",
   "metadata": {},
   "outputs": [],
   "source": [
    "sql = lambda x : [i**2 for i in x]"
   ]
  },
  {
   "cell_type": "code",
   "execution_count": 30,
   "id": "92107704-6cd5-4fd5-9103-c3bdc6e5a60f",
   "metadata": {},
   "outputs": [
    {
     "data": {
      "text/plain": [
       "[1, 4, 9, 16, 25]"
      ]
     },
     "execution_count": 30,
     "metadata": {},
     "output_type": "execute_result"
    }
   ],
   "source": [
    "sql([1,2,3,4,5])"
   ]
  },
  {
   "cell_type": "markdown",
   "id": "334c6ea4-1051-43fc-b6ee-b73ee1051a57",
   "metadata": {},
   "source": [
    "# fuctional documentataion"
   ]
  },
  {
   "cell_type": "code",
   "execution_count": 31,
   "id": "e20c4311-6e5f-4552-a537-1c6e1cf2adaa",
   "metadata": {},
   "outputs": [],
   "source": [
    "def add(x,y):\n",
    "    \"this function is used to ad two variable\"\n",
    "    return x+y"
   ]
  },
  {
   "cell_type": "code",
   "execution_count": 32,
   "id": "f1d0c2c3-b376-4d1d-9791-b81264bf31cb",
   "metadata": {},
   "outputs": [
    {
     "data": {
      "text/plain": [
       "\u001b[1;31mSignature:\u001b[0m \u001b[0madd\u001b[0m\u001b[1;33m(\u001b[0m\u001b[0mx\u001b[0m\u001b[1;33m,\u001b[0m \u001b[0my\u001b[0m\u001b[1;33m)\u001b[0m\u001b[1;33m\u001b[0m\u001b[1;33m\u001b[0m\u001b[0m\n",
       "\u001b[1;31mDocstring:\u001b[0m <no docstring>\n",
       "\u001b[1;31mFile:\u001b[0m      c:\\users\\adity\\appdata\\local\\temp\\ipykernel_7132\\263730053.py\n",
       "\u001b[1;31mType:\u001b[0m      function"
      ]
     },
     "metadata": {},
     "output_type": "display_data"
    }
   ],
   "source": [
    "?add"
   ]
  },
  {
   "cell_type": "code",
   "execution_count": 33,
   "id": "c3aef555-becf-4206-8712-9e8a6a5ec8c7",
   "metadata": {},
   "outputs": [],
   "source": [
    "def total(*a):\n",
    "    return a"
   ]
  },
  {
   "cell_type": "code",
   "execution_count": 34,
   "id": "965acce9-3df7-445b-a2f3-0889cba9e86b",
   "metadata": {},
   "outputs": [
    {
     "data": {
      "text/plain": [
       "(1, 2, 3, 4, 5, 6, 7)"
      ]
     },
     "execution_count": 34,
     "metadata": {},
     "output_type": "execute_result"
    }
   ],
   "source": [
    "total(1,2,3,4,5,6,7)"
   ]
  },
  {
   "cell_type": "code",
   "execution_count": 39,
   "id": "5626d78f-9557-40c7-b31e-76d9792c74f8",
   "metadata": {},
   "outputs": [],
   "source": [
    "def total(*a):\n",
    "    t = 0\n",
    "    for i in a:\n",
    "        t+=i\n",
    "    return t"
   ]
  },
  {
   "cell_type": "code",
   "execution_count": 40,
   "id": "692d4ff2-3c71-4170-b187-508e512781be",
   "metadata": {},
   "outputs": [
    {
     "data": {
      "text/plain": [
       "15"
      ]
     },
     "execution_count": 40,
     "metadata": {},
     "output_type": "execute_result"
    }
   ],
   "source": [
    "total(1,2,3,4,5)"
   ]
  },
  {
   "cell_type": "code",
   "execution_count": 42,
   "id": "182932a7-c72c-42dc-9453-8f9afd948819",
   "metadata": {},
   "outputs": [],
   "source": [
    "def kk(*k):\n",
    "    return k"
   ]
  },
  {
   "cell_type": "code",
   "execution_count": 43,
   "id": "d0a02765-c08d-419a-87a4-7d52a7967152",
   "metadata": {},
   "outputs": [
    {
     "data": {
      "text/plain": [
       "([1, 2, 3, 4], [7, 8, 9], [10])"
      ]
     },
     "execution_count": 43,
     "metadata": {},
     "output_type": "execute_result"
    }
   ],
   "source": [
    "kk([1,2,3,4],[7,8,9],[10])\n"
   ]
  },
  {
   "cell_type": "code",
   "execution_count": 44,
   "id": "bdd7a893-3dfc-4b29-9563-504419a9e21d",
   "metadata": {},
   "outputs": [],
   "source": [
    "f = ([1,2,3,4],[7,8,9],[10])"
   ]
  },
  {
   "cell_type": "code",
   "execution_count": 46,
   "id": "e189b94e-7cfc-476a-85d5-3455b846693b",
   "metadata": {},
   "outputs": [
    {
     "name": "stdout",
     "output_type": "stream",
     "text": [
      "44\n"
     ]
    }
   ],
   "source": [
    "g = 0\n",
    "for i in f:\n",
    "    for j in i:\n",
    "        g=g+j\n",
    "print(g)"
   ]
  },
  {
   "cell_type": "code",
   "execution_count": null,
   "id": "f9c1af55-2bb2-4f09-a7dd-a6674afcc297",
   "metadata": {},
   "outputs": [],
   "source": []
  }
 ],
 "metadata": {
  "kernelspec": {
   "display_name": "Python 3 (ipykernel)",
   "language": "python",
   "name": "python3"
  },
  "language_info": {
   "codemirror_mode": {
    "name": "ipython",
    "version": 3
   },
   "file_extension": ".py",
   "mimetype": "text/x-python",
   "name": "python",
   "nbconvert_exporter": "python",
   "pygments_lexer": "ipython3",
   "version": "3.12.4"
  }
 },
 "nbformat": 4,
 "nbformat_minor": 5
}
