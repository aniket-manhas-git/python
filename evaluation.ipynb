{
 "cells": [
  {
   "cell_type": "markdown",
   "id": "d37944ce-b2ba-4486-9480-083d8a0855ba",
   "metadata": {},
   "source": [
    "### a)Write a program that accepts the length of three sides of a triangle as inputs. The program should indicate whether or not the triangle is a right-angled triangle.(use pgt) also find out its area using Heron's formula."
   ]
  },
  {
   "cell_type": "code",
   "execution_count": 10,
   "id": "208668b8-82f1-41b6-acab-5d0afb7e88ee",
   "metadata": {},
   "outputs": [
    {
     "name": "stdin",
     "output_type": "stream",
     "text": [
      "enter first side 3\n",
      "enter second side 4\n",
      "enter third side 5\n"
     ]
    },
    {
     "name": "stdout",
     "output_type": "stream",
     "text": [
      "it is a right angled triangle\n",
      "area is :  6.0\n"
     ]
    }
   ],
   "source": [
    "def triangle_function():\n",
    "    a=float(input('enter first side'))\n",
    "    b=float(input('enter second side'))\n",
    "    c=float(input('enter third side'))\n",
    "    lis=[a,b,c]\n",
    "    h=lis[-1]\n",
    "    l=lis[1]\n",
    "    t=lis[0]\n",
    "    if (h**2)==(l**2)+(t**2):\n",
    "        print('it is a right angled triangle')\n",
    "    else:\n",
    "        print('it is not a right angled triangle')\n",
    "    s=(h+l+t)/2\n",
    "    area=(s*(s-h)*(s-l)*(s-t))**(1/2)\n",
    "    print('area is : ',area)\n",
    "\n",
    "triangle_function()"
   ]
  },
  {
   "cell_type": "code",
   "execution_count": null,
   "id": "dd3eb2c0-8782-4c5c-8074-200ddc914376",
   "metadata": {},
   "outputs": [],
   "source": []
  },
  {
   "cell_type": "markdown",
   "id": "a6ce03ee-022f-4251-a942-2deb38517790",
   "metadata": {},
   "source": [
    "### b) Write a program to count the number of vowels in a string"
   ]
  },
  {
   "cell_type": "code",
   "execution_count": 17,
   "id": "638bd5d4-9f0e-4225-a51e-f59b65d10901",
   "metadata": {},
   "outputs": [
    {
     "name": "stdout",
     "output_type": "stream",
     "text": [
      "3\n"
     ]
    }
   ],
   "source": [
    "def isVowel(ch): \n",
    "    return ch.upper() in ['A', 'E', 'I', 'O', 'U']\n",
    "def countVowels(str): \n",
    "    count = 0\n",
    "    for i in range(len(str)): \n",
    "        if isVowel(str[i]): \n",
    "            count += 1\n",
    "    return count \n",
    "str = 'Aniket' \n",
    "print(countVowels(str)) "
   ]
  },
  {
   "cell_type": "code",
   "execution_count": null,
   "id": "e85c05ec-cff9-4a52-a052-19556c0707cb",
   "metadata": {},
   "outputs": [],
   "source": []
  }
 ],
 "metadata": {
  "kernelspec": {
   "display_name": "Python 3 (ipykernel)",
   "language": "python",
   "name": "python3"
  },
  "language_info": {
   "codemirror_mode": {
    "name": "ipython",
    "version": 3
   },
   "file_extension": ".py",
   "mimetype": "text/x-python",
   "name": "python",
   "nbconvert_exporter": "python",
   "pygments_lexer": "ipython3",
   "version": "3.12.4"
  }
 },
 "nbformat": 4,
 "nbformat_minor": 5
}
