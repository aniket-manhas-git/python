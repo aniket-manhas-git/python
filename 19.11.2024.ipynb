{
 "cells": [
  {
   "cell_type": "markdown",
   "id": "a7fd6d84-e733-4078-89db-bc6175b40eb5",
   "metadata": {},
   "source": [
    "### Private and Public variables and methods"
   ]
  },
  {
   "cell_type": "code",
   "execution_count": 1,
   "id": "9a5769ca-ba5d-4b96-a6a6-2a188e09b16c",
   "metadata": {},
   "outputs": [],
   "source": [
    "class A:\n",
    "    df=\"data\""
   ]
  },
  {
   "cell_type": "code",
   "execution_count": 2,
   "id": "0a39fec6-8b1e-4548-9acc-9614348c51db",
   "metadata": {},
   "outputs": [],
   "source": [
    "a=A()"
   ]
  },
  {
   "cell_type": "code",
   "execution_count": 5,
   "id": "ace2993b-4933-494b-8161-e173dfca5095",
   "metadata": {},
   "outputs": [
    {
     "data": {
      "text/plain": [
       "'data'"
      ]
     },
     "execution_count": 5,
     "metadata": {},
     "output_type": "execute_result"
    }
   ],
   "source": [
    "a.df"
   ]
  },
  {
   "cell_type": "code",
   "execution_count": 6,
   "id": "71f3f09d-82f3-4387-a184-2e751de6e73a",
   "metadata": {},
   "outputs": [],
   "source": [
    "a.df=\"data 2.0\""
   ]
  },
  {
   "cell_type": "code",
   "execution_count": 7,
   "id": "2dab5065-a719-4b69-b55e-81e538222667",
   "metadata": {},
   "outputs": [
    {
     "data": {
      "text/plain": [
       "'data 2.0'"
      ]
     },
     "execution_count": 7,
     "metadata": {},
     "output_type": "execute_result"
    }
   ],
   "source": [
    "a.df"
   ]
  },
  {
   "cell_type": "code",
   "execution_count": 12,
   "id": "b5bbb0d4-2556-4815-be25-c72089f915a4",
   "metadata": {},
   "outputs": [],
   "source": [
    "class Private:\n",
    "    __name=\"Aniket Manhas\"       #double underscore for private \n",
    "    name=\"new\""
   ]
  },
  {
   "cell_type": "code",
   "execution_count": 13,
   "id": "47e87acc-a1b7-4570-b8ba-84a0d363878f",
   "metadata": {},
   "outputs": [],
   "source": [
    "p=Private()"
   ]
  },
  {
   "cell_type": "code",
   "execution_count": 16,
   "id": "d74f347e-0208-4106-b979-fdabf249db7a",
   "metadata": {},
   "outputs": [
    {
     "name": "stdout",
     "output_type": "stream",
     "text": [
      "Help on Private in module __main__ object:\n",
      "\n",
      "class Private(builtins.object)\n",
      " |  Data descriptors defined here:\n",
      " |\n",
      " |  __dict__\n",
      " |      dictionary for instance variables\n",
      " |\n",
      " |  __weakref__\n",
      " |      list of weak references to the object\n",
      " |\n",
      " |  ----------------------------------------------------------------------\n",
      " |  Data and other attributes defined here:\n",
      " |\n",
      " |  name = 'new'\n",
      "\n"
     ]
    }
   ],
   "source": [
    "help(Private())"
   ]
  },
  {
   "cell_type": "code",
   "execution_count": 17,
   "id": "696d24cb-9dbf-44a7-9a6c-606021b8f46e",
   "metadata": {},
   "outputs": [
    {
     "data": {
      "text/plain": [
       "'new'"
      ]
     },
     "execution_count": 17,
     "metadata": {},
     "output_type": "execute_result"
    }
   ],
   "source": [
    "p.name"
   ]
  },
  {
   "cell_type": "code",
   "execution_count": 25,
   "id": "8e347c92-629a-4b9e-b5ce-e2dc19ae3018",
   "metadata": {},
   "outputs": [],
   "source": [
    "class Student:\n",
    "    __name=\"Aniket\"\n",
    "    name=\"Aditya\"\n",
    "    def show(self):\n",
    "        return self.__name\n",
    "    def show1(self):\n",
    "        return self.name"
   ]
  },
  {
   "cell_type": "code",
   "execution_count": 26,
   "id": "ee5476f3-ac24-464f-8d5c-2ca4c82de8ec",
   "metadata": {},
   "outputs": [],
   "source": [
    "s=Student()"
   ]
  },
  {
   "cell_type": "code",
   "execution_count": 27,
   "id": "4a51cfce-a863-45f2-9dbe-554e1ee00339",
   "metadata": {},
   "outputs": [
    {
     "data": {
      "text/plain": [
       "'Aniket'"
      ]
     },
     "execution_count": 27,
     "metadata": {},
     "output_type": "execute_result"
    }
   ],
   "source": [
    "s.show()"
   ]
  },
  {
   "cell_type": "code",
   "execution_count": 28,
   "id": "69990c63-c44f-411c-a3df-5e715bf893d3",
   "metadata": {},
   "outputs": [
    {
     "data": {
      "text/plain": [
       "'Aditya'"
      ]
     },
     "execution_count": 28,
     "metadata": {},
     "output_type": "execute_result"
    }
   ],
   "source": [
    "s.show1()"
   ]
  },
  {
   "cell_type": "code",
   "execution_count": 29,
   "id": "3683a36b-2fa5-4d2e-860d-9d66bf55a4cd",
   "metadata": {},
   "outputs": [],
   "source": [
    "class A:\n",
    "    def __show(self):\n",
    "        return 88\n",
    "    def hh(self):\n",
    "        return 90"
   ]
  },
  {
   "cell_type": "code",
   "execution_count": 30,
   "id": "d7c7c4aa-5550-485f-974f-e35e38d0b3a9",
   "metadata": {},
   "outputs": [],
   "source": [
    "a=A()"
   ]
  },
  {
   "cell_type": "code",
   "execution_count": 31,
   "id": "85f9a66d-3ce5-43c8-97eb-773f2371892a",
   "metadata": {},
   "outputs": [
    {
     "ename": "AttributeError",
     "evalue": "'A' object has no attribute '__show'",
     "output_type": "error",
     "traceback": [
      "\u001b[1;31m---------------------------------------------------------------------------\u001b[0m",
      "\u001b[1;31mAttributeError\u001b[0m                            Traceback (most recent call last)",
      "Cell \u001b[1;32mIn[31], line 1\u001b[0m\n\u001b[1;32m----> 1\u001b[0m \u001b[43ma\u001b[49m\u001b[38;5;241;43m.\u001b[39;49m\u001b[43m__show\u001b[49m()  \u001b[38;5;66;03m#gives error because show is private function\u001b[39;00m\n",
      "\u001b[1;31mAttributeError\u001b[0m: 'A' object has no attribute '__show'"
     ]
    }
   ],
   "source": [
    "a.__show()  #gives error because show is private function"
   ]
  },
  {
   "cell_type": "code",
   "execution_count": 32,
   "id": "c4c18220-51ee-432f-861c-c3f2bfcd3a7e",
   "metadata": {},
   "outputs": [
    {
     "data": {
      "text/plain": [
       "90"
      ]
     },
     "execution_count": 32,
     "metadata": {},
     "output_type": "execute_result"
    }
   ],
   "source": [
    "a.hh()"
   ]
  },
  {
   "cell_type": "code",
   "execution_count": 33,
   "id": "7298d031-2c9e-46c0-8142-c67ae186c72f",
   "metadata": {},
   "outputs": [],
   "source": [
    "class W:\n",
    "    def total(self):\n",
    "        return 88\n",
    "    def total2(self):\n",
    "        return 100+W.total(self)"
   ]
  },
  {
   "cell_type": "code",
   "execution_count": 34,
   "id": "11b924a1-48f7-4dd6-a76e-94a7b21eb46a",
   "metadata": {},
   "outputs": [
    {
     "data": {
      "text/plain": [
       "188"
      ]
     },
     "execution_count": 34,
     "metadata": {},
     "output_type": "execute_result"
    }
   ],
   "source": [
    "w=W()\n",
    "w.total2()"
   ]
  },
  {
   "cell_type": "code",
   "execution_count": null,
   "id": "ca08c9e5-76f8-4af5-b68a-d165f07d1189",
   "metadata": {},
   "outputs": [],
   "source": [
    "class coll(tec=55,stu=99,fees=15000):"
   ]
  },
  {
   "cell_type": "code",
   "execution_count": null,
   "id": "3e7a100d-737c-434d-9db9-f2cbc492a3e8",
   "metadata": {},
   "outputs": [],
   "source": []
  },
  {
   "cell_type": "code",
   "execution_count": 94,
   "id": "a43b8ef9-acc5-4812-bdfb-956764b9a6f1",
   "metadata": {},
   "outputs": [],
   "source": [
    "class Collage():\n",
    "    def __init__(self,building,floor,room):\n",
    "        self.building=building\n",
    "        self.floor=floor\n",
    "        self.room=room\n",
    "    def show_info(self):\n",
    "        print(\"Building :\",self.building)\n",
    "        print(\"Floor :\",self.floor)\n",
    "        print(\"Room :\",self.room)"
   ]
  },
  {
   "cell_type": "code",
   "execution_count": 96,
   "id": "345f1786-9a51-46de-a925-5616224159a3",
   "metadata": {},
   "outputs": [],
   "source": [
    "c=Collage(10,33,55)"
   ]
  },
  {
   "cell_type": "code",
   "execution_count": 97,
   "id": "1a76e594-afb3-4272-b9a1-d9f25fc25b76",
   "metadata": {},
   "outputs": [
    {
     "name": "stdout",
     "output_type": "stream",
     "text": [
      "Building : 10\n",
      "Floor : 33\n",
      "Room : 55\n"
     ]
    }
   ],
   "source": [
    "c.show_info()"
   ]
  },
  {
   "cell_type": "code",
   "execution_count": 105,
   "id": "ab710d5c-631f-4ae3-aebd-ce59381c44fa",
   "metadata": {},
   "outputs": [],
   "source": [
    "class Collage2(Collage):\n",
    "    def __init__(self,building,floor,room,teachers,students,fees):\n",
    "        super().__init__(building,floor,room)\n",
    "        self.teachers=teachers\n",
    "        self.students=students\n",
    "        self.fees=fees\n",
    "    def full_info(self):\n",
    "        Collage.show_info(self)\n",
    "        print(\"Teachers :\",self.teachers)\n",
    "        print(\"Students :\",self.students)\n",
    "        print(\"Fees :\",self.fees)\n",
    "    "
   ]
  },
  {
   "cell_type": "code",
   "execution_count": 106,
   "id": "b5a24095-73d1-4f1f-8071-8a0856d0f96b",
   "metadata": {},
   "outputs": [],
   "source": [
    "c1=Collage2(11,33,22,323,33,13300)"
   ]
  },
  {
   "cell_type": "code",
   "execution_count": 107,
   "id": "016631b3-1052-44bb-8b67-db3d2b386da2",
   "metadata": {},
   "outputs": [
    {
     "name": "stdout",
     "output_type": "stream",
     "text": [
      "Building : 11\n",
      "Floor : 33\n",
      "Room : 22\n",
      "Teachers : 323\n",
      "Students : 33\n",
      "Fees : 13300\n"
     ]
    }
   ],
   "source": [
    "c1.full_info()"
   ]
  },
  {
   "cell_type": "code",
   "execution_count": null,
   "id": "74c4522b-97d3-4615-87a5-ef683c471fe1",
   "metadata": {},
   "outputs": [],
   "source": []
  },
  {
   "cell_type": "code",
   "execution_count": null,
   "id": "bfc4557e-5558-425f-b169-9682a983620b",
   "metadata": {},
   "outputs": [],
   "source": []
  }
 ],
 "metadata": {
  "kernelspec": {
   "display_name": "Python 3 (ipykernel)",
   "language": "python",
   "name": "python3"
  },
  "language_info": {
   "codemirror_mode": {
    "name": "ipython",
    "version": 3
   },
   "file_extension": ".py",
   "mimetype": "text/x-python",
   "name": "python",
   "nbconvert_exporter": "python",
   "pygments_lexer": "ipython3",
   "version": "3.12.4"
  }
 },
 "nbformat": 4,
 "nbformat_minor": 5
}
