{
 "cells": [
  {
   "cell_type": "markdown",
   "id": "f18f73c4-2c69-4d2d-b4f7-80c18f976f57",
   "metadata": {},
   "source": [
    "# Class"
   ]
  },
  {
   "cell_type": "code",
   "execution_count": 4,
   "id": "d8d26304-2f49-4ba0-8eb2-a408fed5a52e",
   "metadata": {},
   "outputs": [],
   "source": [
    "class Car:\n",
    "    wheels=4\n",
    "    door=2\n",
    "    name='audi'\n",
    "    engine_size='1.5 lr'\n",
    "    color='Black'"
   ]
  },
  {
   "cell_type": "code",
   "execution_count": 5,
   "id": "772612e3-8dda-4c12-b97b-b02db3baa81b",
   "metadata": {},
   "outputs": [],
   "source": [
    "c=Car()"
   ]
  },
  {
   "cell_type": "code",
   "execution_count": 7,
   "id": "5f038007-ee55-45cf-a036-b9015d77f3ad",
   "metadata": {},
   "outputs": [
    {
     "name": "stdout",
     "output_type": "stream",
     "text": [
      "Wheels 4\n",
      "Door 2\n",
      "Name audi\n",
      "Engine Size 1.5 lr\n",
      "Color Black\n"
     ]
    }
   ],
   "source": [
    "print(\"Wheels\",c.wheels)\n",
    "print(\"Door\",c.door)\n",
    "print(\"Name\",c.name)\n",
    "print(\"Engine Size\",c.engine_size)\n",
    "print(\"Color\",c.color)"
   ]
  },
  {
   "cell_type": "code",
   "execution_count": 11,
   "id": "04aca9cd-60b9-446a-be7c-c5518ab45308",
   "metadata": {},
   "outputs": [],
   "source": [
    "c.door=4"
   ]
  },
  {
   "cell_type": "code",
   "execution_count": 12,
   "id": "5a7e5cd5-5d63-4560-bc10-2946adc9e656",
   "metadata": {},
   "outputs": [
    {
     "data": {
      "text/plain": [
       "4"
      ]
     },
     "execution_count": 12,
     "metadata": {},
     "output_type": "execute_result"
    }
   ],
   "source": [
    "c.door"
   ]
  },
  {
   "cell_type": "code",
   "execution_count": 15,
   "id": "764245fc-9d0a-4f73-aaad-807dd979365e",
   "metadata": {},
   "outputs": [
    {
     "name": "stdout",
     "output_type": "stream",
     "text": [
      "Help on class Car in module __main__:\n",
      "\n",
      "class Car(builtins.object)\n",
      " |  Data descriptors defined here:\n",
      " |\n",
      " |  __dict__\n",
      " |      dictionary for instance variables\n",
      " |\n",
      " |  __weakref__\n",
      " |      list of weak references to the object\n",
      " |\n",
      " |  ----------------------------------------------------------------------\n",
      " |  Data and other attributes defined here:\n",
      " |\n",
      " |  color = 'Black'\n",
      " |\n",
      " |  door = 2\n",
      " |\n",
      " |  engine_size = '1.5 lr'\n",
      " |\n",
      " |  name = 'audi'\n",
      " |\n",
      " |  wheels = 4\n",
      "\n"
     ]
    }
   ],
   "source": [
    "help(Car)"
   ]
  },
  {
   "cell_type": "markdown",
   "id": "7352f5fb-96ea-405f-aa61-33504454972b",
   "metadata": {},
   "source": [
    "# Instance"
   ]
  },
  {
   "cell_type": "code",
   "execution_count": 38,
   "id": "637b5281-d9dc-4a6c-95e9-abe91e408a15",
   "metadata": {},
   "outputs": [],
   "source": [
    "class Room:\n",
    "    door=2\n",
    "    window=4\n",
    "    walls=4\n",
    "    fan=3\n",
    "    length=20\n",
    "    breath=30\n",
    "\n",
    "    def show_details(self):\n",
    "        print(\"Door\",self.door)\n",
    "        print(\"Window\",self.window)\n",
    "        print(\"Walls\",self.walls)\n",
    "        print(\"Fans\",self.fan)\n",
    "        print(\"Length\",self.length)\n",
    "        print(\"Breath\",self.breath)\n",
    "        \n",
    "    def area(self):\n",
    "        return self.length*self.breath"
   ]
  },
  {
   "cell_type": "code",
   "execution_count": 39,
   "id": "57b15de4-560b-4d59-8bb1-ce8e0bda6c66",
   "metadata": {},
   "outputs": [],
   "source": [
    "r1=Room()"
   ]
  },
  {
   "cell_type": "code",
   "execution_count": 40,
   "id": "a9db6953-70d6-4ced-88ba-bfcf1bb0ef08",
   "metadata": {},
   "outputs": [
    {
     "name": "stdout",
     "output_type": "stream",
     "text": [
      "Door 2\n",
      "Window 4\n",
      "Walls 4\n",
      "Fans 3\n",
      "Length 20\n",
      "Breath 30\n"
     ]
    }
   ],
   "source": [
    "r1.show_details()"
   ]
  },
  {
   "cell_type": "code",
   "execution_count": 41,
   "id": "beb87a73-b69a-4d61-b656-f40c25643b94",
   "metadata": {},
   "outputs": [
    {
     "data": {
      "text/plain": [
       "600"
      ]
     },
     "execution_count": 41,
     "metadata": {},
     "output_type": "execute_result"
    }
   ],
   "source": [
    "r1.area()"
   ]
  },
  {
   "cell_type": "code",
   "execution_count": null,
   "id": "a2b34066-ebf0-4523-ae25-e6fa924f2189",
   "metadata": {},
   "outputs": [],
   "source": []
  },
  {
   "cell_type": "code",
   "execution_count": 42,
   "id": "62e51768-4bfb-4fbb-b2d8-9b11291b7691",
   "metadata": {},
   "outputs": [],
   "source": [
    "class College:\n",
    "    teacher=200\n",
    "    student=1500\n",
    "    room=60\n",
    "    building=10\n",
    "    average_salary=3000\n",
    "    average_fee=2500\n",
    "\n",
    "    def toatal_income(self):\n",
    "        return self.avgerage_fee*self.student\n",
    "\n",
    "    def total_exp(self):\n",
    "        return self.teacher*self.average_salary"
   ]
  },
  {
   "cell_type": "code",
   "execution_count": 43,
   "id": "3909ea8b-b9bc-4e4d-a55a-97c8c409ee73",
   "metadata": {},
   "outputs": [],
   "source": [
    "collage_object=College()"
   ]
  },
  {
   "cell_type": "code",
   "execution_count": 44,
   "id": "9deb0a34-0a3a-49c4-89b2-1784894515d3",
   "metadata": {},
   "outputs": [
    {
     "data": {
      "text/plain": [
       "600000"
      ]
     },
     "execution_count": 44,
     "metadata": {},
     "output_type": "execute_result"
    }
   ],
   "source": [
    "collage_object.total_exp()"
   ]
  },
  {
   "cell_type": "code",
   "execution_count": 45,
   "id": "84f6aa06-edab-45fc-8d1d-2ef7fdb52504",
   "metadata": {},
   "outputs": [],
   "source": [
    "class Circle:\n",
    "    r=4\n",
    "    pi=22/7\n",
    "\n",
    "    def area_circle(self):\n",
    "        return self.pi*self.r**2\n",
    "\n",
    "    def cir_circle(self):\n",
    "        return 2*self.pi*self.r"
   ]
  },
  {
   "cell_type": "code",
   "execution_count": 47,
   "id": "23d52ad0-7a4d-4a29-97ad-3899cae40663",
   "metadata": {},
   "outputs": [],
   "source": [
    "c=Circle()"
   ]
  },
  {
   "cell_type": "code",
   "execution_count": 48,
   "id": "c91c9fa4-10d7-4228-8874-83d70b2b3294",
   "metadata": {},
   "outputs": [
    {
     "data": {
      "text/plain": [
       "50.285714285714285"
      ]
     },
     "execution_count": 48,
     "metadata": {},
     "output_type": "execute_result"
    }
   ],
   "source": [
    "c.area_circle()"
   ]
  },
  {
   "cell_type": "code",
   "execution_count": 49,
   "id": "c64f56bf-b166-42fc-ab3b-47d19a8d5923",
   "metadata": {},
   "outputs": [
    {
     "data": {
      "text/plain": [
       "12.571428571428571"
      ]
     },
     "execution_count": 49,
     "metadata": {},
     "output_type": "execute_result"
    }
   ],
   "source": [
    "c.r=2\n",
    "c.area_circle()"
   ]
  },
  {
   "cell_type": "code",
   "execution_count": null,
   "id": "0ddc35c1-3b42-4a60-81bd-76d4d4874756",
   "metadata": {},
   "outputs": [],
   "source": []
  },
  {
   "cell_type": "markdown",
   "id": "ebf242a2-e617-4aa8-9797-a21a5ddfb999",
   "metadata": {},
   "source": [
    "# Instance Variables"
   ]
  },
  {
   "cell_type": "code",
   "execution_count": 51,
   "id": "3cac5431-ef15-4aba-973e-03cdf9c68765",
   "metadata": {},
   "outputs": [],
   "source": [
    "class Student:\n",
    "    def details(self,name,age,id,subject):\n",
    "        self.name=name\n",
    "        self.age=age\n",
    "        self.id=id\n",
    "        self.subject=subject\n",
    "\n",
    "    def show_details(self):\n",
    "        print(self.name)\n",
    "        print(self.age)\n",
    "        print(self.id)\n",
    "        print(self.subject)\n",
    "        "
   ]
  },
  {
   "cell_type": "code",
   "execution_count": 54,
   "id": "473d3dc7-3ed5-4b6c-8e47-3545b67662a8",
   "metadata": {},
   "outputs": [],
   "source": [
    "s1=Student()"
   ]
  },
  {
   "cell_type": "code",
   "execution_count": 55,
   "id": "33cd25bc-7cde-4f1d-ad1a-6c5797dbb87e",
   "metadata": {},
   "outputs": [],
   "source": [
    "s1.details('Aniket Manhas',21,'2022a1r148','Python')"
   ]
  },
  {
   "cell_type": "code",
   "execution_count": 56,
   "id": "5375beb5-34b2-4d5b-b7a8-ec3d8c60245f",
   "metadata": {},
   "outputs": [
    {
     "name": "stdout",
     "output_type": "stream",
     "text": [
      "Aniket Manhas\n",
      "21\n",
      "2022a1r148\n",
      "Python\n"
     ]
    }
   ],
   "source": [
    "s1.show_details()"
   ]
  },
  {
   "cell_type": "code",
   "execution_count": null,
   "id": "03a235bc-c30f-4c2b-9a0a-ad3f6a7bd94c",
   "metadata": {},
   "outputs": [],
   "source": []
  },
  {
   "cell_type": "code",
   "execution_count": 57,
   "id": "f991c690-b53b-4b50-9c49-13d31dec8d74",
   "metadata": {},
   "outputs": [],
   "source": [
    "class St:\n",
    "    name='Sam'\n",
    "    age=21\n",
    "    id='Nil'\n",
    "    subject='English'\n",
    "\n",
    "    def details(self,name,age,id,subject):\n",
    "        self.name=name\n",
    "        self.age=age\n",
    "        self.id=id\n",
    "        self.subject=subject\n",
    "\n",
    "    def show_details(self):\n",
    "        print(self.name)\n",
    "        print(self.age)\n",
    "        print(self.id)\n",
    "        print(self.subject)"
   ]
  },
  {
   "cell_type": "code",
   "execution_count": 58,
   "id": "24836754-b94a-4a7c-a514-21bdf279bd0e",
   "metadata": {},
   "outputs": [],
   "source": [
    "s2=St()"
   ]
  },
  {
   "cell_type": "code",
   "execution_count": 59,
   "id": "2aa7091a-9985-4182-ab25-35f35b8a0e37",
   "metadata": {},
   "outputs": [
    {
     "name": "stdout",
     "output_type": "stream",
     "text": [
      "Sam\n",
      "21\n",
      "Nil\n",
      "English\n"
     ]
    }
   ],
   "source": [
    "s2.show_details()"
   ]
  },
  {
   "cell_type": "code",
   "execution_count": null,
   "id": "7c10de5d-a87e-4080-b7f2-d3be593d4751",
   "metadata": {},
   "outputs": [],
   "source": []
  },
  {
   "cell_type": "markdown",
   "id": "105dbcb5-362b-4b14-8514-67b8b1f03699",
   "metadata": {},
   "source": [
    "### Question"
   ]
  },
  {
   "cell_type": "markdown",
   "id": "82b8b0d5-a880-4c7b-859e-c634d8318d6c",
   "metadata": {},
   "source": [
    "create a class name it marksheet\n",
    "where u have to add 4 studnet's name\n",
    "and create 3 instances\n",
    "1. min_score\n",
    "2. max_score\n",
    "3. avg_score"
   ]
  },
  {
   "cell_type": "code",
   "execution_count": 76,
   "id": "4c5de1a9-e598-41aa-ad84-619c7bb91588",
   "metadata": {},
   "outputs": [],
   "source": [
    "class Marksheet:\n",
    "    student_marks=[101,203,333,199]\n",
    "\n",
    "    def min_score(self):\n",
    "        return min(self.student_marks)\n",
    "    \n",
    "    def max_score(self):\n",
    "        return max(self.student_marks)\n",
    "\n",
    "    def avg_score(self):\n",
    "        sum=0\n",
    "        length=4\n",
    "        for i in self.student_marks:\n",
    "            sum+=i\n",
    "\n",
    "        return sum/length"
   ]
  },
  {
   "cell_type": "code",
   "execution_count": 77,
   "id": "a1d95a5f-f599-49f1-a507-323ae95b6a7e",
   "metadata": {},
   "outputs": [],
   "source": [
    "m1=Marksheet()"
   ]
  },
  {
   "cell_type": "code",
   "execution_count": 78,
   "id": "6a8b3c89-3ea9-455a-a261-fb01509b6406",
   "metadata": {},
   "outputs": [
    {
     "data": {
      "text/plain": [
       "101"
      ]
     },
     "execution_count": 78,
     "metadata": {},
     "output_type": "execute_result"
    }
   ],
   "source": [
    "m1.min_score()"
   ]
  },
  {
   "cell_type": "code",
   "execution_count": 79,
   "id": "a3ac3405-2cdd-4782-8306-81954a605626",
   "metadata": {},
   "outputs": [
    {
     "data": {
      "text/plain": [
       "333"
      ]
     },
     "execution_count": 79,
     "metadata": {},
     "output_type": "execute_result"
    }
   ],
   "source": [
    "m1.max_score()"
   ]
  },
  {
   "cell_type": "code",
   "execution_count": 80,
   "id": "df572587-a10b-472d-950c-9fb93228c35e",
   "metadata": {},
   "outputs": [
    {
     "data": {
      "text/plain": [
       "209.0"
      ]
     },
     "execution_count": 80,
     "metadata": {},
     "output_type": "execute_result"
    }
   ],
   "source": [
    "m1.avg_score()"
   ]
  },
  {
   "cell_type": "markdown",
   "id": "b6ede3fc-e6cc-49ae-95cf-0cc661a1ef6f",
   "metadata": {},
   "source": [
    "Write a program to reverse each kth row in matrix"
   ]
  },
  {
   "cell_type": "code",
   "execution_count": 94,
   "id": "aeeab9bb-372b-420c-9b73-a7fc2fdf0dea",
   "metadata": {},
   "outputs": [],
   "source": [
    "m=[\n",
    "    [1,2,3],\n",
    "    [4,5,6],\n",
    "    [7,8,9],\n",
    "    [10,11,12]\n",
    "]\n"
   ]
  },
  {
   "cell_type": "code",
   "execution_count": 90,
   "id": "2b2a1443-540b-4082-905d-0ed927a2394a",
   "metadata": {},
   "outputs": [
    {
     "name": "stdin",
     "output_type": "stream",
     "text": [
      " 2\n"
     ]
    }
   ],
   "source": [
    "n=int(input())\n",
    "m[n]= m[n].reverse()"
   ]
  },
  {
   "cell_type": "code",
   "execution_count": 91,
   "id": "27a75aa0-491b-44da-9e4e-71d7b4f748f1",
   "metadata": {},
   "outputs": [
    {
     "data": {
      "text/plain": [
       "[[1, 2, 3], [4, 5, 6], None, [10, 11, 12]]"
      ]
     },
     "execution_count": 91,
     "metadata": {},
     "output_type": "execute_result"
    }
   ],
   "source": [
    "m"
   ]
  },
  {
   "cell_type": "code",
   "execution_count": 95,
   "id": "18e43825-29a5-40cc-a3c0-6bbb5aa7ef1e",
   "metadata": {},
   "outputs": [],
   "source": [
    "m[n].reverse()"
   ]
  },
  {
   "cell_type": "code",
   "execution_count": null,
   "id": "e5c82828-2c32-464c-9b55-7088baafd08a",
   "metadata": {},
   "outputs": [],
   "source": []
  }
 ],
 "metadata": {
  "kernelspec": {
   "display_name": "Python 3 (ipykernel)",
   "language": "python",
   "name": "python3"
  },
  "language_info": {
   "codemirror_mode": {
    "name": "ipython",
    "version": 3
   },
   "file_extension": ".py",
   "mimetype": "text/x-python",
   "name": "python",
   "nbconvert_exporter": "python",
   "pygments_lexer": "ipython3",
   "version": "3.12.4"
  }
 },
 "nbformat": 4,
 "nbformat_minor": 5
}
